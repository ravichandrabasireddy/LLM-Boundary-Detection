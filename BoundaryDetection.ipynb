{
  "nbformat": 4,
  "nbformat_minor": 0,
  "metadata": {
    "colab": {
      "provenance": [],
      "collapsed_sections": [
        "VWbwUP80rf7Q",
        "6ydgiPGZsTQO"
      ],
      "toc_visible": true,
      "machine_shape": "hm",
      "include_colab_link": true
    },
    "kernelspec": {
      "name": "python3",
      "display_name": "Python 3"
    },
    "language_info": {
      "name": "python"
    },
    "accelerator": "GPU",
    "gpuClass": "standard",
    "widgets": {
      "application/vnd.jupyter.widget-state+json": {
        "1e8c4328e4c94dd8bb1d973eaebc490d": {
          "model_module": "@jupyter-widgets/controls",
          "model_name": "HBoxModel",
          "model_module_version": "1.5.0",
          "state": {
            "_dom_classes": [],
            "_model_module": "@jupyter-widgets/controls",
            "_model_module_version": "1.5.0",
            "_model_name": "HBoxModel",
            "_view_count": null,
            "_view_module": "@jupyter-widgets/controls",
            "_view_module_version": "1.5.0",
            "_view_name": "HBoxView",
            "box_style": "",
            "children": [
              "IPY_MODEL_bd1c68cd7fdd4c32adc11c810cf0e98f",
              "IPY_MODEL_fd1b00a686e94e0c9530b6fc481f1ee7",
              "IPY_MODEL_c5309f128f6c4c499b6ffddc577c9ab1"
            ],
            "layout": "IPY_MODEL_bb39fd426dde4f449464e45483acf315"
          }
        },
        "bd1c68cd7fdd4c32adc11c810cf0e98f": {
          "model_module": "@jupyter-widgets/controls",
          "model_name": "HTMLModel",
          "model_module_version": "1.5.0",
          "state": {
            "_dom_classes": [],
            "_model_module": "@jupyter-widgets/controls",
            "_model_module_version": "1.5.0",
            "_model_name": "HTMLModel",
            "_view_count": null,
            "_view_module": "@jupyter-widgets/controls",
            "_view_module_version": "1.5.0",
            "_view_name": "HTMLView",
            "description": "",
            "description_tooltip": null,
            "layout": "IPY_MODEL_00fff9616569462aa89485f7977f0975",
            "placeholder": "​",
            "style": "IPY_MODEL_5b70f89a7d704741a824523b5ac6b3d7",
            "value": "Downloading (…)nce_bert_config.json: 100%"
          }
        },
        "fd1b00a686e94e0c9530b6fc481f1ee7": {
          "model_module": "@jupyter-widgets/controls",
          "model_name": "FloatProgressModel",
          "model_module_version": "1.5.0",
          "state": {
            "_dom_classes": [],
            "_model_module": "@jupyter-widgets/controls",
            "_model_module_version": "1.5.0",
            "_model_name": "FloatProgressModel",
            "_view_count": null,
            "_view_module": "@jupyter-widgets/controls",
            "_view_module_version": "1.5.0",
            "_view_name": "ProgressView",
            "bar_style": "success",
            "description": "",
            "description_tooltip": null,
            "layout": "IPY_MODEL_79851d17a65f4dbfbf73bc3d30067e84",
            "max": 52,
            "min": 0,
            "orientation": "horizontal",
            "style": "IPY_MODEL_68a838d6c20346169fd99a78f17da5e8",
            "value": 52
          }
        },
        "c5309f128f6c4c499b6ffddc577c9ab1": {
          "model_module": "@jupyter-widgets/controls",
          "model_name": "HTMLModel",
          "model_module_version": "1.5.0",
          "state": {
            "_dom_classes": [],
            "_model_module": "@jupyter-widgets/controls",
            "_model_module_version": "1.5.0",
            "_model_name": "HTMLModel",
            "_view_count": null,
            "_view_module": "@jupyter-widgets/controls",
            "_view_module_version": "1.5.0",
            "_view_name": "HTMLView",
            "description": "",
            "description_tooltip": null,
            "layout": "IPY_MODEL_3a7344cf8c184e57aa43e0fc4e524ccd",
            "placeholder": "​",
            "style": "IPY_MODEL_aa0399235d6044d5874da7f10b86224b",
            "value": " 52.0/52.0 [00:00&lt;00:00, 2.03kB/s]"
          }
        },
        "bb39fd426dde4f449464e45483acf315": {
          "model_module": "@jupyter-widgets/base",
          "model_name": "LayoutModel",
          "model_module_version": "1.2.0",
          "state": {
            "_model_module": "@jupyter-widgets/base",
            "_model_module_version": "1.2.0",
            "_model_name": "LayoutModel",
            "_view_count": null,
            "_view_module": "@jupyter-widgets/base",
            "_view_module_version": "1.2.0",
            "_view_name": "LayoutView",
            "align_content": null,
            "align_items": null,
            "align_self": null,
            "border": null,
            "bottom": null,
            "display": null,
            "flex": null,
            "flex_flow": null,
            "grid_area": null,
            "grid_auto_columns": null,
            "grid_auto_flow": null,
            "grid_auto_rows": null,
            "grid_column": null,
            "grid_gap": null,
            "grid_row": null,
            "grid_template_areas": null,
            "grid_template_columns": null,
            "grid_template_rows": null,
            "height": null,
            "justify_content": null,
            "justify_items": null,
            "left": null,
            "margin": null,
            "max_height": null,
            "max_width": null,
            "min_height": null,
            "min_width": null,
            "object_fit": null,
            "object_position": null,
            "order": null,
            "overflow": null,
            "overflow_x": null,
            "overflow_y": null,
            "padding": null,
            "right": null,
            "top": null,
            "visibility": null,
            "width": null
          }
        },
        "00fff9616569462aa89485f7977f0975": {
          "model_module": "@jupyter-widgets/base",
          "model_name": "LayoutModel",
          "model_module_version": "1.2.0",
          "state": {
            "_model_module": "@jupyter-widgets/base",
            "_model_module_version": "1.2.0",
            "_model_name": "LayoutModel",
            "_view_count": null,
            "_view_module": "@jupyter-widgets/base",
            "_view_module_version": "1.2.0",
            "_view_name": "LayoutView",
            "align_content": null,
            "align_items": null,
            "align_self": null,
            "border": null,
            "bottom": null,
            "display": null,
            "flex": null,
            "flex_flow": null,
            "grid_area": null,
            "grid_auto_columns": null,
            "grid_auto_flow": null,
            "grid_auto_rows": null,
            "grid_column": null,
            "grid_gap": null,
            "grid_row": null,
            "grid_template_areas": null,
            "grid_template_columns": null,
            "grid_template_rows": null,
            "height": null,
            "justify_content": null,
            "justify_items": null,
            "left": null,
            "margin": null,
            "max_height": null,
            "max_width": null,
            "min_height": null,
            "min_width": null,
            "object_fit": null,
            "object_position": null,
            "order": null,
            "overflow": null,
            "overflow_x": null,
            "overflow_y": null,
            "padding": null,
            "right": null,
            "top": null,
            "visibility": null,
            "width": null
          }
        },
        "5b70f89a7d704741a824523b5ac6b3d7": {
          "model_module": "@jupyter-widgets/controls",
          "model_name": "DescriptionStyleModel",
          "model_module_version": "1.5.0",
          "state": {
            "_model_module": "@jupyter-widgets/controls",
            "_model_module_version": "1.5.0",
            "_model_name": "DescriptionStyleModel",
            "_view_count": null,
            "_view_module": "@jupyter-widgets/base",
            "_view_module_version": "1.2.0",
            "_view_name": "StyleView",
            "description_width": ""
          }
        },
        "79851d17a65f4dbfbf73bc3d30067e84": {
          "model_module": "@jupyter-widgets/base",
          "model_name": "LayoutModel",
          "model_module_version": "1.2.0",
          "state": {
            "_model_module": "@jupyter-widgets/base",
            "_model_module_version": "1.2.0",
            "_model_name": "LayoutModel",
            "_view_count": null,
            "_view_module": "@jupyter-widgets/base",
            "_view_module_version": "1.2.0",
            "_view_name": "LayoutView",
            "align_content": null,
            "align_items": null,
            "align_self": null,
            "border": null,
            "bottom": null,
            "display": null,
            "flex": null,
            "flex_flow": null,
            "grid_area": null,
            "grid_auto_columns": null,
            "grid_auto_flow": null,
            "grid_auto_rows": null,
            "grid_column": null,
            "grid_gap": null,
            "grid_row": null,
            "grid_template_areas": null,
            "grid_template_columns": null,
            "grid_template_rows": null,
            "height": null,
            "justify_content": null,
            "justify_items": null,
            "left": null,
            "margin": null,
            "max_height": null,
            "max_width": null,
            "min_height": null,
            "min_width": null,
            "object_fit": null,
            "object_position": null,
            "order": null,
            "overflow": null,
            "overflow_x": null,
            "overflow_y": null,
            "padding": null,
            "right": null,
            "top": null,
            "visibility": null,
            "width": null
          }
        },
        "68a838d6c20346169fd99a78f17da5e8": {
          "model_module": "@jupyter-widgets/controls",
          "model_name": "ProgressStyleModel",
          "model_module_version": "1.5.0",
          "state": {
            "_model_module": "@jupyter-widgets/controls",
            "_model_module_version": "1.5.0",
            "_model_name": "ProgressStyleModel",
            "_view_count": null,
            "_view_module": "@jupyter-widgets/base",
            "_view_module_version": "1.2.0",
            "_view_name": "StyleView",
            "bar_color": null,
            "description_width": ""
          }
        },
        "3a7344cf8c184e57aa43e0fc4e524ccd": {
          "model_module": "@jupyter-widgets/base",
          "model_name": "LayoutModel",
          "model_module_version": "1.2.0",
          "state": {
            "_model_module": "@jupyter-widgets/base",
            "_model_module_version": "1.2.0",
            "_model_name": "LayoutModel",
            "_view_count": null,
            "_view_module": "@jupyter-widgets/base",
            "_view_module_version": "1.2.0",
            "_view_name": "LayoutView",
            "align_content": null,
            "align_items": null,
            "align_self": null,
            "border": null,
            "bottom": null,
            "display": null,
            "flex": null,
            "flex_flow": null,
            "grid_area": null,
            "grid_auto_columns": null,
            "grid_auto_flow": null,
            "grid_auto_rows": null,
            "grid_column": null,
            "grid_gap": null,
            "grid_row": null,
            "grid_template_areas": null,
            "grid_template_columns": null,
            "grid_template_rows": null,
            "height": null,
            "justify_content": null,
            "justify_items": null,
            "left": null,
            "margin": null,
            "max_height": null,
            "max_width": null,
            "min_height": null,
            "min_width": null,
            "object_fit": null,
            "object_position": null,
            "order": null,
            "overflow": null,
            "overflow_x": null,
            "overflow_y": null,
            "padding": null,
            "right": null,
            "top": null,
            "visibility": null,
            "width": null
          }
        },
        "aa0399235d6044d5874da7f10b86224b": {
          "model_module": "@jupyter-widgets/controls",
          "model_name": "DescriptionStyleModel",
          "model_module_version": "1.5.0",
          "state": {
            "_model_module": "@jupyter-widgets/controls",
            "_model_module_version": "1.5.0",
            "_model_name": "DescriptionStyleModel",
            "_view_count": null,
            "_view_module": "@jupyter-widgets/base",
            "_view_module_version": "1.2.0",
            "_view_name": "StyleView",
            "description_width": ""
          }
        },
        "1de65667900d4d2899bc3424fb9d5a16": {
          "model_module": "@jupyter-widgets/controls",
          "model_name": "HBoxModel",
          "model_module_version": "1.5.0",
          "state": {
            "_dom_classes": [],
            "_model_module": "@jupyter-widgets/controls",
            "_model_module_version": "1.5.0",
            "_model_name": "HBoxModel",
            "_view_count": null,
            "_view_module": "@jupyter-widgets/controls",
            "_view_module_version": "1.5.0",
            "_view_name": "HBoxView",
            "box_style": "",
            "children": [
              "IPY_MODEL_bb57b7e771ab49febe5bcd3b5c917d2a",
              "IPY_MODEL_6aceb99c06ac4f928c69d77078eb2b2e",
              "IPY_MODEL_bc4bc05332a54f44964e833189ebc22d"
            ],
            "layout": "IPY_MODEL_812109fe42ee40b4b21c232a46014c33"
          }
        },
        "bb57b7e771ab49febe5bcd3b5c917d2a": {
          "model_module": "@jupyter-widgets/controls",
          "model_name": "HTMLModel",
          "model_module_version": "1.5.0",
          "state": {
            "_dom_classes": [],
            "_model_module": "@jupyter-widgets/controls",
            "_model_module_version": "1.5.0",
            "_model_name": "HTMLModel",
            "_view_count": null,
            "_view_module": "@jupyter-widgets/controls",
            "_view_module_version": "1.5.0",
            "_view_name": "HTMLView",
            "description": "",
            "description_tooltip": null,
            "layout": "IPY_MODEL_b39e88b3dc15462199cac12dc41d4c13",
            "placeholder": "​",
            "style": "IPY_MODEL_8a2dc8990a1e4135a40828e2527dc4bc",
            "value": "Downloading (…)cial_tokens_map.json: 100%"
          }
        },
        "6aceb99c06ac4f928c69d77078eb2b2e": {
          "model_module": "@jupyter-widgets/controls",
          "model_name": "FloatProgressModel",
          "model_module_version": "1.5.0",
          "state": {
            "_dom_classes": [],
            "_model_module": "@jupyter-widgets/controls",
            "_model_module_version": "1.5.0",
            "_model_name": "FloatProgressModel",
            "_view_count": null,
            "_view_module": "@jupyter-widgets/controls",
            "_view_module_version": "1.5.0",
            "_view_name": "ProgressView",
            "bar_style": "success",
            "description": "",
            "description_tooltip": null,
            "layout": "IPY_MODEL_47d0e605a43a4e869151300dcc0f9343",
            "max": 239,
            "min": 0,
            "orientation": "horizontal",
            "style": "IPY_MODEL_479db8f691314fab99d0579b420d5b71",
            "value": 239
          }
        },
        "bc4bc05332a54f44964e833189ebc22d": {
          "model_module": "@jupyter-widgets/controls",
          "model_name": "HTMLModel",
          "model_module_version": "1.5.0",
          "state": {
            "_dom_classes": [],
            "_model_module": "@jupyter-widgets/controls",
            "_model_module_version": "1.5.0",
            "_model_name": "HTMLModel",
            "_view_count": null,
            "_view_module": "@jupyter-widgets/controls",
            "_view_module_version": "1.5.0",
            "_view_name": "HTMLView",
            "description": "",
            "description_tooltip": null,
            "layout": "IPY_MODEL_fb3d558e53594041befe5ddc01114a39",
            "placeholder": "​",
            "style": "IPY_MODEL_dbb9b540af4f4afe895a2cf11b34813c",
            "value": " 239/239 [00:00&lt;00:00, 12.5kB/s]"
          }
        },
        "812109fe42ee40b4b21c232a46014c33": {
          "model_module": "@jupyter-widgets/base",
          "model_name": "LayoutModel",
          "model_module_version": "1.2.0",
          "state": {
            "_model_module": "@jupyter-widgets/base",
            "_model_module_version": "1.2.0",
            "_model_name": "LayoutModel",
            "_view_count": null,
            "_view_module": "@jupyter-widgets/base",
            "_view_module_version": "1.2.0",
            "_view_name": "LayoutView",
            "align_content": null,
            "align_items": null,
            "align_self": null,
            "border": null,
            "bottom": null,
            "display": null,
            "flex": null,
            "flex_flow": null,
            "grid_area": null,
            "grid_auto_columns": null,
            "grid_auto_flow": null,
            "grid_auto_rows": null,
            "grid_column": null,
            "grid_gap": null,
            "grid_row": null,
            "grid_template_areas": null,
            "grid_template_columns": null,
            "grid_template_rows": null,
            "height": null,
            "justify_content": null,
            "justify_items": null,
            "left": null,
            "margin": null,
            "max_height": null,
            "max_width": null,
            "min_height": null,
            "min_width": null,
            "object_fit": null,
            "object_position": null,
            "order": null,
            "overflow": null,
            "overflow_x": null,
            "overflow_y": null,
            "padding": null,
            "right": null,
            "top": null,
            "visibility": null,
            "width": null
          }
        },
        "b39e88b3dc15462199cac12dc41d4c13": {
          "model_module": "@jupyter-widgets/base",
          "model_name": "LayoutModel",
          "model_module_version": "1.2.0",
          "state": {
            "_model_module": "@jupyter-widgets/base",
            "_model_module_version": "1.2.0",
            "_model_name": "LayoutModel",
            "_view_count": null,
            "_view_module": "@jupyter-widgets/base",
            "_view_module_version": "1.2.0",
            "_view_name": "LayoutView",
            "align_content": null,
            "align_items": null,
            "align_self": null,
            "border": null,
            "bottom": null,
            "display": null,
            "flex": null,
            "flex_flow": null,
            "grid_area": null,
            "grid_auto_columns": null,
            "grid_auto_flow": null,
            "grid_auto_rows": null,
            "grid_column": null,
            "grid_gap": null,
            "grid_row": null,
            "grid_template_areas": null,
            "grid_template_columns": null,
            "grid_template_rows": null,
            "height": null,
            "justify_content": null,
            "justify_items": null,
            "left": null,
            "margin": null,
            "max_height": null,
            "max_width": null,
            "min_height": null,
            "min_width": null,
            "object_fit": null,
            "object_position": null,
            "order": null,
            "overflow": null,
            "overflow_x": null,
            "overflow_y": null,
            "padding": null,
            "right": null,
            "top": null,
            "visibility": null,
            "width": null
          }
        },
        "8a2dc8990a1e4135a40828e2527dc4bc": {
          "model_module": "@jupyter-widgets/controls",
          "model_name": "DescriptionStyleModel",
          "model_module_version": "1.5.0",
          "state": {
            "_model_module": "@jupyter-widgets/controls",
            "_model_module_version": "1.5.0",
            "_model_name": "DescriptionStyleModel",
            "_view_count": null,
            "_view_module": "@jupyter-widgets/base",
            "_view_module_version": "1.2.0",
            "_view_name": "StyleView",
            "description_width": ""
          }
        },
        "47d0e605a43a4e869151300dcc0f9343": {
          "model_module": "@jupyter-widgets/base",
          "model_name": "LayoutModel",
          "model_module_version": "1.2.0",
          "state": {
            "_model_module": "@jupyter-widgets/base",
            "_model_module_version": "1.2.0",
            "_model_name": "LayoutModel",
            "_view_count": null,
            "_view_module": "@jupyter-widgets/base",
            "_view_module_version": "1.2.0",
            "_view_name": "LayoutView",
            "align_content": null,
            "align_items": null,
            "align_self": null,
            "border": null,
            "bottom": null,
            "display": null,
            "flex": null,
            "flex_flow": null,
            "grid_area": null,
            "grid_auto_columns": null,
            "grid_auto_flow": null,
            "grid_auto_rows": null,
            "grid_column": null,
            "grid_gap": null,
            "grid_row": null,
            "grid_template_areas": null,
            "grid_template_columns": null,
            "grid_template_rows": null,
            "height": null,
            "justify_content": null,
            "justify_items": null,
            "left": null,
            "margin": null,
            "max_height": null,
            "max_width": null,
            "min_height": null,
            "min_width": null,
            "object_fit": null,
            "object_position": null,
            "order": null,
            "overflow": null,
            "overflow_x": null,
            "overflow_y": null,
            "padding": null,
            "right": null,
            "top": null,
            "visibility": null,
            "width": null
          }
        },
        "479db8f691314fab99d0579b420d5b71": {
          "model_module": "@jupyter-widgets/controls",
          "model_name": "ProgressStyleModel",
          "model_module_version": "1.5.0",
          "state": {
            "_model_module": "@jupyter-widgets/controls",
            "_model_module_version": "1.5.0",
            "_model_name": "ProgressStyleModel",
            "_view_count": null,
            "_view_module": "@jupyter-widgets/base",
            "_view_module_version": "1.2.0",
            "_view_name": "StyleView",
            "bar_color": null,
            "description_width": ""
          }
        },
        "fb3d558e53594041befe5ddc01114a39": {
          "model_module": "@jupyter-widgets/base",
          "model_name": "LayoutModel",
          "model_module_version": "1.2.0",
          "state": {
            "_model_module": "@jupyter-widgets/base",
            "_model_module_version": "1.2.0",
            "_model_name": "LayoutModel",
            "_view_count": null,
            "_view_module": "@jupyter-widgets/base",
            "_view_module_version": "1.2.0",
            "_view_name": "LayoutView",
            "align_content": null,
            "align_items": null,
            "align_self": null,
            "border": null,
            "bottom": null,
            "display": null,
            "flex": null,
            "flex_flow": null,
            "grid_area": null,
            "grid_auto_columns": null,
            "grid_auto_flow": null,
            "grid_auto_rows": null,
            "grid_column": null,
            "grid_gap": null,
            "grid_row": null,
            "grid_template_areas": null,
            "grid_template_columns": null,
            "grid_template_rows": null,
            "height": null,
            "justify_content": null,
            "justify_items": null,
            "left": null,
            "margin": null,
            "max_height": null,
            "max_width": null,
            "min_height": null,
            "min_width": null,
            "object_fit": null,
            "object_position": null,
            "order": null,
            "overflow": null,
            "overflow_x": null,
            "overflow_y": null,
            "padding": null,
            "right": null,
            "top": null,
            "visibility": null,
            "width": null
          }
        },
        "dbb9b540af4f4afe895a2cf11b34813c": {
          "model_module": "@jupyter-widgets/controls",
          "model_name": "DescriptionStyleModel",
          "model_module_version": "1.5.0",
          "state": {
            "_model_module": "@jupyter-widgets/controls",
            "_model_module_version": "1.5.0",
            "_model_name": "DescriptionStyleModel",
            "_view_count": null,
            "_view_module": "@jupyter-widgets/base",
            "_view_module_version": "1.2.0",
            "_view_name": "StyleView",
            "description_width": ""
          }
        },
        "92f88a56bf2c4ed8a132e471643294de": {
          "model_module": "@jupyter-widgets/controls",
          "model_name": "HBoxModel",
          "model_module_version": "1.5.0",
          "state": {
            "_dom_classes": [],
            "_model_module": "@jupyter-widgets/controls",
            "_model_module_version": "1.5.0",
            "_model_name": "HBoxModel",
            "_view_count": null,
            "_view_module": "@jupyter-widgets/controls",
            "_view_module_version": "1.5.0",
            "_view_name": "HBoxView",
            "box_style": "",
            "children": [
              "IPY_MODEL_0304c1cf5afc436bb0c1c75671de2e80",
              "IPY_MODEL_1711317cd83949d398222aded2bc0cac",
              "IPY_MODEL_3668a5049d5046b383273a61a35e3693"
            ],
            "layout": "IPY_MODEL_f3f06dceb806444d907807df99ed2033"
          }
        },
        "0304c1cf5afc436bb0c1c75671de2e80": {
          "model_module": "@jupyter-widgets/controls",
          "model_name": "HTMLModel",
          "model_module_version": "1.5.0",
          "state": {
            "_dom_classes": [],
            "_model_module": "@jupyter-widgets/controls",
            "_model_module_version": "1.5.0",
            "_model_name": "HTMLModel",
            "_view_count": null,
            "_view_module": "@jupyter-widgets/controls",
            "_view_module_version": "1.5.0",
            "_view_name": "HTMLView",
            "description": "",
            "description_tooltip": null,
            "layout": "IPY_MODEL_fbabd3c99abb4236b9ff5b0bdc41db52",
            "placeholder": "​",
            "style": "IPY_MODEL_054aa74cf32a4fa28ce5c94f313383bf",
            "value": "Downloading (…)e83bd/tokenizer.json: 100%"
          }
        },
        "1711317cd83949d398222aded2bc0cac": {
          "model_module": "@jupyter-widgets/controls",
          "model_name": "FloatProgressModel",
          "model_module_version": "1.5.0",
          "state": {
            "_dom_classes": [],
            "_model_module": "@jupyter-widgets/controls",
            "_model_module_version": "1.5.0",
            "_model_name": "FloatProgressModel",
            "_view_count": null,
            "_view_module": "@jupyter-widgets/controls",
            "_view_module_version": "1.5.0",
            "_view_name": "ProgressView",
            "bar_style": "success",
            "description": "",
            "description_tooltip": null,
            "layout": "IPY_MODEL_1219938afcba46d0b8b4479ea56306da",
            "max": 1355881,
            "min": 0,
            "orientation": "horizontal",
            "style": "IPY_MODEL_575e5f2a439947588e2100b2765627af",
            "value": 1355881
          }
        },
        "3668a5049d5046b383273a61a35e3693": {
          "model_module": "@jupyter-widgets/controls",
          "model_name": "HTMLModel",
          "model_module_version": "1.5.0",
          "state": {
            "_dom_classes": [],
            "_model_module": "@jupyter-widgets/controls",
            "_model_module_version": "1.5.0",
            "_model_name": "HTMLModel",
            "_view_count": null,
            "_view_module": "@jupyter-widgets/controls",
            "_view_module_version": "1.5.0",
            "_view_name": "HTMLView",
            "description": "",
            "description_tooltip": null,
            "layout": "IPY_MODEL_8d40468e672448709aa62abd0982a982",
            "placeholder": "​",
            "style": "IPY_MODEL_ad5ed5d6ca714d56bb1e33e97c3064e6",
            "value": " 1.36M/1.36M [00:00&lt;00:00, 11.7MB/s]"
          }
        },
        "f3f06dceb806444d907807df99ed2033": {
          "model_module": "@jupyter-widgets/base",
          "model_name": "LayoutModel",
          "model_module_version": "1.2.0",
          "state": {
            "_model_module": "@jupyter-widgets/base",
            "_model_module_version": "1.2.0",
            "_model_name": "LayoutModel",
            "_view_count": null,
            "_view_module": "@jupyter-widgets/base",
            "_view_module_version": "1.2.0",
            "_view_name": "LayoutView",
            "align_content": null,
            "align_items": null,
            "align_self": null,
            "border": null,
            "bottom": null,
            "display": null,
            "flex": null,
            "flex_flow": null,
            "grid_area": null,
            "grid_auto_columns": null,
            "grid_auto_flow": null,
            "grid_auto_rows": null,
            "grid_column": null,
            "grid_gap": null,
            "grid_row": null,
            "grid_template_areas": null,
            "grid_template_columns": null,
            "grid_template_rows": null,
            "height": null,
            "justify_content": null,
            "justify_items": null,
            "left": null,
            "margin": null,
            "max_height": null,
            "max_width": null,
            "min_height": null,
            "min_width": null,
            "object_fit": null,
            "object_position": null,
            "order": null,
            "overflow": null,
            "overflow_x": null,
            "overflow_y": null,
            "padding": null,
            "right": null,
            "top": null,
            "visibility": null,
            "width": null
          }
        },
        "fbabd3c99abb4236b9ff5b0bdc41db52": {
          "model_module": "@jupyter-widgets/base",
          "model_name": "LayoutModel",
          "model_module_version": "1.2.0",
          "state": {
            "_model_module": "@jupyter-widgets/base",
            "_model_module_version": "1.2.0",
            "_model_name": "LayoutModel",
            "_view_count": null,
            "_view_module": "@jupyter-widgets/base",
            "_view_module_version": "1.2.0",
            "_view_name": "LayoutView",
            "align_content": null,
            "align_items": null,
            "align_self": null,
            "border": null,
            "bottom": null,
            "display": null,
            "flex": null,
            "flex_flow": null,
            "grid_area": null,
            "grid_auto_columns": null,
            "grid_auto_flow": null,
            "grid_auto_rows": null,
            "grid_column": null,
            "grid_gap": null,
            "grid_row": null,
            "grid_template_areas": null,
            "grid_template_columns": null,
            "grid_template_rows": null,
            "height": null,
            "justify_content": null,
            "justify_items": null,
            "left": null,
            "margin": null,
            "max_height": null,
            "max_width": null,
            "min_height": null,
            "min_width": null,
            "object_fit": null,
            "object_position": null,
            "order": null,
            "overflow": null,
            "overflow_x": null,
            "overflow_y": null,
            "padding": null,
            "right": null,
            "top": null,
            "visibility": null,
            "width": null
          }
        },
        "054aa74cf32a4fa28ce5c94f313383bf": {
          "model_module": "@jupyter-widgets/controls",
          "model_name": "DescriptionStyleModel",
          "model_module_version": "1.5.0",
          "state": {
            "_model_module": "@jupyter-widgets/controls",
            "_model_module_version": "1.5.0",
            "_model_name": "DescriptionStyleModel",
            "_view_count": null,
            "_view_module": "@jupyter-widgets/base",
            "_view_module_version": "1.2.0",
            "_view_name": "StyleView",
            "description_width": ""
          }
        },
        "1219938afcba46d0b8b4479ea56306da": {
          "model_module": "@jupyter-widgets/base",
          "model_name": "LayoutModel",
          "model_module_version": "1.2.0",
          "state": {
            "_model_module": "@jupyter-widgets/base",
            "_model_module_version": "1.2.0",
            "_model_name": "LayoutModel",
            "_view_count": null,
            "_view_module": "@jupyter-widgets/base",
            "_view_module_version": "1.2.0",
            "_view_name": "LayoutView",
            "align_content": null,
            "align_items": null,
            "align_self": null,
            "border": null,
            "bottom": null,
            "display": null,
            "flex": null,
            "flex_flow": null,
            "grid_area": null,
            "grid_auto_columns": null,
            "grid_auto_flow": null,
            "grid_auto_rows": null,
            "grid_column": null,
            "grid_gap": null,
            "grid_row": null,
            "grid_template_areas": null,
            "grid_template_columns": null,
            "grid_template_rows": null,
            "height": null,
            "justify_content": null,
            "justify_items": null,
            "left": null,
            "margin": null,
            "max_height": null,
            "max_width": null,
            "min_height": null,
            "min_width": null,
            "object_fit": null,
            "object_position": null,
            "order": null,
            "overflow": null,
            "overflow_x": null,
            "overflow_y": null,
            "padding": null,
            "right": null,
            "top": null,
            "visibility": null,
            "width": null
          }
        },
        "575e5f2a439947588e2100b2765627af": {
          "model_module": "@jupyter-widgets/controls",
          "model_name": "ProgressStyleModel",
          "model_module_version": "1.5.0",
          "state": {
            "_model_module": "@jupyter-widgets/controls",
            "_model_module_version": "1.5.0",
            "_model_name": "ProgressStyleModel",
            "_view_count": null,
            "_view_module": "@jupyter-widgets/base",
            "_view_module_version": "1.2.0",
            "_view_name": "StyleView",
            "bar_color": null,
            "description_width": ""
          }
        },
        "8d40468e672448709aa62abd0982a982": {
          "model_module": "@jupyter-widgets/base",
          "model_name": "LayoutModel",
          "model_module_version": "1.2.0",
          "state": {
            "_model_module": "@jupyter-widgets/base",
            "_model_module_version": "1.2.0",
            "_model_name": "LayoutModel",
            "_view_count": null,
            "_view_module": "@jupyter-widgets/base",
            "_view_module_version": "1.2.0",
            "_view_name": "LayoutView",
            "align_content": null,
            "align_items": null,
            "align_self": null,
            "border": null,
            "bottom": null,
            "display": null,
            "flex": null,
            "flex_flow": null,
            "grid_area": null,
            "grid_auto_columns": null,
            "grid_auto_flow": null,
            "grid_auto_rows": null,
            "grid_column": null,
            "grid_gap": null,
            "grid_row": null,
            "grid_template_areas": null,
            "grid_template_columns": null,
            "grid_template_rows": null,
            "height": null,
            "justify_content": null,
            "justify_items": null,
            "left": null,
            "margin": null,
            "max_height": null,
            "max_width": null,
            "min_height": null,
            "min_width": null,
            "object_fit": null,
            "object_position": null,
            "order": null,
            "overflow": null,
            "overflow_x": null,
            "overflow_y": null,
            "padding": null,
            "right": null,
            "top": null,
            "visibility": null,
            "width": null
          }
        },
        "ad5ed5d6ca714d56bb1e33e97c3064e6": {
          "model_module": "@jupyter-widgets/controls",
          "model_name": "DescriptionStyleModel",
          "model_module_version": "1.5.0",
          "state": {
            "_model_module": "@jupyter-widgets/controls",
            "_model_module_version": "1.5.0",
            "_model_name": "DescriptionStyleModel",
            "_view_count": null,
            "_view_module": "@jupyter-widgets/base",
            "_view_module_version": "1.2.0",
            "_view_name": "StyleView",
            "description_width": ""
          }
        },
        "498516d18dd143c6bb9532a60510476c": {
          "model_module": "@jupyter-widgets/controls",
          "model_name": "HBoxModel",
          "model_module_version": "1.5.0",
          "state": {
            "_dom_classes": [],
            "_model_module": "@jupyter-widgets/controls",
            "_model_module_version": "1.5.0",
            "_model_name": "HBoxModel",
            "_view_count": null,
            "_view_module": "@jupyter-widgets/controls",
            "_view_module_version": "1.5.0",
            "_view_name": "HBoxView",
            "box_style": "",
            "children": [
              "IPY_MODEL_c5290f12df6f47fca7af0622619658d0",
              "IPY_MODEL_d260c0b35b694243ad39096feb60a65c",
              "IPY_MODEL_809972874325463e84cecbfcb287f579"
            ],
            "layout": "IPY_MODEL_0f7e58eb56254d88a37bd195be2d06a2"
          }
        },
        "c5290f12df6f47fca7af0622619658d0": {
          "model_module": "@jupyter-widgets/controls",
          "model_name": "HTMLModel",
          "model_module_version": "1.5.0",
          "state": {
            "_dom_classes": [],
            "_model_module": "@jupyter-widgets/controls",
            "_model_module_version": "1.5.0",
            "_model_name": "HTMLModel",
            "_view_count": null,
            "_view_module": "@jupyter-widgets/controls",
            "_view_module_version": "1.5.0",
            "_view_name": "HTMLView",
            "description": "",
            "description_tooltip": null,
            "layout": "IPY_MODEL_8a96e02877204d77abfc17af3328d86f",
            "placeholder": "​",
            "style": "IPY_MODEL_40727a8b9d954a22aab144014f20f17d",
            "value": "Downloading (…)okenizer_config.json: 100%"
          }
        },
        "d260c0b35b694243ad39096feb60a65c": {
          "model_module": "@jupyter-widgets/controls",
          "model_name": "FloatProgressModel",
          "model_module_version": "1.5.0",
          "state": {
            "_dom_classes": [],
            "_model_module": "@jupyter-widgets/controls",
            "_model_module_version": "1.5.0",
            "_model_name": "FloatProgressModel",
            "_view_count": null,
            "_view_module": "@jupyter-widgets/controls",
            "_view_module_version": "1.5.0",
            "_view_name": "ProgressView",
            "bar_style": "success",
            "description": "",
            "description_tooltip": null,
            "layout": "IPY_MODEL_5fa0fb53bab2478297b46f9cc4665cfd",
            "max": 1172,
            "min": 0,
            "orientation": "horizontal",
            "style": "IPY_MODEL_d27889db1a1e4f3688a178289ac172d8",
            "value": 1172
          }
        },
        "809972874325463e84cecbfcb287f579": {
          "model_module": "@jupyter-widgets/controls",
          "model_name": "HTMLModel",
          "model_module_version": "1.5.0",
          "state": {
            "_dom_classes": [],
            "_model_module": "@jupyter-widgets/controls",
            "_model_module_version": "1.5.0",
            "_model_name": "HTMLModel",
            "_view_count": null,
            "_view_module": "@jupyter-widgets/controls",
            "_view_module_version": "1.5.0",
            "_view_name": "HTMLView",
            "description": "",
            "description_tooltip": null,
            "layout": "IPY_MODEL_3e9c66b0bcb44e79b6e41666fba6835e",
            "placeholder": "​",
            "style": "IPY_MODEL_1165dd11985249a5962ad77ccc26b650",
            "value": " 1.17k/1.17k [00:00&lt;00:00, 52.3kB/s]"
          }
        },
        "0f7e58eb56254d88a37bd195be2d06a2": {
          "model_module": "@jupyter-widgets/base",
          "model_name": "LayoutModel",
          "model_module_version": "1.2.0",
          "state": {
            "_model_module": "@jupyter-widgets/base",
            "_model_module_version": "1.2.0",
            "_model_name": "LayoutModel",
            "_view_count": null,
            "_view_module": "@jupyter-widgets/base",
            "_view_module_version": "1.2.0",
            "_view_name": "LayoutView",
            "align_content": null,
            "align_items": null,
            "align_self": null,
            "border": null,
            "bottom": null,
            "display": null,
            "flex": null,
            "flex_flow": null,
            "grid_area": null,
            "grid_auto_columns": null,
            "grid_auto_flow": null,
            "grid_auto_rows": null,
            "grid_column": null,
            "grid_gap": null,
            "grid_row": null,
            "grid_template_areas": null,
            "grid_template_columns": null,
            "grid_template_rows": null,
            "height": null,
            "justify_content": null,
            "justify_items": null,
            "left": null,
            "margin": null,
            "max_height": null,
            "max_width": null,
            "min_height": null,
            "min_width": null,
            "object_fit": null,
            "object_position": null,
            "order": null,
            "overflow": null,
            "overflow_x": null,
            "overflow_y": null,
            "padding": null,
            "right": null,
            "top": null,
            "visibility": null,
            "width": null
          }
        },
        "8a96e02877204d77abfc17af3328d86f": {
          "model_module": "@jupyter-widgets/base",
          "model_name": "LayoutModel",
          "model_module_version": "1.2.0",
          "state": {
            "_model_module": "@jupyter-widgets/base",
            "_model_module_version": "1.2.0",
            "_model_name": "LayoutModel",
            "_view_count": null,
            "_view_module": "@jupyter-widgets/base",
            "_view_module_version": "1.2.0",
            "_view_name": "LayoutView",
            "align_content": null,
            "align_items": null,
            "align_self": null,
            "border": null,
            "bottom": null,
            "display": null,
            "flex": null,
            "flex_flow": null,
            "grid_area": null,
            "grid_auto_columns": null,
            "grid_auto_flow": null,
            "grid_auto_rows": null,
            "grid_column": null,
            "grid_gap": null,
            "grid_row": null,
            "grid_template_areas": null,
            "grid_template_columns": null,
            "grid_template_rows": null,
            "height": null,
            "justify_content": null,
            "justify_items": null,
            "left": null,
            "margin": null,
            "max_height": null,
            "max_width": null,
            "min_height": null,
            "min_width": null,
            "object_fit": null,
            "object_position": null,
            "order": null,
            "overflow": null,
            "overflow_x": null,
            "overflow_y": null,
            "padding": null,
            "right": null,
            "top": null,
            "visibility": null,
            "width": null
          }
        },
        "40727a8b9d954a22aab144014f20f17d": {
          "model_module": "@jupyter-widgets/controls",
          "model_name": "DescriptionStyleModel",
          "model_module_version": "1.5.0",
          "state": {
            "_model_module": "@jupyter-widgets/controls",
            "_model_module_version": "1.5.0",
            "_model_name": "DescriptionStyleModel",
            "_view_count": null,
            "_view_module": "@jupyter-widgets/base",
            "_view_module_version": "1.2.0",
            "_view_name": "StyleView",
            "description_width": ""
          }
        },
        "5fa0fb53bab2478297b46f9cc4665cfd": {
          "model_module": "@jupyter-widgets/base",
          "model_name": "LayoutModel",
          "model_module_version": "1.2.0",
          "state": {
            "_model_module": "@jupyter-widgets/base",
            "_model_module_version": "1.2.0",
            "_model_name": "LayoutModel",
            "_view_count": null,
            "_view_module": "@jupyter-widgets/base",
            "_view_module_version": "1.2.0",
            "_view_name": "LayoutView",
            "align_content": null,
            "align_items": null,
            "align_self": null,
            "border": null,
            "bottom": null,
            "display": null,
            "flex": null,
            "flex_flow": null,
            "grid_area": null,
            "grid_auto_columns": null,
            "grid_auto_flow": null,
            "grid_auto_rows": null,
            "grid_column": null,
            "grid_gap": null,
            "grid_row": null,
            "grid_template_areas": null,
            "grid_template_columns": null,
            "grid_template_rows": null,
            "height": null,
            "justify_content": null,
            "justify_items": null,
            "left": null,
            "margin": null,
            "max_height": null,
            "max_width": null,
            "min_height": null,
            "min_width": null,
            "object_fit": null,
            "object_position": null,
            "order": null,
            "overflow": null,
            "overflow_x": null,
            "overflow_y": null,
            "padding": null,
            "right": null,
            "top": null,
            "visibility": null,
            "width": null
          }
        },
        "d27889db1a1e4f3688a178289ac172d8": {
          "model_module": "@jupyter-widgets/controls",
          "model_name": "ProgressStyleModel",
          "model_module_version": "1.5.0",
          "state": {
            "_model_module": "@jupyter-widgets/controls",
            "_model_module_version": "1.5.0",
            "_model_name": "ProgressStyleModel",
            "_view_count": null,
            "_view_module": "@jupyter-widgets/base",
            "_view_module_version": "1.2.0",
            "_view_name": "StyleView",
            "bar_color": null,
            "description_width": ""
          }
        },
        "3e9c66b0bcb44e79b6e41666fba6835e": {
          "model_module": "@jupyter-widgets/base",
          "model_name": "LayoutModel",
          "model_module_version": "1.2.0",
          "state": {
            "_model_module": "@jupyter-widgets/base",
            "_model_module_version": "1.2.0",
            "_model_name": "LayoutModel",
            "_view_count": null,
            "_view_module": "@jupyter-widgets/base",
            "_view_module_version": "1.2.0",
            "_view_name": "LayoutView",
            "align_content": null,
            "align_items": null,
            "align_self": null,
            "border": null,
            "bottom": null,
            "display": null,
            "flex": null,
            "flex_flow": null,
            "grid_area": null,
            "grid_auto_columns": null,
            "grid_auto_flow": null,
            "grid_auto_rows": null,
            "grid_column": null,
            "grid_gap": null,
            "grid_row": null,
            "grid_template_areas": null,
            "grid_template_columns": null,
            "grid_template_rows": null,
            "height": null,
            "justify_content": null,
            "justify_items": null,
            "left": null,
            "margin": null,
            "max_height": null,
            "max_width": null,
            "min_height": null,
            "min_width": null,
            "object_fit": null,
            "object_position": null,
            "order": null,
            "overflow": null,
            "overflow_x": null,
            "overflow_y": null,
            "padding": null,
            "right": null,
            "top": null,
            "visibility": null,
            "width": null
          }
        },
        "1165dd11985249a5962ad77ccc26b650": {
          "model_module": "@jupyter-widgets/controls",
          "model_name": "DescriptionStyleModel",
          "model_module_version": "1.5.0",
          "state": {
            "_model_module": "@jupyter-widgets/controls",
            "_model_module_version": "1.5.0",
            "_model_name": "DescriptionStyleModel",
            "_view_count": null,
            "_view_module": "@jupyter-widgets/base",
            "_view_module_version": "1.2.0",
            "_view_name": "StyleView",
            "description_width": ""
          }
        },
        "cff1d5f3309e47f48df53d62bbacab7a": {
          "model_module": "@jupyter-widgets/controls",
          "model_name": "HBoxModel",
          "model_module_version": "1.5.0",
          "state": {
            "_dom_classes": [],
            "_model_module": "@jupyter-widgets/controls",
            "_model_module_version": "1.5.0",
            "_model_name": "HBoxModel",
            "_view_count": null,
            "_view_module": "@jupyter-widgets/controls",
            "_view_module_version": "1.5.0",
            "_view_name": "HBoxView",
            "box_style": "",
            "children": [
              "IPY_MODEL_abf466c8e0c84bd092cac3519bf611df",
              "IPY_MODEL_800185d9640246f7949764f5c86af660",
              "IPY_MODEL_913600be01be43a58d0f24cf5ed3cd86"
            ],
            "layout": "IPY_MODEL_994c9577406f4264a85e9165581fd21c"
          }
        },
        "abf466c8e0c84bd092cac3519bf611df": {
          "model_module": "@jupyter-widgets/controls",
          "model_name": "HTMLModel",
          "model_module_version": "1.5.0",
          "state": {
            "_dom_classes": [],
            "_model_module": "@jupyter-widgets/controls",
            "_model_module_version": "1.5.0",
            "_model_name": "HTMLModel",
            "_view_count": null,
            "_view_module": "@jupyter-widgets/controls",
            "_view_module_version": "1.5.0",
            "_view_name": "HTMLView",
            "description": "",
            "description_tooltip": null,
            "layout": "IPY_MODEL_efab9434459e43ec8e00653e0ceb1afc",
            "placeholder": "​",
            "style": "IPY_MODEL_33d76c6d9adb430a983bedcff0d4f9a0",
            "value": "Downloading (…)92d4e83bd/vocab.json: 100%"
          }
        },
        "800185d9640246f7949764f5c86af660": {
          "model_module": "@jupyter-widgets/controls",
          "model_name": "FloatProgressModel",
          "model_module_version": "1.5.0",
          "state": {
            "_dom_classes": [],
            "_model_module": "@jupyter-widgets/controls",
            "_model_module_version": "1.5.0",
            "_model_name": "FloatProgressModel",
            "_view_count": null,
            "_view_module": "@jupyter-widgets/controls",
            "_view_module_version": "1.5.0",
            "_view_name": "ProgressView",
            "bar_style": "success",
            "description": "",
            "description_tooltip": null,
            "layout": "IPY_MODEL_f6f792d534d043189fa67856e1b59b52",
            "max": 798293,
            "min": 0,
            "orientation": "horizontal",
            "style": "IPY_MODEL_2b597c98f3ec49d192de38c60532fea2",
            "value": 798293
          }
        },
        "913600be01be43a58d0f24cf5ed3cd86": {
          "model_module": "@jupyter-widgets/controls",
          "model_name": "HTMLModel",
          "model_module_version": "1.5.0",
          "state": {
            "_dom_classes": [],
            "_model_module": "@jupyter-widgets/controls",
            "_model_module_version": "1.5.0",
            "_model_name": "HTMLModel",
            "_view_count": null,
            "_view_module": "@jupyter-widgets/controls",
            "_view_module_version": "1.5.0",
            "_view_name": "HTMLView",
            "description": "",
            "description_tooltip": null,
            "layout": "IPY_MODEL_255ae8a9d46b4a089054f877c7492991",
            "placeholder": "​",
            "style": "IPY_MODEL_d27eef6aed334138bfc306b8d859040e",
            "value": " 798k/798k [00:00&lt;00:00, 7.76MB/s]"
          }
        },
        "994c9577406f4264a85e9165581fd21c": {
          "model_module": "@jupyter-widgets/base",
          "model_name": "LayoutModel",
          "model_module_version": "1.2.0",
          "state": {
            "_model_module": "@jupyter-widgets/base",
            "_model_module_version": "1.2.0",
            "_model_name": "LayoutModel",
            "_view_count": null,
            "_view_module": "@jupyter-widgets/base",
            "_view_module_version": "1.2.0",
            "_view_name": "LayoutView",
            "align_content": null,
            "align_items": null,
            "align_self": null,
            "border": null,
            "bottom": null,
            "display": null,
            "flex": null,
            "flex_flow": null,
            "grid_area": null,
            "grid_auto_columns": null,
            "grid_auto_flow": null,
            "grid_auto_rows": null,
            "grid_column": null,
            "grid_gap": null,
            "grid_row": null,
            "grid_template_areas": null,
            "grid_template_columns": null,
            "grid_template_rows": null,
            "height": null,
            "justify_content": null,
            "justify_items": null,
            "left": null,
            "margin": null,
            "max_height": null,
            "max_width": null,
            "min_height": null,
            "min_width": null,
            "object_fit": null,
            "object_position": null,
            "order": null,
            "overflow": null,
            "overflow_x": null,
            "overflow_y": null,
            "padding": null,
            "right": null,
            "top": null,
            "visibility": null,
            "width": null
          }
        },
        "efab9434459e43ec8e00653e0ceb1afc": {
          "model_module": "@jupyter-widgets/base",
          "model_name": "LayoutModel",
          "model_module_version": "1.2.0",
          "state": {
            "_model_module": "@jupyter-widgets/base",
            "_model_module_version": "1.2.0",
            "_model_name": "LayoutModel",
            "_view_count": null,
            "_view_module": "@jupyter-widgets/base",
            "_view_module_version": "1.2.0",
            "_view_name": "LayoutView",
            "align_content": null,
            "align_items": null,
            "align_self": null,
            "border": null,
            "bottom": null,
            "display": null,
            "flex": null,
            "flex_flow": null,
            "grid_area": null,
            "grid_auto_columns": null,
            "grid_auto_flow": null,
            "grid_auto_rows": null,
            "grid_column": null,
            "grid_gap": null,
            "grid_row": null,
            "grid_template_areas": null,
            "grid_template_columns": null,
            "grid_template_rows": null,
            "height": null,
            "justify_content": null,
            "justify_items": null,
            "left": null,
            "margin": null,
            "max_height": null,
            "max_width": null,
            "min_height": null,
            "min_width": null,
            "object_fit": null,
            "object_position": null,
            "order": null,
            "overflow": null,
            "overflow_x": null,
            "overflow_y": null,
            "padding": null,
            "right": null,
            "top": null,
            "visibility": null,
            "width": null
          }
        },
        "33d76c6d9adb430a983bedcff0d4f9a0": {
          "model_module": "@jupyter-widgets/controls",
          "model_name": "DescriptionStyleModel",
          "model_module_version": "1.5.0",
          "state": {
            "_model_module": "@jupyter-widgets/controls",
            "_model_module_version": "1.5.0",
            "_model_name": "DescriptionStyleModel",
            "_view_count": null,
            "_view_module": "@jupyter-widgets/base",
            "_view_module_version": "1.2.0",
            "_view_name": "StyleView",
            "description_width": ""
          }
        },
        "f6f792d534d043189fa67856e1b59b52": {
          "model_module": "@jupyter-widgets/base",
          "model_name": "LayoutModel",
          "model_module_version": "1.2.0",
          "state": {
            "_model_module": "@jupyter-widgets/base",
            "_model_module_version": "1.2.0",
            "_model_name": "LayoutModel",
            "_view_count": null,
            "_view_module": "@jupyter-widgets/base",
            "_view_module_version": "1.2.0",
            "_view_name": "LayoutView",
            "align_content": null,
            "align_items": null,
            "align_self": null,
            "border": null,
            "bottom": null,
            "display": null,
            "flex": null,
            "flex_flow": null,
            "grid_area": null,
            "grid_auto_columns": null,
            "grid_auto_flow": null,
            "grid_auto_rows": null,
            "grid_column": null,
            "grid_gap": null,
            "grid_row": null,
            "grid_template_areas": null,
            "grid_template_columns": null,
            "grid_template_rows": null,
            "height": null,
            "justify_content": null,
            "justify_items": null,
            "left": null,
            "margin": null,
            "max_height": null,
            "max_width": null,
            "min_height": null,
            "min_width": null,
            "object_fit": null,
            "object_position": null,
            "order": null,
            "overflow": null,
            "overflow_x": null,
            "overflow_y": null,
            "padding": null,
            "right": null,
            "top": null,
            "visibility": null,
            "width": null
          }
        },
        "2b597c98f3ec49d192de38c60532fea2": {
          "model_module": "@jupyter-widgets/controls",
          "model_name": "ProgressStyleModel",
          "model_module_version": "1.5.0",
          "state": {
            "_model_module": "@jupyter-widgets/controls",
            "_model_module_version": "1.5.0",
            "_model_name": "ProgressStyleModel",
            "_view_count": null,
            "_view_module": "@jupyter-widgets/base",
            "_view_module_version": "1.2.0",
            "_view_name": "StyleView",
            "bar_color": null,
            "description_width": ""
          }
        },
        "255ae8a9d46b4a089054f877c7492991": {
          "model_module": "@jupyter-widgets/base",
          "model_name": "LayoutModel",
          "model_module_version": "1.2.0",
          "state": {
            "_model_module": "@jupyter-widgets/base",
            "_model_module_version": "1.2.0",
            "_model_name": "LayoutModel",
            "_view_count": null,
            "_view_module": "@jupyter-widgets/base",
            "_view_module_version": "1.2.0",
            "_view_name": "LayoutView",
            "align_content": null,
            "align_items": null,
            "align_self": null,
            "border": null,
            "bottom": null,
            "display": null,
            "flex": null,
            "flex_flow": null,
            "grid_area": null,
            "grid_auto_columns": null,
            "grid_auto_flow": null,
            "grid_auto_rows": null,
            "grid_column": null,
            "grid_gap": null,
            "grid_row": null,
            "grid_template_areas": null,
            "grid_template_columns": null,
            "grid_template_rows": null,
            "height": null,
            "justify_content": null,
            "justify_items": null,
            "left": null,
            "margin": null,
            "max_height": null,
            "max_width": null,
            "min_height": null,
            "min_width": null,
            "object_fit": null,
            "object_position": null,
            "order": null,
            "overflow": null,
            "overflow_x": null,
            "overflow_y": null,
            "padding": null,
            "right": null,
            "top": null,
            "visibility": null,
            "width": null
          }
        },
        "d27eef6aed334138bfc306b8d859040e": {
          "model_module": "@jupyter-widgets/controls",
          "model_name": "DescriptionStyleModel",
          "model_module_version": "1.5.0",
          "state": {
            "_model_module": "@jupyter-widgets/controls",
            "_model_module_version": "1.5.0",
            "_model_name": "DescriptionStyleModel",
            "_view_count": null,
            "_view_module": "@jupyter-widgets/base",
            "_view_module_version": "1.2.0",
            "_view_name": "StyleView",
            "description_width": ""
          }
        },
        "3b110e56aebc45eca10a30175dbde61a": {
          "model_module": "@jupyter-widgets/controls",
          "model_name": "HBoxModel",
          "model_module_version": "1.5.0",
          "state": {
            "_dom_classes": [],
            "_model_module": "@jupyter-widgets/controls",
            "_model_module_version": "1.5.0",
            "_model_name": "HBoxModel",
            "_view_count": null,
            "_view_module": "@jupyter-widgets/controls",
            "_view_module_version": "1.5.0",
            "_view_name": "HBoxView",
            "box_style": "",
            "children": [
              "IPY_MODEL_b225ba0f13144cff8081c3008b9a908e",
              "IPY_MODEL_6fd0b0586bdd4ee0b916c3ea8379961e",
              "IPY_MODEL_7d1f2ffe9a444e25b156461dd6844c2b"
            ],
            "layout": "IPY_MODEL_91b80ad042784cc5ba20ca06b16ce23d"
          }
        },
        "b225ba0f13144cff8081c3008b9a908e": {
          "model_module": "@jupyter-widgets/controls",
          "model_name": "HTMLModel",
          "model_module_version": "1.5.0",
          "state": {
            "_dom_classes": [],
            "_model_module": "@jupyter-widgets/controls",
            "_model_module_version": "1.5.0",
            "_model_name": "HTMLModel",
            "_view_count": null,
            "_view_module": "@jupyter-widgets/controls",
            "_view_module_version": "1.5.0",
            "_view_name": "HTMLView",
            "description": "",
            "description_tooltip": null,
            "layout": "IPY_MODEL_63ed18b6c38046a58b82fa2fb3a0e80f",
            "placeholder": "​",
            "style": "IPY_MODEL_8073db66187e48809d3d2f3ca56c2dcc",
            "value": "Downloading (…)d4e83bd/modules.json: 100%"
          }
        },
        "6fd0b0586bdd4ee0b916c3ea8379961e": {
          "model_module": "@jupyter-widgets/controls",
          "model_name": "FloatProgressModel",
          "model_module_version": "1.5.0",
          "state": {
            "_dom_classes": [],
            "_model_module": "@jupyter-widgets/controls",
            "_model_module_version": "1.5.0",
            "_model_name": "FloatProgressModel",
            "_view_count": null,
            "_view_module": "@jupyter-widgets/controls",
            "_view_module_version": "1.5.0",
            "_view_name": "ProgressView",
            "bar_style": "success",
            "description": "",
            "description_tooltip": null,
            "layout": "IPY_MODEL_6da7eb9fc9a8478c8a5042a06e08718f",
            "max": 229,
            "min": 0,
            "orientation": "horizontal",
            "style": "IPY_MODEL_927c350f79f348249391adbda3eda963",
            "value": 229
          }
        },
        "7d1f2ffe9a444e25b156461dd6844c2b": {
          "model_module": "@jupyter-widgets/controls",
          "model_name": "HTMLModel",
          "model_module_version": "1.5.0",
          "state": {
            "_dom_classes": [],
            "_model_module": "@jupyter-widgets/controls",
            "_model_module_version": "1.5.0",
            "_model_name": "HTMLModel",
            "_view_count": null,
            "_view_module": "@jupyter-widgets/controls",
            "_view_module_version": "1.5.0",
            "_view_name": "HTMLView",
            "description": "",
            "description_tooltip": null,
            "layout": "IPY_MODEL_01ec476fc824449d9c597824b8f96331",
            "placeholder": "​",
            "style": "IPY_MODEL_51dde3aa23464f30850d8804c7c73a19",
            "value": " 229/229 [00:00&lt;00:00, 11.0kB/s]"
          }
        },
        "91b80ad042784cc5ba20ca06b16ce23d": {
          "model_module": "@jupyter-widgets/base",
          "model_name": "LayoutModel",
          "model_module_version": "1.2.0",
          "state": {
            "_model_module": "@jupyter-widgets/base",
            "_model_module_version": "1.2.0",
            "_model_name": "LayoutModel",
            "_view_count": null,
            "_view_module": "@jupyter-widgets/base",
            "_view_module_version": "1.2.0",
            "_view_name": "LayoutView",
            "align_content": null,
            "align_items": null,
            "align_self": null,
            "border": null,
            "bottom": null,
            "display": null,
            "flex": null,
            "flex_flow": null,
            "grid_area": null,
            "grid_auto_columns": null,
            "grid_auto_flow": null,
            "grid_auto_rows": null,
            "grid_column": null,
            "grid_gap": null,
            "grid_row": null,
            "grid_template_areas": null,
            "grid_template_columns": null,
            "grid_template_rows": null,
            "height": null,
            "justify_content": null,
            "justify_items": null,
            "left": null,
            "margin": null,
            "max_height": null,
            "max_width": null,
            "min_height": null,
            "min_width": null,
            "object_fit": null,
            "object_position": null,
            "order": null,
            "overflow": null,
            "overflow_x": null,
            "overflow_y": null,
            "padding": null,
            "right": null,
            "top": null,
            "visibility": null,
            "width": null
          }
        },
        "63ed18b6c38046a58b82fa2fb3a0e80f": {
          "model_module": "@jupyter-widgets/base",
          "model_name": "LayoutModel",
          "model_module_version": "1.2.0",
          "state": {
            "_model_module": "@jupyter-widgets/base",
            "_model_module_version": "1.2.0",
            "_model_name": "LayoutModel",
            "_view_count": null,
            "_view_module": "@jupyter-widgets/base",
            "_view_module_version": "1.2.0",
            "_view_name": "LayoutView",
            "align_content": null,
            "align_items": null,
            "align_self": null,
            "border": null,
            "bottom": null,
            "display": null,
            "flex": null,
            "flex_flow": null,
            "grid_area": null,
            "grid_auto_columns": null,
            "grid_auto_flow": null,
            "grid_auto_rows": null,
            "grid_column": null,
            "grid_gap": null,
            "grid_row": null,
            "grid_template_areas": null,
            "grid_template_columns": null,
            "grid_template_rows": null,
            "height": null,
            "justify_content": null,
            "justify_items": null,
            "left": null,
            "margin": null,
            "max_height": null,
            "max_width": null,
            "min_height": null,
            "min_width": null,
            "object_fit": null,
            "object_position": null,
            "order": null,
            "overflow": null,
            "overflow_x": null,
            "overflow_y": null,
            "padding": null,
            "right": null,
            "top": null,
            "visibility": null,
            "width": null
          }
        },
        "8073db66187e48809d3d2f3ca56c2dcc": {
          "model_module": "@jupyter-widgets/controls",
          "model_name": "DescriptionStyleModel",
          "model_module_version": "1.5.0",
          "state": {
            "_model_module": "@jupyter-widgets/controls",
            "_model_module_version": "1.5.0",
            "_model_name": "DescriptionStyleModel",
            "_view_count": null,
            "_view_module": "@jupyter-widgets/base",
            "_view_module_version": "1.2.0",
            "_view_name": "StyleView",
            "description_width": ""
          }
        },
        "6da7eb9fc9a8478c8a5042a06e08718f": {
          "model_module": "@jupyter-widgets/base",
          "model_name": "LayoutModel",
          "model_module_version": "1.2.0",
          "state": {
            "_model_module": "@jupyter-widgets/base",
            "_model_module_version": "1.2.0",
            "_model_name": "LayoutModel",
            "_view_count": null,
            "_view_module": "@jupyter-widgets/base",
            "_view_module_version": "1.2.0",
            "_view_name": "LayoutView",
            "align_content": null,
            "align_items": null,
            "align_self": null,
            "border": null,
            "bottom": null,
            "display": null,
            "flex": null,
            "flex_flow": null,
            "grid_area": null,
            "grid_auto_columns": null,
            "grid_auto_flow": null,
            "grid_auto_rows": null,
            "grid_column": null,
            "grid_gap": null,
            "grid_row": null,
            "grid_template_areas": null,
            "grid_template_columns": null,
            "grid_template_rows": null,
            "height": null,
            "justify_content": null,
            "justify_items": null,
            "left": null,
            "margin": null,
            "max_height": null,
            "max_width": null,
            "min_height": null,
            "min_width": null,
            "object_fit": null,
            "object_position": null,
            "order": null,
            "overflow": null,
            "overflow_x": null,
            "overflow_y": null,
            "padding": null,
            "right": null,
            "top": null,
            "visibility": null,
            "width": null
          }
        },
        "927c350f79f348249391adbda3eda963": {
          "model_module": "@jupyter-widgets/controls",
          "model_name": "ProgressStyleModel",
          "model_module_version": "1.5.0",
          "state": {
            "_model_module": "@jupyter-widgets/controls",
            "_model_module_version": "1.5.0",
            "_model_name": "ProgressStyleModel",
            "_view_count": null,
            "_view_module": "@jupyter-widgets/base",
            "_view_module_version": "1.2.0",
            "_view_name": "StyleView",
            "bar_color": null,
            "description_width": ""
          }
        },
        "01ec476fc824449d9c597824b8f96331": {
          "model_module": "@jupyter-widgets/base",
          "model_name": "LayoutModel",
          "model_module_version": "1.2.0",
          "state": {
            "_model_module": "@jupyter-widgets/base",
            "_model_module_version": "1.2.0",
            "_model_name": "LayoutModel",
            "_view_count": null,
            "_view_module": "@jupyter-widgets/base",
            "_view_module_version": "1.2.0",
            "_view_name": "LayoutView",
            "align_content": null,
            "align_items": null,
            "align_self": null,
            "border": null,
            "bottom": null,
            "display": null,
            "flex": null,
            "flex_flow": null,
            "grid_area": null,
            "grid_auto_columns": null,
            "grid_auto_flow": null,
            "grid_auto_rows": null,
            "grid_column": null,
            "grid_gap": null,
            "grid_row": null,
            "grid_template_areas": null,
            "grid_template_columns": null,
            "grid_template_rows": null,
            "height": null,
            "justify_content": null,
            "justify_items": null,
            "left": null,
            "margin": null,
            "max_height": null,
            "max_width": null,
            "min_height": null,
            "min_width": null,
            "object_fit": null,
            "object_position": null,
            "order": null,
            "overflow": null,
            "overflow_x": null,
            "overflow_y": null,
            "padding": null,
            "right": null,
            "top": null,
            "visibility": null,
            "width": null
          }
        },
        "51dde3aa23464f30850d8804c7c73a19": {
          "model_module": "@jupyter-widgets/controls",
          "model_name": "DescriptionStyleModel",
          "model_module_version": "1.5.0",
          "state": {
            "_model_module": "@jupyter-widgets/controls",
            "_model_module_version": "1.5.0",
            "_model_name": "DescriptionStyleModel",
            "_view_count": null,
            "_view_module": "@jupyter-widgets/base",
            "_view_module_version": "1.2.0",
            "_view_name": "StyleView",
            "description_width": ""
          }
        }
      }
    }
  },
  "cells": [
    {
      "cell_type": "markdown",
      "metadata": {
        "id": "view-in-github",
        "colab_type": "text"
      },
      "source": [
        "<a href=\"https://colab.research.google.com/github/jaeparkim/ShallowMind/blob/main/BoundaryDetection.ipynb\" target=\"_parent\"><img src=\"https://colab.research.google.com/assets/colab-badge.svg\" alt=\"Open In Colab\"/></a>"
      ]
    },
    {
      "cell_type": "markdown",
      "source": [
        "# Baselines and model perplexity\n",
        "\n",
        "Model perplexity is essentially a way of measuring the similarity of a probability distribution with a sample from that distribution.\n",
        "\n",
        "## Assumptions\n",
        "\n",
        "- We must have the underlying model which the sentence that we compute perplexity for was generated from.\n",
        "- For a sentence not from the assumed distribution, but treated as if it was, the perplexity should be large.\n",
        "- The perplexity is minimized for a sample drawn from the argmax of the distribution. For sentences, this means the most probably sentence has the lowest perplexity.\n",
        "\n",
        "## Perplexity equation\n",
        "\n",
        "$\\text{PPL}(s) = e^{-\\frac{1}{N}\\sum_{i=1}^N \\log p_{\\theta}(x_i|x_{<i})}$\n",
        "\n",
        "The $\\log p_{\\theta}(x_i|x_{<i})$ term is just the log-likelihood of our model which is also just the Cross-Entropy of the input of the model with respect to the predicted output.\n",
        "\n",
        "## Perplexity features\n",
        "\n",
        "- We decided to use 10 features for each sample where feature $i$ is the perplexity on sentences 0 through $i$ in the prompt.\n",
        "- Each prompt has the generated part from either GPT2, GPT2-XL, or a finetuned model. The perplexity is calculated with the same model used to generate the prompt.\n",
        "- Standardized\n",
        "\n",
        "## Predictions (no ML!)\n",
        "- Find where the perplexity significantly decreases, and predict that as the boundary between human and machine.\n",
        "- Each perplexity feature must be normalized or else this will not work well. Perplexity is already normalized by sentence length, but we still perform an extra normalization step.\n",
        "- Performance is highly dependent on the word sampling method.\n",
        "  - For top-p with p=0.4 this gets worse than majority accuracy.\n"
      ],
      "metadata": {
        "id": "4BSSgEkLKQLw"
      }
    },
    {
      "cell_type": "markdown",
      "source": [
        "## Load data"
      ],
      "metadata": {
        "id": "VWbwUP80rf7Q"
      }
    },
    {
      "cell_type": "markdown",
      "source": [
        "Loading precomputed perplexity features. We also load the full dataset and filter out a bad annotator as well as aggregate all the human predicted boundaries by taking the average."
      ],
      "metadata": {
        "id": "QnidXqUtvOR1"
      }
    },
    {
      "cell_type": "code",
      "source": [
        "from google.colab import drive\n",
        "import pandas as pd\n",
        "import numpy as np\n",
        "import torch\n",
        "import torchvision\n",
        "!pip install transformers\n",
        "device = torch.device('cuda:0' if torch.cuda.is_available() else 'cpu')   # use GPU if available\n",
        "print(f\"Using device: {device}\")\n",
        "drive.mount('/content/drive')\n",
        "import numpy as np"
      ],
      "metadata": {
        "id": "ptGQQdu5oQYX",
        "colab": {
          "base_uri": "https://localhost:8080/"
        },
        "outputId": "e4ee8130-c016-4cb7-89b8-d184dc077a1a"
      },
      "execution_count": null,
      "outputs": [
        {
          "output_type": "stream",
          "name": "stdout",
          "text": [
            "Looking in indexes: https://pypi.org/simple, https://us-python.pkg.dev/colab-wheels/public/simple/\n",
            "Collecting transformers\n",
            "  Downloading transformers-4.27.4-py3-none-any.whl (6.8 MB)\n",
            "\u001b[2K     \u001b[90m━━━━━━━━━━━━━━━━━━━━━━━━━━━━━━━━━━━━━━━━\u001b[0m \u001b[32m6.8/6.8 MB\u001b[0m \u001b[31m33.7 MB/s\u001b[0m eta \u001b[36m0:00:00\u001b[0m\n",
            "\u001b[?25hRequirement already satisfied: numpy>=1.17 in /usr/local/lib/python3.9/dist-packages (from transformers) (1.22.4)\n",
            "Requirement already satisfied: pyyaml>=5.1 in /usr/local/lib/python3.9/dist-packages (from transformers) (6.0)\n",
            "Collecting tokenizers!=0.11.3,<0.14,>=0.11.1\n",
            "  Downloading tokenizers-0.13.3-cp39-cp39-manylinux_2_17_x86_64.manylinux2014_x86_64.whl (7.8 MB)\n",
            "\u001b[2K     \u001b[90m━━━━━━━━━━━━━━━━━━━━━━━━━━━━━━━━━━━━━━━━\u001b[0m \u001b[32m7.8/7.8 MB\u001b[0m \u001b[31m17.5 MB/s\u001b[0m eta \u001b[36m0:00:00\u001b[0m\n",
            "\u001b[?25hRequirement already satisfied: filelock in /usr/local/lib/python3.9/dist-packages (from transformers) (3.10.7)\n",
            "Requirement already satisfied: regex!=2019.12.17 in /usr/local/lib/python3.9/dist-packages (from transformers) (2022.10.31)\n",
            "Collecting huggingface-hub<1.0,>=0.11.0\n",
            "  Downloading huggingface_hub-0.13.4-py3-none-any.whl (200 kB)\n",
            "\u001b[2K     \u001b[90m━━━━━━━━━━━━━━━━━━━━━━━━━━━━━━━━━━━━━━━\u001b[0m \u001b[32m200.1/200.1 KB\u001b[0m \u001b[31m8.5 MB/s\u001b[0m eta \u001b[36m0:00:00\u001b[0m\n",
            "\u001b[?25hRequirement already satisfied: requests in /usr/local/lib/python3.9/dist-packages (from transformers) (2.27.1)\n",
            "Requirement already satisfied: packaging>=20.0 in /usr/local/lib/python3.9/dist-packages (from transformers) (23.0)\n",
            "Requirement already satisfied: tqdm>=4.27 in /usr/local/lib/python3.9/dist-packages (from transformers) (4.65.0)\n",
            "Requirement already satisfied: typing-extensions>=3.7.4.3 in /usr/local/lib/python3.9/dist-packages (from huggingface-hub<1.0,>=0.11.0->transformers) (4.5.0)\n",
            "Requirement already satisfied: certifi>=2017.4.17 in /usr/local/lib/python3.9/dist-packages (from requests->transformers) (2022.12.7)\n",
            "Requirement already satisfied: charset-normalizer~=2.0.0 in /usr/local/lib/python3.9/dist-packages (from requests->transformers) (2.0.12)\n",
            "Requirement already satisfied: idna<4,>=2.5 in /usr/local/lib/python3.9/dist-packages (from requests->transformers) (3.4)\n",
            "Requirement already satisfied: urllib3<1.27,>=1.21.1 in /usr/local/lib/python3.9/dist-packages (from requests->transformers) (1.26.15)\n",
            "Installing collected packages: tokenizers, huggingface-hub, transformers\n",
            "Successfully installed huggingface-hub-0.13.4 tokenizers-0.13.3 transformers-4.27.4\n",
            "Using device: cuda:0\n",
            "Mounted at /content/drive\n"
          ]
        }
      ]
    },
    {
      "cell_type": "code",
      "source": [
        "\n",
        "\n",
        "X_gpt2_red_04 = np.load('/content/drive/Shareddrives/CSCI566 Final Project/perplexity/X_perp_gpt2_red_04.npy')\n",
        "y_gpt2_red_04 = np.load('/content/drive/Shareddrives/CSCI566 Final Project/perplexity/y_perp_gpt2_red_04.npy')\n",
        "\n",
        "X_gpt2xl_red_00 = np.load('/content/drive/Shareddrives/CSCI566 Final Project/perplexity/X_perp_gpt2xl_red_00.npy')\n",
        "y_gpt2xl_red_00 = np.load('/content/drive/Shareddrives/CSCI566 Final Project/perplexity/y_perp_gpt2xl_red_00.npy')\n",
        "X_gpt2xl_red_04 = np.load('/content/drive/Shareddrives/CSCI566 Final Project/perplexity/X_perp_gpt2xl_red_04.npy')\n",
        "y_gpt2xl_red_04 = np.load('/content/drive/Shareddrives/CSCI566 Final Project/perplexity/y_perp_gpt2xl_red_04.npy')\n",
        "X_gpt2xl_red_10 = np.load('/content/drive/Shareddrives/CSCI566 Final Project/perplexity/X_perp_gpt2xl_red_10.npy')\n",
        "y_gpt2xl_red_10 = np.load('/content/drive/Shareddrives/CSCI566 Final Project/perplexity/y_perp_gpt2xl_red_10.npy')\n",
        "\n",
        "X_gpt2xl_nyt_00 = np.load('/content/drive/Shareddrives/CSCI566 Final Project/perplexity/X_perp_gpt2xl_nyt_00.npy')\n",
        "y_gpt2xl_nyt_00 = np.load('/content/drive/Shareddrives/CSCI566 Final Project/perplexity/y_perp_gpt2xl_nyt_00.npy')\n",
        "X_gpt2xl_nyt_04 = np.load('/content/drive/Shareddrives/CSCI566 Final Project/perplexity/X_perp_gpt2xl_nyt_04.npy')\n",
        "y_gpt2xl_nyt_04 = np.load('/content/drive/Shareddrives/CSCI566 Final Project/perplexity/y_perp_gpt2xl_nyt_04.npy')\n",
        "X_gpt2xl_nyt_10 = np.load('/content/drive/Shareddrives/CSCI566 Final Project/perplexity/X_perp_gpt2xl_nyt_10.npy')\n",
        "y_gpt2xl_nyt_10 = np.load('/content/drive/Shareddrives/CSCI566 Final Project/perplexity/y_perp_gpt2xl_nyt_10.npy')\n",
        "\n",
        "X_gpt2xl_rec_04 = np.load('/content/drive/Shareddrives/CSCI566 Final Project/perplexity/X_perp_gpt2xl_rec_04.npy')\n",
        "y_gpt2xl_rec_04 = np.load('/content/drive/Shareddrives/CSCI566 Final Project/perplexity/y_perp_gpt2xl_rec_04.npy')\n",
        "\n",
        "X_finetuned_rec_04 = np.load('/content/drive/Shareddrives/CSCI566 Final Project/perplexity/X_perp_finetuned_rec_04.npy')\n",
        "y_finetuned_rec_04 = np.load('/content/drive/Shareddrives/CSCI566 Final Project/perplexity/y_perp_finetuned_rec_04.npy')"
      ],
      "metadata": {
        "id": "9QCSBFAR97T4",
        "colab": {
          "base_uri": "https://localhost:8080/",
          "height": 357
        },
        "outputId": "43b3973d-fddf-4d45-f79f-85cca83cf190"
      },
      "execution_count": null,
      "outputs": [
        {
          "output_type": "error",
          "ename": "FileNotFoundError",
          "evalue": "ignored",
          "traceback": [
            "\u001b[0;31m---------------------------------------------------------------------------\u001b[0m",
            "\u001b[0;31mFileNotFoundError\u001b[0m                         Traceback (most recent call last)",
            "\u001b[0;32m<ipython-input-7-047d7f83f56d>\u001b[0m in \u001b[0;36m<cell line: 3>\u001b[0;34m()\u001b[0m\n\u001b[1;32m      1\u001b[0m \u001b[0;32mimport\u001b[0m \u001b[0mnumpy\u001b[0m \u001b[0;32mas\u001b[0m \u001b[0mnp\u001b[0m\u001b[0;34m\u001b[0m\u001b[0;34m\u001b[0m\u001b[0m\n\u001b[1;32m      2\u001b[0m \u001b[0;34m\u001b[0m\u001b[0m\n\u001b[0;32m----> 3\u001b[0;31m \u001b[0mX_gpt2_red_04\u001b[0m \u001b[0;34m=\u001b[0m \u001b[0mnp\u001b[0m\u001b[0;34m.\u001b[0m\u001b[0mload\u001b[0m\u001b[0;34m(\u001b[0m\u001b[0;34m'/content/drive/Shareddrives/CSCI566 Final Project/perplexity/X_perp_gpt2_red_04.npy'\u001b[0m\u001b[0;34m)\u001b[0m\u001b[0;34m\u001b[0m\u001b[0;34m\u001b[0m\u001b[0m\n\u001b[0m\u001b[1;32m      4\u001b[0m \u001b[0my_gpt2_red_04\u001b[0m \u001b[0;34m=\u001b[0m \u001b[0mnp\u001b[0m\u001b[0;34m.\u001b[0m\u001b[0mload\u001b[0m\u001b[0;34m(\u001b[0m\u001b[0;34m'/content/drive/Shareddrives/CSCI566 Final Project/perplexity/y_perp_gpt2_red_04.npy'\u001b[0m\u001b[0;34m)\u001b[0m\u001b[0;34m\u001b[0m\u001b[0;34m\u001b[0m\u001b[0m\n\u001b[1;32m      5\u001b[0m \u001b[0;34m\u001b[0m\u001b[0m\n",
            "\u001b[0;32m/usr/local/lib/python3.9/dist-packages/numpy/lib/npyio.py\u001b[0m in \u001b[0;36mload\u001b[0;34m(file, mmap_mode, allow_pickle, fix_imports, encoding)\u001b[0m\n\u001b[1;32m    405\u001b[0m             \u001b[0mown_fid\u001b[0m \u001b[0;34m=\u001b[0m \u001b[0;32mFalse\u001b[0m\u001b[0;34m\u001b[0m\u001b[0;34m\u001b[0m\u001b[0m\n\u001b[1;32m    406\u001b[0m         \u001b[0;32melse\u001b[0m\u001b[0;34m:\u001b[0m\u001b[0;34m\u001b[0m\u001b[0;34m\u001b[0m\u001b[0m\n\u001b[0;32m--> 407\u001b[0;31m             \u001b[0mfid\u001b[0m \u001b[0;34m=\u001b[0m \u001b[0mstack\u001b[0m\u001b[0;34m.\u001b[0m\u001b[0menter_context\u001b[0m\u001b[0;34m(\u001b[0m\u001b[0mopen\u001b[0m\u001b[0;34m(\u001b[0m\u001b[0mos_fspath\u001b[0m\u001b[0;34m(\u001b[0m\u001b[0mfile\u001b[0m\u001b[0;34m)\u001b[0m\u001b[0;34m,\u001b[0m \u001b[0;34m\"rb\"\u001b[0m\u001b[0;34m)\u001b[0m\u001b[0;34m)\u001b[0m\u001b[0;34m\u001b[0m\u001b[0;34m\u001b[0m\u001b[0m\n\u001b[0m\u001b[1;32m    408\u001b[0m             \u001b[0mown_fid\u001b[0m \u001b[0;34m=\u001b[0m \u001b[0;32mTrue\u001b[0m\u001b[0;34m\u001b[0m\u001b[0;34m\u001b[0m\u001b[0m\n\u001b[1;32m    409\u001b[0m \u001b[0;34m\u001b[0m\u001b[0m\n",
            "\u001b[0;31mFileNotFoundError\u001b[0m: [Errno 2] No such file or directory: '/content/drive/Shareddrives/CSCI566 Final Project/perplexity/X_perp_gpt2_red_04.npy'"
          ]
        }
      ]
    },
    {
      "cell_type": "code",
      "source": [
        "import pandas as pd\n",
        "df = pd.read_csv('/content/drive/Shareddrives/CSCI566 Final Project/data.csv')\n",
        "\n",
        "# Delete the bad actor from our data\n",
        "df = df[df['annotator'] != 4334]\n",
        "df = df.drop_duplicates(subset='generation')\n",
        "\n",
        "# Average all predicted boundary indexes for the same text\n",
        "df_orig = df.copy()\n",
        "avg_pbis = []\n",
        "for i,row in df.iterrows():\n",
        "  pbis = df_orig[df_orig['generation'] == row['generation']]['predicted_boundary_index']\n",
        "  avg_pbi = np.average(pbis)\n",
        "  avg_pbis.append(int(np.round(avg_pbi)))\n",
        "df['avg_pbi'] = avg_pbis"
      ],
      "metadata": {
        "id": "rpknNTMwBreb"
      },
      "execution_count": null,
      "outputs": []
    },
    {
      "cell_type": "markdown",
      "source": [
        "## Data exploration\n",
        "\n",
        "The following show the distribution of average predicted boundary and the true predicted boundary. We see that there is an imbalance in both the percentage of true boundary of 9 as well as average predicted boundary of 9.\n",
        "\n",
        "The third plot is a rough depiction of how well humans are at correctly predicting the true boundary."
      ],
      "metadata": {
        "id": "6ydgiPGZsTQO"
      }
    },
    {
      "cell_type": "code",
      "source": [
        "import seaborn as sns\n",
        "sns.set_theme(style=\"darkgrid\")\n",
        "\n",
        "bxp = sns.countplot(data=df, x='avg_pbi', color='c')\n",
        "bxp.set_xlim(-1, 10)\n",
        "bxp.set_xlabel(\"Average predicted boundary\")"
      ],
      "metadata": {
        "colab": {
          "base_uri": "https://localhost:8080/",
          "height": 475
        },
        "id": "VYighbwvsY_M",
        "outputId": "f1fb7f1d-0d3f-4d36-9d6a-41e7c08059ea"
      },
      "execution_count": null,
      "outputs": [
        {
          "output_type": "execute_result",
          "data": {
            "text/plain": [
              "Text(0.5, 0, 'Average predicted boundary')"
            ]
          },
          "metadata": {},
          "execution_count": 3
        },
        {
          "output_type": "display_data",
          "data": {
            "text/plain": [
              "<Figure size 640x480 with 1 Axes>"
            ],
            "image/png": "[encoded data removed]"
          },
          "metadata": {}
        }
      ]
    },
    {
      "cell_type": "code",
      "source": [
        "bxp = sns.countplot(data=df, x='true_boundary_index', color='c')\n",
        "bxp.set_xlim(-1, 10)\n",
        "bxp.set_xlabel(\"True boundary\")"
      ],
      "metadata": {
        "colab": {
          "base_uri": "https://localhost:8080/",
          "height": 475
        },
        "id": "QDX5DnkQs9Zl",
        "outputId": "26da0c69-c14e-4dbc-e089-1ff050544249"
      },
      "execution_count": null,
      "outputs": [
        {
          "output_type": "execute_result",
          "data": {
            "text/plain": [
              "Text(0.5, 0, 'True boundary')"
            ]
          },
          "metadata": {},
          "execution_count": 4
        },
        {
          "output_type": "display_data",
          "data": {
            "text/plain": [
              "<Figure size 640x480 with 1 Axes>"
            ],
            "image/png": "[encoded data removed]"
          },
          "metadata": {}
        }
      ]
    },
    {
      "cell_type": "code",
      "source": [
        "plt = sns.catplot(kind=\"box\", data=df, x='true_boundary_index', y='avg_pbi')\n",
        "# plt = sns.violinplot(data=df, x='true_boundary_index', y='avg_pbi')\n",
        "plt.set(xlabel=\"True boundary\")\n",
        "plt.set(ylabel=\"Average predicted boundary\")"
      ],
      "metadata": {
        "colab": {
          "base_uri": "https://localhost:8080/",
          "height": 517
        },
        "id": "j71WzYRys99_",
        "outputId": "d6eff469-7c40-47fb-bb3b-05840736017d"
      },
      "execution_count": null,
      "outputs": [
        {
          "output_type": "execute_result",
          "data": {
            "text/plain": [
              "<seaborn.axisgrid.FacetGrid at 0x7ff03dcf1430>"
            ]
          },
          "metadata": {},
          "execution_count": 5
        },
        {
          "output_type": "display_data",
          "data": {
            "text/plain": [
              "<Figure size 500x500 with 1 Axes>"
            ],
            "image/png": "[encoded data removed]"
          },
          "metadata": {}
        }
      ]
    },
    {
      "cell_type": "markdown",
      "source": [
        "## Baselines"
      ],
      "metadata": {
        "id": "yiC2sEms_vqy"
      }
    },
    {
      "cell_type": "markdown",
      "source": [
        "In the following, we will perform the baseline evaluations and the perplexity baseline for the true boundary data. This will show the general workflow for generating the data and results, and the method for evaluating on the average predicted boundary is exactly the same, except we replace 'true_boundary_index' with 'avg_pbi'.\n",
        "\n",
        "First, we will preprocess the data to get each subset as a list of the ten sentences and the corresponding true boundary and the average human prediction."
      ],
      "metadata": {
        "id": "ZuY-6PpLtejk"
      }
    },
    {
      "cell_type": "code",
      "source": [
        "# Creates a list of tuples (Text, Index) \n",
        "# Text = String of sentences (separated by _SEP_) \n",
        "# Index = index of the last human written sentence in Text\n",
        "\n",
        "def create_index_list(df, model, dataset, top_p):\n",
        "  temp_df = pd.DataFrame()\n",
        "  df_model_dataset = df[(df['model'] == model) & (df['dataset'] == dataset) & (df['dec_strat_value'] == top_p)]\n",
        "\n",
        "  temp_df['text'] = df_model_dataset['prompt_body'] + '_SEP_' + df_model_dataset['gen_body'].fillna('')\n",
        "  temp_df['boundary'] = df_model_dataset['true_boundary_index']\n",
        "  temp_df['human'] = df_model_dataset['avg_pbi']\n",
        "  return list(temp_df.to_records(index=False))\n",
        "\n",
        "# Creating separate index lists for each subset of the data and the full dataset\n",
        "il_gpt2_red_04 = create_index_list(df, \"gpt2\", \"Short Stories\", 0.4)\n",
        "il_gpt2xl_red_00 = create_index_list(df, \"gpt2-xl\", \"Short Stories\", 0.0)\n",
        "il_gpt2xl_red_04 = create_index_list(df, \"gpt2-xl\", \"Short Stories\", 0.4)\n",
        "il_gpt2xl_red_10 = create_index_list(df, \"gpt2-xl\", \"Short Stories\", 1.0)\n",
        "il_gpt2xl_nyt_00 = create_index_list(df, \"gpt2-xl\", \"New York Times\", 0.0)\n",
        "il_gpt2xl_nyt_04 = create_index_list(df, \"gpt2-xl\", \"New York Times\", 0.4)\n",
        "il_gpt2xl_nyt_10 = create_index_list(df, \"gpt2-xl\", \"New York Times\", 1.0)\n",
        "il_gpt2xl_rec_04 = create_index_list(df, \"gpt2-xl\", \"Recipes\", 0.4)\n",
        "il_finetuned_rec_04 = create_index_list(df, \"finetuned\", \"Recipes\", 0.4)\n",
        "\n",
        "temp_df = pd.DataFrame()\n",
        "temp_df['text'] = df['prompt_body'] + '_SEP_' + df['gen_body'].fillna('')\n",
        "temp_df['boundary'] = df['true_boundary_index']\n",
        "temp_df['human'] = df['avg_pbi']\n",
        "il_all = list(temp_df.to_records(index=False))\n",
        "print(len(il_all))"
      ],
      "metadata": {
        "id": "XeyPZcciBioc",
        "colab": {
          "base_uri": "https://localhost:8080/"
        },
        "outputId": "3965e2dd-20e8-46ca-cf20-9e85e267d0d8"
      },
      "execution_count": null,
      "outputs": [
        {
          "output_type": "stream",
          "name": "stdout",
          "text": [
            "7861\n"
          ]
        }
      ]
    },
    {
      "cell_type": "code",
      "source": [
        "# The data will have many duplicates because it represents user attempts at\n",
        "# guessing the boundary. We want to remove all duplicates since we only care\n",
        "# about the actual ground truth.\n",
        "from collections import OrderedDict\n",
        "\n",
        "def clean_index_list(index_list):\n",
        "  dedup_index_list = index_list\n",
        "  print(\"Total unique samples:\", len(dedup_index_list))\n",
        "\n",
        "  cleaned_prompts = []\n",
        "  cleaned_boundary = []\n",
        "  cleaned_hum = []\n",
        "  for row in dedup_index_list:\n",
        "    tmp = []\n",
        "    for sentence in row[0].split(\"_SEP_\"):\n",
        "      tmp.append(sentence)\n",
        "    if len(tmp) >= 10:\n",
        "      cleaned_prompts.append(tmp[0:10])\n",
        "      cleaned_boundary.append(row[1])\n",
        "      cleaned_hum.append(row[2])\n",
        "  return cleaned_prompts, cleaned_boundary, cleaned_hum"
      ],
      "metadata": {
        "id": "f3vn5PmhBnbU"
      },
      "execution_count": null,
      "outputs": []
    },
    {
      "cell_type": "code",
      "source": [
        "# Creating the cleaned list of 10 sentences per sample as well as the true \n",
        "# boundary and average human predicted boundary.\n",
        "prompt_gpt2_red_04, bound_gpt2_red_04, hum_gpt2_red_04 = clean_index_list(il_gpt2_red_04)\n",
        "prompt_gpt2xl_red_00, bound_gpt2xl_red_00, hum_gpt2xl_red_00 = clean_index_list(il_gpt2xl_red_00)\n",
        "prompt_gpt2xl_red_04, bound_gpt2xl_red_04, hum_gpt2xl_red_04 = clean_index_list(il_gpt2xl_red_04)\n",
        "prompt_gpt2xl_red_10, bound_gpt2xl_red_10, hum_gpt2xl_red_10 = clean_index_list(il_gpt2xl_red_10)\n",
        "prompt_gpt2xl_nyt_00, bound_gpt2xl_nyt_00, hum_gpt2xl_nyt_00 = clean_index_list(il_gpt2xl_nyt_00)\n",
        "prompt_gpt2xl_nyt_04, bound_gpt2xl_nyt_04, hum_gpt2xl_nyt_04 = clean_index_list(il_gpt2xl_nyt_04)\n",
        "prompt_gpt2xl_nyt_10, bound_gpt2xl_nyt_10, hum_gpt2xl_nyt_10 = clean_index_list(il_gpt2xl_nyt_10)\n",
        "prompt_gpt2xl_rec_04, bound_gpt2xl_rec_04, hum_gpt2xl_rec_04 = clean_index_list(il_gpt2xl_rec_04)\n",
        "prompt_finetuned_rec_04, bound_finetuned_rec_04, hum_finetuned_rec_04 = clean_index_list(il_finetuned_rec_04)\n",
        "all, all_labels, all_hum = clean_index_list(il_all)\n",
        "print(len(all_labels))"
      ],
      "metadata": {
        "colab": {
          "base_uri": "https://localhost:8080/"
        },
        "id": "zAquwGPTBiFu",
        "outputId": "40e89223-0c4c-4bc3-f335-ed2be294d1fc"
      },
      "execution_count": null,
      "outputs": [
        {
          "output_type": "stream",
          "name": "stdout",
          "text": [
            "Total unique samples: 1217\n",
            "Total unique samples: 195\n",
            "Total unique samples: 217\n",
            "Total unique samples: 196\n",
            "Total unique samples: 501\n",
            "Total unique samples: 460\n",
            "Total unique samples: 488\n",
            "Total unique samples: 1657\n",
            "Total unique samples: 2539\n",
            "Total unique samples: 7861\n",
            "7788\n"
          ]
        }
      ]
    },
    {
      "cell_type": "markdown",
      "source": [
        "Now, we perform our three baseline evaluations: the random baseline, the majority baseline, and the perplexity-based baseline."
      ],
      "metadata": {
        "id": "vNR8ElL6tyPS"
      }
    },
    {
      "cell_type": "markdown",
      "source": [
        "### Random and majority baseline"
      ],
      "metadata": {
        "id": "3dSSkBkczDN-"
      }
    },
    {
      "cell_type": "code",
      "source": [
        "from random import randrange, seed\n",
        "from scipy import stats\n",
        "\n",
        "# Random baseline function\n",
        "seed(42069)\n",
        "def rand_baseline():\n",
        "  return randrange(10)\n",
        "\n",
        "\n",
        "# Majority baseline function\n",
        "def maj_baseline(labels):\n",
        "  return stats.mode(labels)[0][0]"
      ],
      "metadata": {
        "id": "zG9q--VQ_ufb"
      },
      "execution_count": null,
      "outputs": []
    },
    {
      "cell_type": "code",
      "source": [
        "for (X, y, y_hum) in [(prompt_gpt2xl_nyt_00, bound_gpt2xl_nyt_00, hum_gpt2xl_nyt_00),\n",
        "                      (prompt_gpt2xl_nyt_04, bound_gpt2xl_nyt_04, hum_gpt2xl_nyt_04),\n",
        "                      (prompt_gpt2xl_nyt_10, bound_gpt2xl_nyt_10, hum_gpt2xl_nyt_10),\n",
        "                      (prompt_gpt2_red_04, bound_gpt2_red_04, hum_gpt2_red_04),\n",
        "                      (prompt_gpt2xl_red_00, bound_gpt2xl_red_00, hum_gpt2xl_red_00),\n",
        "                      (prompt_gpt2xl_red_04, bound_gpt2xl_red_04, hum_gpt2xl_red_04),\n",
        "                      (prompt_gpt2xl_red_10, bound_gpt2xl_red_10, hum_gpt2xl_red_10),\n",
        "                      (prompt_gpt2xl_rec_04, bound_gpt2xl_rec_04, hum_gpt2xl_rec_04),\n",
        "                      (prompt_finetuned_rec_04, bound_finetuned_rec_04, hum_finetuned_rec_04),\n",
        "                      (all, all_labels, all_hum)]:\n",
        "  N = len(y)\n",
        "  y = np.array(y)\n",
        "  pred_rand = np.array([rand_baseline() for i in range(len(y))])\n",
        "  mode = maj_baseline(y)\n",
        "\n",
        "  pred_maj = np.array([mode for i in range(len(y))])\n",
        "  rand_acc = (y == pred_rand).sum() / N\n",
        "  maj_acc = (y == pred_maj).sum() / N\n",
        "  hum_acc = (y == np.array(y_hum)).sum() / N\n",
        "  print(\"Random accuracy:\", rand_acc)\n",
        "  print(\"Maj accuracy:\", maj_acc)\n",
        "  print(\"Human accuracy:\", hum_acc)\n",
        "  print(\"\\n\")"
      ],
      "metadata": {
        "colab": {
          "base_uri": "https://localhost:8080/"
        },
        "id": "Ni2QtuOfAD_E",
        "outputId": "1ce1326e-65e0-41cf-e27a-ecda7f3da7b5"
      },
      "execution_count": null,
      "outputs": [
        {
          "output_type": "stream",
          "name": "stdout",
          "text": [
            "Random accuracy: 0.1377245508982036\n",
            "Maj accuracy: 0.12375249500998003\n",
            "Human accuracy: 0.1536926147704591\n",
            "\n",
            "\n",
            "Random accuracy: 0.08695652173913043\n",
            "Maj accuracy: 0.11739130434782609\n",
            "Human accuracy: 0.1391304347826087\n",
            "\n",
            "\n",
            "Random accuracy: 0.10245901639344263\n",
            "Maj accuracy: 0.1168032786885246\n",
            "Human accuracy: 0.1885245901639344\n",
            "\n",
            "\n",
            "Random accuracy: 0.09942481511914544\n",
            "Maj accuracy: 0.20542317173377156\n",
            "Human accuracy: 0.2563681183237469\n",
            "\n",
            "\n",
            "Random accuracy: 0.11282051282051282\n",
            "Maj accuracy: 0.1282051282051282\n",
            "Human accuracy: 0.10256410256410256\n",
            "\n",
            "\n",
            "Random accuracy: 0.11981566820276497\n",
            "Maj accuracy: 0.1152073732718894\n",
            "Human accuracy: 0.14285714285714285\n",
            "\n",
            "\n",
            "Random accuracy: 0.10714285714285714\n",
            "Maj accuracy: 0.14285714285714285\n",
            "Human accuracy: 0.23469387755102042\n",
            "\n",
            "\n",
            "Random accuracy: 0.10067114093959731\n",
            "Maj accuracy: 0.50091519219036\n",
            "Human accuracy: 0.35143380109823064\n",
            "\n",
            "\n",
            "Random accuracy: 0.09452540370224498\n",
            "Maj accuracy: 0.11697518708152817\n",
            "Human accuracy: 0.246947617172115\n",
            "\n",
            "\n",
            "Random accuracy: 0.10233692860811505\n",
            "Maj accuracy: 0.1987673343605547\n",
            "Human accuracy: 0.2457627118644068\n",
            "\n",
            "\n"
          ]
        },
        {
          "output_type": "stream",
          "name": "stderr",
          "text": [
            "<ipython-input-9-a08c1c10dd56>:12: FutureWarning: Unlike other reduction functions (e.g. `skew`, `kurtosis`), the default behavior of `mode` typically preserves the axis it acts along. In SciPy 1.11.0, this behavior will change: the default value of `keepdims` will become False, the `axis` over which the statistic is taken will be eliminated, and the value None will no longer be accepted. Set `keepdims` to True or False to avoid this warning.\n",
            "  return stats.mode(labels)[0][0]\n"
          ]
        }
      ]
    },
    {
      "cell_type": "markdown",
      "source": [
        "### Perplexity baseline"
      ],
      "metadata": {
        "id": "jXN-LH3u_8_5"
      }
    },
    {
      "cell_type": "markdown",
      "source": [
        "Before constructing the detection model, we standardize the data because our model will use the largest change in perplexity value to make the detection, so we want each feature to be measured on the same scale."
      ],
      "metadata": {
        "id": "j3XsbNELwtbr"
      }
    },
    {
      "cell_type": "code",
      "source": [
        "import numpy as np\n",
        "from sklearn.preprocessing import StandardScaler\n",
        "\n",
        "all_X = np.concatenate([X_gpt2_red_04, X_gpt2xl_nyt_00, X_gpt2xl_nyt_04, X_gpt2xl_nyt_10, X_gpt2xl_rec_04, X_gpt2xl_red_00, X_gpt2xl_red_04, X_gpt2xl_red_10, X_finetuned_rec_04], axis=0)\n",
        "all_y = np.concatenate([y_gpt2_red_04, y_gpt2xl_nyt_00, y_gpt2xl_nyt_04, y_gpt2xl_nyt_10, y_gpt2xl_rec_04, y_gpt2xl_red_00, y_gpt2xl_red_04, y_gpt2xl_red_10, y_finetuned_rec_04], axis=0)\n",
        "\n",
        "scaler = StandardScaler()\n",
        "for X in [X_gpt2_red_04,\n",
        "          X_gpt2xl_red_00,\n",
        "          X_gpt2xl_red_04,\n",
        "          X_gpt2xl_red_10,\n",
        "          X_gpt2xl_nyt_00,\n",
        "          X_gpt2xl_nyt_04,\n",
        "          X_gpt2xl_nyt_10,\n",
        "          X_gpt2xl_rec_04,\n",
        "          X_finetuned_rec_04,\n",
        "          all_X]:\n",
        "  X[:,:] = scaler.fit_transform(X)"
      ],
      "metadata": {
        "id": "DhrV8QKj98eK"
      },
      "execution_count": null,
      "outputs": []
    },
    {
      "cell_type": "markdown",
      "source": [
        "The perplexity-based detection baseline works by calculating a moving average of window size 2 over the perplexity features from left to right and predicting the location of greatest decrease in perplexity. This model was devised by noting that the perplexity reflects how well a sentence matches the model's distribution over sentences, so a generated sentence should have lower perplexity than a human sentence.\n",
        "\n",
        "When we test this on all our subsets of data, we see that this hunch was correct since for prompts generated with a p=0.0, our baseline performs very well compared to random and majority class while as p increases the performance decreases."
      ],
      "metadata": {
        "id": "Vjar4nwOzQOr"
      }
    },
    {
      "cell_type": "code",
      "source": [
        "# Find boundary between human and machine generated text based on greatest\n",
        "# decrease in moving average.\n",
        "def sliding_dec(features):\n",
        "  '''Perplexity-based detection model'''\n",
        "  window = features[0] + features[1]\n",
        "  last = 0\n",
        "  greatest_dec = 0.0\n",
        "  best_loc = 0\n",
        "  for i in range(2, 10):\n",
        "    next_window = window + features[i] - features[last]\n",
        "    if (window - next_window) >= greatest_dec:\n",
        "      greatest_dec = (window - next_window)\n",
        "      best_loc = i - 2\n",
        "    window = next_window\n",
        "    last += 1\n",
        "  return best_loc"
      ],
      "metadata": {
        "id": "sucZfHAP-Qdc"
      },
      "execution_count": null,
      "outputs": []
    },
    {
      "cell_type": "code",
      "source": [
        "def get_perp_baseline_acc(data, labels):\n",
        "  pred = []\n",
        "  for i in range(data.shape[0]):\n",
        "    pred.append(sliding_dec(data[i]))\n",
        "\n",
        "  pred = np.array(pred)\n",
        "  acc = (labels == pred).sum() / labels.shape[0]\n",
        "  return acc\n",
        "\n",
        "\n",
        "print(\"GPT2-XL NYT p=0.0 accuracy:\\t\", get_perp_baseline_acc(X_gpt2xl_nyt_00, y_gpt2xl_nyt_00))\n",
        "print(\"GPT2-XL NYT p=0.4 accuracy:\\t\", get_perp_baseline_acc(X_gpt2xl_nyt_04, y_gpt2xl_nyt_04))\n",
        "print(\"GPT2-XL NYT p=1.0 accuracy:\\t\", get_perp_baseline_acc(X_gpt2xl_nyt_10, y_gpt2xl_nyt_10))\n",
        "print(\"GPT2 Reddit p=0.4 accuracy:\\t\", get_perp_baseline_acc(X_gpt2_red_04, y_gpt2_red_04))\n",
        "print(\"GPT2-XL Reddit p=0.0 accuracy:\\t\", get_perp_baseline_acc(X_gpt2xl_red_00, y_gpt2xl_red_00))\n",
        "print(\"GPT2-XL Reddit p=0.4 accuracy:\\t\", get_perp_baseline_acc(X_gpt2xl_red_04, y_gpt2xl_red_04))\n",
        "print(\"GPT2-XL Reddit p=1.0 accuracy:\\t\", get_perp_baseline_acc(X_gpt2xl_red_10, y_gpt2xl_red_10))\n",
        "print(\"GPT2-XL Recipes p=0.4 accuracy:\\t\", get_perp_baseline_acc(X_gpt2xl_rec_04, y_gpt2xl_rec_04))\n",
        "print(\"Finetuned Rec. p=0.4 accuracy:\\t\", get_perp_baseline_acc(X_finetuned_rec_04, y_finetuned_rec_04))\n",
        "print(\"Aggregate accuracy:\\t\", get_perp_baseline_acc(all_X, all_y))"
      ],
      "metadata": {
        "id": "GyfBnmBr-x0W"
      },
      "execution_count": null,
      "outputs": []
    },
    {
      "cell_type": "markdown",
      "source": [
        "# Swaraj Vatsa RoBERTa Word Embedding Calculation"
      ],
      "metadata": {
        "id": "sbLDGxGEoQ9v"
      }
    },
    {
      "cell_type": "markdown",
      "source": [
        "Importing raw data from RoFT project\n"
      ],
      "metadata": {
        "id": "f2RHb2FalkFH"
      }
    },
    {
      "cell_type": "code",
      "execution_count": null,
      "metadata": {
        "id": "-DrQsqoNkMk8",
        "colab": {
          "base_uri": "https://localhost:8080/"
        },
        "outputId": "86b1e9e5-f58b-43d6-a341-4c76e6cdd9b7"
      },
      "outputs": [
        {
          "output_type": "stream",
          "name": "stdout",
          "text": [
            "Mounted at /content/drive\n"
          ]
        }
      ],
      "source": [
        "from google.colab import drive\n",
        "import pandas as pd\n",
        "import numpy as np\n",
        "\n",
        "drive.mount('/content/drive')\n",
        "df = pd.read_csv('/content/drive/MyDrive/566/data.csv')"
      ]
    },
    {
      "cell_type": "markdown",
      "source": [
        "Cleaning and de-duplicating the dataset: we leave only one instance of each prompt/generation pair, and remove paragaphs which are less than 10 sentences"
      ],
      "metadata": {
        "id": "XirmmBEmli3E"
      }
    },
    {
      "cell_type": "code",
      "source": [
        "df = df.drop_duplicates(subset='generation')\n",
        "df = df.fillna('')\n",
        "df['full_text'] = df['prompt_body'] + \"_SEP_\" + df['gen_body']\n",
        "df = df[df.apply(lambda x: len(x['full_text'].split(\"_SEP_\")) >= 10,axis=1)]"
      ],
      "metadata": {
        "id": "SpiFaCXMlZhJ"
      },
      "execution_count": null,
      "outputs": []
    },
    {
      "cell_type": "markdown",
      "source": [
        "Train/val/test split (80%,10%,10%) for our whole dataset: we will embed all of the text in each class separately."
      ],
      "metadata": {
        "id": "pMUwE4A5qSNo"
      }
    },
    {
      "cell_type": "code",
      "source": [
        "from sklearn.model_selection import train_test_split\n",
        "\n",
        "df_train, df_val_test = train_test_split(df,test_size=0.2, random_state=42069)\n",
        "df_val, df_test = train_test_split(df_val_test, test_size=0.5,random_state=42069)\n",
        "\n",
        "data_train = np.array(df_train['full_text'])\n",
        "data_val = np.array(df_val['full_text'])\n",
        "data_test = np.array(df_test['full_text'])\n",
        "\n"
      ],
      "metadata": {
        "id": "pJwPozjlleDA"
      },
      "execution_count": null,
      "outputs": []
    },
    {
      "cell_type": "code",
      "source": [
        "!pip install transformers"
      ],
      "metadata": {
        "id": "hS4p2EHPC26L"
      },
      "execution_count": null,
      "outputs": []
    },
    {
      "cell_type": "markdown",
      "source": [
        "Initialize the pre-trained model, and send it to the GPU"
      ],
      "metadata": {
        "id": "XuEYu12Kqwo8"
      }
    },
    {
      "cell_type": "code",
      "source": [
        "from transformers import RobertaTokenizer, RobertaModel\n",
        "import torch\n",
        "model = RobertaModel.from_pretrained('roberta-base',\n",
        "                                  output_hidden_states = True,\n",
        "                                  )\n",
        "\n",
        "tokenizer = RobertaTokenizer.from_pretrained('roberta-base')\n",
        "device = torch.device('cuda:0')\n",
        "model.to(device)"
      ],
      "metadata": {
        "id": "j46O9wnTo39M",
        "colab": {
          "base_uri": "https://localhost:8080/"
        },
        "outputId": "0740e4d5-a7a9-4496-ee44-73c80fd700c1"
      },
      "execution_count": null,
      "outputs": [
        {
          "output_type": "stream",
          "name": "stderr",
          "text": [
            "Some weights of the model checkpoint at roberta-base were not used when initializing RobertaModel: ['lm_head.dense.bias', 'lm_head.layer_norm.bias', 'lm_head.layer_norm.weight', 'lm_head.dense.weight', 'lm_head.bias', 'lm_head.decoder.weight']\n",
            "- This IS expected if you are initializing RobertaModel from the checkpoint of a model trained on another task or with another architecture (e.g. initializing a BertForSequenceClassification model from a BertForPreTraining model).\n",
            "- This IS NOT expected if you are initializing RobertaModel from the checkpoint of a model that you expect to be exactly identical (initializing a BertForSequenceClassification model from a BertForSequenceClassification model).\n"
          ]
        },
        {
          "output_type": "execute_result",
          "data": {
            "text/plain": [
              "RobertaModel(\n",
              "  (embeddings): RobertaEmbeddings(\n",
              "    (word_embeddings): Embedding(50265, 768, padding_idx=1)\n",
              "    (position_embeddings): Embedding(514, 768, padding_idx=1)\n",
              "    (token_type_embeddings): Embedding(1, 768)\n",
              "    (LayerNorm): LayerNorm((768,), eps=1e-05, elementwise_affine=True)\n",
              "    (dropout): Dropout(p=0.1, inplace=False)\n",
              "  )\n",
              "  (encoder): RobertaEncoder(\n",
              "    (layer): ModuleList(\n",
              "      (0-11): 12 x RobertaLayer(\n",
              "        (attention): RobertaAttention(\n",
              "          (self): RobertaSelfAttention(\n",
              "            (query): Linear(in_features=768, out_features=768, bias=True)\n",
              "            (key): Linear(in_features=768, out_features=768, bias=True)\n",
              "            (value): Linear(in_features=768, out_features=768, bias=True)\n",
              "            (dropout): Dropout(p=0.1, inplace=False)\n",
              "          )\n",
              "          (output): RobertaSelfOutput(\n",
              "            (dense): Linear(in_features=768, out_features=768, bias=True)\n",
              "            (LayerNorm): LayerNorm((768,), eps=1e-05, elementwise_affine=True)\n",
              "            (dropout): Dropout(p=0.1, inplace=False)\n",
              "          )\n",
              "        )\n",
              "        (intermediate): RobertaIntermediate(\n",
              "          (dense): Linear(in_features=768, out_features=3072, bias=True)\n",
              "          (intermediate_act_fn): GELUActivation()\n",
              "        )\n",
              "        (output): RobertaOutput(\n",
              "          (dense): Linear(in_features=3072, out_features=768, bias=True)\n",
              "          (LayerNorm): LayerNorm((768,), eps=1e-05, elementwise_affine=True)\n",
              "          (dropout): Dropout(p=0.1, inplace=False)\n",
              "        )\n",
              "      )\n",
              "    )\n",
              "  )\n",
              "  (pooler): RobertaPooler(\n",
              "    (dense): Linear(in_features=768, out_features=768, bias=True)\n",
              "    (activation): Tanh()\n",
              "  )\n",
              ")"
            ]
          },
          "metadata": {},
          "execution_count": 19
        }
      ]
    },
    {
      "cell_type": "markdown",
      "source": [
        "Code to embed a single sentence. We embed each of its tokens by running the model and taking the last hidden layer. These embeddings are then averaged to get the overall embedding for a sentence"
      ],
      "metadata": {
        "id": "-JnVtSkSq1w4"
      }
    },
    {
      "cell_type": "code",
      "source": [
        "def embed(text):\n",
        "\n",
        "  \n",
        "  # Tokenize and prepare text\n",
        "  marked_text = \"[CLS] \" + text + \" [SEP]\"\n",
        "  tokenized_text = tokenizer.tokenize(marked_text)[:512]\n",
        "  indexed_tokens = tokenizer.convert_tokens_to_ids(tokenized_text)\n",
        "  segments_ids = [1]*len(indexed_tokens)\n",
        "\n",
        "  tokens_tensor = torch.tensor([indexed_tokens]).to(device)\n",
        "  segments_tensors = torch.tensor([segments_ids]).to(device)\n",
        "  \n",
        "  # Evaluate the Roberta model on the token sequence\n",
        "  with torch.no_grad():\n",
        "    outputs = model(tokens_tensor, segments_tensors)\n",
        "    hidden_states = outputs[2][1:]\n",
        "\n",
        "  # Embeddings are final layer\n",
        "  token_embeddings = hidden_states[-1]\n",
        "  token_embeddings = torch.squeeze(token_embeddings, dim=0)\n",
        "  list_token_embeddings = [token_embed.tolist() for token_embed in token_embeddings]\n",
        "\n",
        "  list_token_embeddings = np.reshape(list_token_embeddings,(len(tokenized_text),768))\n",
        "\n",
        "  #Average embeddings over the sentence\n",
        "  return np.average(list_token_embeddings,axis=0)    "
      ],
      "metadata": {
        "id": "5pSOSZjeo_zj"
      },
      "execution_count": null,
      "outputs": []
    },
    {
      "cell_type": "markdown",
      "source": [
        "To embed a single piece of text, we concatenate the embeddings of its first ten sentences."
      ],
      "metadata": {
        "id": "UhRTptF2r0tI"
      }
    },
    {
      "cell_type": "code",
      "source": [
        "def embed_datum(datum):\n",
        "  return np.concatenate(np.vectorize(embed,otypes=[np.ndarray])(datum.split(\"_SEP_\")[0:10]))"
      ],
      "metadata": {
        "id": "zLEwjmacr11b"
      },
      "execution_count": null,
      "outputs": []
    },
    {
      "cell_type": "code",
      "source": [
        "from tqdm import tqdm\n",
        "data_train_embedded = []\n",
        "for text in tqdm(data_train):\n",
        "  vec = np.array(embed_datum(text))\n",
        "  data_train_embedded.append(vec)\n",
        "data_train_embedded = np.stack(np.array(data_train_embedded))\n",
        "\n",
        "data_test_embedded = []\n",
        "for text in tqdm(data_test):\n",
        "  vec = np.array(embed_datum(text))\n",
        "  data_test_embedded.append(vec)\n",
        "data_test_embedded = np.array(data_test_embedded)\n",
        "\n",
        "data_val_embedded = []\n",
        "for text in tqdm(data_val):\n",
        "  vec = np.array(embed_datum(text))\n",
        "  data_val_embedded.append(vec)\n",
        "data_val_embedded = np.array(data_val_embedded)"
      ],
      "metadata": {
        "id": "aw1Gy1-NsHYC",
        "colab": {
          "base_uri": "https://localhost:8080/"
        },
        "outputId": "acc36332-1ace-44bb-8612-78191fc2b247"
      },
      "execution_count": null,
      "outputs": [
        {
          "output_type": "stream",
          "name": "stderr",
          "text": [
            "100%|██████████| 7571/7571 [18:54<00:00,  6.67it/s]\n",
            "100%|██████████| 947/947 [02:21<00:00,  6.67it/s]\n",
            "100%|██████████| 946/946 [02:19<00:00,  6.76it/s]\n"
          ]
        }
      ]
    },
    {
      "cell_type": "code",
      "source": [
        "# np.save('/content/drive/Shareddrives/CSCI566 Final Project/data_train_embedded.npy', data_train_embedded)\n",
        "# np.save('/content/drive/Shareddrives/CSCI566 Final Project/data_test_embedded.npy', data_test_embedded)\n",
        "# np.save('/content/drive/Shareddrives/CSCI566 Final Project/data_val_embedded.npy', data_val_embedded)"
      ],
      "metadata": {
        "id": "Cfxh2UuNM3gt"
      },
      "execution_count": null,
      "outputs": []
    },
    {
      "cell_type": "markdown",
      "source": [
        "# SRoBERTa Word Embedding & Coherency Score Calculation"
      ],
      "metadata": {
        "id": "rDUNsOVXu1_O"
      }
    },
    {
      "cell_type": "markdown",
      "source": [
        "Installs the necessary dependencies and creates an instance of the pre-trained Sentence Transformers model"
      ],
      "metadata": {
        "id": "nU3JW2NvdylH"
      }
    },
    {
      "cell_type": "code",
      "source": [
        "import nltk\n",
        "nltk.download('punkt')\n",
        "from sentence_transformers import SentenceTransformer\n",
        "from scipy import spatial\n",
        "from nltk.tokenize import sent_tokenize\n",
        "\n",
        "model = SentenceTransformer('sentence-transformers/nli-roberta-large').to(device='cuda')"
      ],
      "metadata": {
        "id": "drtrJKresrDv",
        "colab": {
          "base_uri": "https://localhost:8080/",
          "height": 227,
          "referenced_widgets": [
            "588425d82cc94d8da183b2a74c67e72a",
            "1e8c4328e4c94dd8bb1d973eaebc490d",
            "bd1c68cd7fdd4c32adc11c810cf0e98f",
            "fd1b00a686e94e0c9530b6fc481f1ee7",
            "c5309f128f6c4c499b6ffddc577c9ab1",
            "bb39fd426dde4f449464e45483acf315",
            "00fff9616569462aa89485f7977f0975",
            "5b70f89a7d704741a824523b5ac6b3d7",
            "79851d17a65f4dbfbf73bc3d30067e84",
            "68a838d6c20346169fd99a78f17da5e8",
            "3a7344cf8c184e57aa43e0fc4e524ccd",
            "aa0399235d6044d5874da7f10b86224b",
            "1de65667900d4d2899bc3424fb9d5a16",
            "bb57b7e771ab49febe5bcd3b5c917d2a",
            "6aceb99c06ac4f928c69d77078eb2b2e",
            "bc4bc05332a54f44964e833189ebc22d",
            "812109fe42ee40b4b21c232a46014c33",
            "b39e88b3dc15462199cac12dc41d4c13",
            "8a2dc8990a1e4135a40828e2527dc4bc",
            "47d0e605a43a4e869151300dcc0f9343",
            "479db8f691314fab99d0579b420d5b71",
            "fb3d558e53594041befe5ddc01114a39",
            "dbb9b540af4f4afe895a2cf11b34813c",
            "92f88a56bf2c4ed8a132e471643294de",
            "0304c1cf5afc436bb0c1c75671de2e80",
            "1711317cd83949d398222aded2bc0cac",
            "3668a5049d5046b383273a61a35e3693",
            "f3f06dceb806444d907807df99ed2033",
            "fbabd3c99abb4236b9ff5b0bdc41db52",
            "054aa74cf32a4fa28ce5c94f313383bf",
            "1219938afcba46d0b8b4479ea56306da",
            "575e5f2a439947588e2100b2765627af",
            "8d40468e672448709aa62abd0982a982",
            "ad5ed5d6ca714d56bb1e33e97c3064e6",
            "498516d18dd143c6bb9532a60510476c",
            "c5290f12df6f47fca7af0622619658d0",
            "d260c0b35b694243ad39096feb60a65c",
            "809972874325463e84cecbfcb287f579",
            "0f7e58eb56254d88a37bd195be2d06a2",
            "8a96e02877204d77abfc17af3328d86f",
            "40727a8b9d954a22aab144014f20f17d",
            "5fa0fb53bab2478297b46f9cc4665cfd",
            "d27889db1a1e4f3688a178289ac172d8",
            "3e9c66b0bcb44e79b6e41666fba6835e",
            "1165dd11985249a5962ad77ccc26b650",
            "cff1d5f3309e47f48df53d62bbacab7a",
            "abf466c8e0c84bd092cac3519bf611df",
            "800185d9640246f7949764f5c86af660",
            "913600be01be43a58d0f24cf5ed3cd86",
            "994c9577406f4264a85e9165581fd21c",
            "efab9434459e43ec8e00653e0ceb1afc",
            "33d76c6d9adb430a983bedcff0d4f9a0",
            "f6f792d534d043189fa67856e1b59b52",
            "2b597c98f3ec49d192de38c60532fea2",
            "255ae8a9d46b4a089054f877c7492991",
            "d27eef6aed334138bfc306b8d859040e",
            "3b110e56aebc45eca10a30175dbde61a",
            "b225ba0f13144cff8081c3008b9a908e",
            "6fd0b0586bdd4ee0b916c3ea8379961e",
            "7d1f2ffe9a444e25b156461dd6844c2b",
            "91b80ad042784cc5ba20ca06b16ce23d",
            "63ed18b6c38046a58b82fa2fb3a0e80f",
            "8073db66187e48809d3d2f3ca56c2dcc",
            "6da7eb9fc9a8478c8a5042a06e08718f",
            "927c350f79f348249391adbda3eda963",
            "01ec476fc824449d9c597824b8f96331",
            "51dde3aa23464f30850d8804c7c73a19"
          ]
        },
        "outputId": "0e1d1e06-4549-41fd-ffa4-8dbfcf08a169"
      },
      "execution_count": null,
      "outputs": [
        {
          "output_type": "display_data",
          "data": {
            "text/plain": [
              "Downloading pytorch_model.bin:   0%|          | 0.00/1.42G [00:00<?, ?B/s]"
            ],
            "application/vnd.jupyter.widget-view+json": {
              "version_major": 2,
              "version_minor": 0,
              "model_id": "588425d82cc94d8da183b2a74c67e72a"
            }
          },
          "metadata": {}
        },
        {
          "output_type": "display_data",
          "data": {
            "text/plain": [
              "Downloading (…)nce_bert_config.json:   0%|          | 0.00/52.0 [00:00<?, ?B/s]"
            ],
            "application/vnd.jupyter.widget-view+json": {
              "version_major": 2,
              "version_minor": 0,
              "model_id": "1e8c4328e4c94dd8bb1d973eaebc490d"
            }
          },
          "metadata": {}
        },
        {
          "output_type": "display_data",
          "data": {
            "text/plain": [
              "Downloading (…)cial_tokens_map.json:   0%|          | 0.00/239 [00:00<?, ?B/s]"
            ],
            "application/vnd.jupyter.widget-view+json": {
              "version_major": 2,
              "version_minor": 0,
              "model_id": "1de65667900d4d2899bc3424fb9d5a16"
            }
          },
          "metadata": {}
        },
        {
          "output_type": "display_data",
          "data": {
            "text/plain": [
              "Downloading (…)e83bd/tokenizer.json:   0%|          | 0.00/1.36M [00:00<?, ?B/s]"
            ],
            "application/vnd.jupyter.widget-view+json": {
              "version_major": 2,
              "version_minor": 0,
              "model_id": "92f88a56bf2c4ed8a132e471643294de"
            }
          },
          "metadata": {}
        },
        {
          "output_type": "display_data",
          "data": {
            "text/plain": [
              "Downloading (…)okenizer_config.json:   0%|          | 0.00/1.17k [00:00<?, ?B/s]"
            ],
            "application/vnd.jupyter.widget-view+json": {
              "version_major": 2,
              "version_minor": 0,
              "model_id": "498516d18dd143c6bb9532a60510476c"
            }
          },
          "metadata": {}
        },
        {
          "output_type": "display_data",
          "data": {
            "text/plain": [
              "Downloading (…)92d4e83bd/vocab.json:   0%|          | 0.00/798k [00:00<?, ?B/s]"
            ],
            "application/vnd.jupyter.widget-view+json": {
              "version_major": 2,
              "version_minor": 0,
              "model_id": "cff1d5f3309e47f48df53d62bbacab7a"
            }
          },
          "metadata": {}
        },
        {
          "output_type": "display_data",
          "data": {
            "text/plain": [
              "Downloading (…)d4e83bd/modules.json:   0%|          | 0.00/229 [00:00<?, ?B/s]"
            ],
            "application/vnd.jupyter.widget-view+json": {
              "version_major": 2,
              "version_minor": 0,
              "model_id": "3b110e56aebc45eca10a30175dbde61a"
            }
          },
          "metadata": {}
        }
      ]
    },
    {
      "cell_type": "markdown",
      "source": [
        "The functions below create the sentence-level word embeddings and calculate the semantic textual similary between pairs of adjacent sentences:\n",
        "- compute_similarity: tokenizes the sentences and computes the average cosine similarity between pairs of adjacent sentences\n",
        "- process_index_list_element: preprocesses the example\n",
        "- create_input_data: creates the X-train dataset in the appropriate format"
      ],
      "metadata": {
        "id": "UU6KKlQtxXro"
      }
    },
    {
      "cell_type": "code",
      "source": [
        "def compute_similarity(sentences):\n",
        "  embeddings = model.encode(sentences)\n",
        "  scores = []\n",
        "  for i in range(len(embeddings)-1):\n",
        "    sen1 = embeddings[i]\n",
        "    sen2 = embeddings[i+1]\n",
        "    similarity_score = 1 - spatial.distance.cosine(sen1, sen2)\n",
        "    scores.append(similarity_score)\n",
        "  return scores, embeddings.tolist()\n",
        "\n",
        "def process_index_list_element(x):\n",
        "  sentences = []\n",
        "  for i, s in enumerate(x.split(\"_SEP_\")):\n",
        "    s = s.replace('\\n', \" \")\n",
        "    sentences.append(s)\n",
        "  return sentences[:10]\n",
        "\n",
        "def create_input_data(data):\n",
        "  count = 0\n",
        "  X = []\n",
        "  E = []\n",
        "  for d in data:\n",
        "    sentences = process_index_list_element(d)\n",
        "    scores, embeddings = compute_similarity(sentences)\n",
        "    X.append(scores)\n",
        "    E.append(embeddings)\n",
        "    count += 1\n",
        "    if(count%100 == 0):\n",
        "      print(count)\n",
        "  return X, E\n"
      ],
      "metadata": {
        "id": "cM6hjfUgsrzq"
      },
      "execution_count": null,
      "outputs": []
    },
    {
      "cell_type": "markdown",
      "source": [
        "Load the embeddings + scores (previously run)"
      ],
      "metadata": {
        "id": "HC5kPIyKxvGK"
      }
    },
    {
      "cell_type": "code",
      "source": [
        "X_train_scores = np.load('/content/drive/Shareddrives/CSCI566 Final Project/coherence/X_train_sentence_scores.npy').tolist()\n",
        "X_test_scores = np.load('/content/drive/Shareddrives/CSCI566 Final Project/coherence/X_test_sentence_scores.npy').tolist()\n",
        "X_train_embeddings = np.load('/content/drive/Shareddrives/CSCI566 Final Project/coherence/X_train_sentence_embeddings.npy')\n",
        "X_test_embeddings = np.load('/content/drive/Shareddrives/CSCI566 Final Project/coherence/X_test_sentence_embeddings.npy')"
      ],
      "metadata": {
        "id": "5twfXazgyR1w"
      },
      "execution_count": null,
      "outputs": []
    },
    {
      "cell_type": "markdown",
      "source": [
        "The code below loads the data from drive and preprocesses it as follows: \n",
        "- filtering out datapoints where the sentences are greater than 10\n",
        "- removing any duplicate examples\n",
        "- ensuring that no duplicates exists between the training and testing subsets"
      ],
      "metadata": {
        "id": "y0InKKvC4loT"
      }
    },
    {
      "cell_type": "code",
      "source": [
        "df = pd.read_csv('/content/drive/Shareddrives/CSCI566 Final Project/data.csv')\n",
        "df = df.fillna('')\n",
        "\n",
        "df_orig = df.copy()\n",
        "avg_pbis = []\n",
        "for i,row in df.iterrows():\n",
        "  pbis = df_orig[df_orig['generation'] == row['generation']]['predicted_boundary_index']\n",
        "  avg_pbi = np.average(pbis)\n",
        "  avg_pbis.append(np.round(avg_pbi))\n",
        "df['avg_pbi'] = avg_pbis\n",
        "\n",
        "df_filtered = df[df.apply(lambda x: len((x['prompt_body'] + x['gen_body']).split(\"_SEP_\")) >= 10, axis=1)]\n",
        "\n",
        "df_train, df_test_val = train_test_split(df_filtered, test_size=0.20, random_state=42069)\n",
        "df_test, df_val = train_test_split(df_test_val, test_size=0.5, random_state=42069)\n",
        "\n",
        "df_train = df_train.drop_duplicates(subset=['generation'],keep='first')\n",
        "df_test = df_test.drop_duplicates(subset=['generation'],keep='first')\n",
        "test_generations = list(df_test['generation'])\n",
        "df_train = df_train[df_train.apply(lambda x: not (x['generation'] in test_generations),axis=1)]\n",
        "\n"
      ],
      "metadata": {
        "id": "snWds4Pi4bpg"
      },
      "execution_count": null,
      "outputs": []
    },
    {
      "cell_type": "code",
      "source": [
        "df_train"
      ],
      "metadata": {
        "colab": {
          "base_uri": "https://localhost:8080/",
          "height": 869
        },
        "id": "_mx-BQ5RZCyr",
        "outputId": "fbc2893c-72a0-4ffe-9cad-5cca2d67026a"
      },
      "execution_count": null,
      "outputs": [
        {
          "output_type": "execute_result",
          "data": {
            "text/plain": [
              "                                   date  annotator      model  \\\n",
              "20131  2021-10-14 01:11:54.110000+00:00       5158    gpt2-xl   \n",
              "23073  2021-10-15 01:26:45.704000+00:00       5357       ctrl   \n",
              "5834   2021-09-08 16:03:59.930000+00:00       2649  finetuned   \n",
              "27434  2021-10-16 03:06:49.360000+00:00       4968  finetuned   \n",
              "5713   2021-09-08 12:53:06.900000+00:00       2608  finetuned   \n",
              "...                                 ...        ...        ...   \n",
              "6496   2021-09-08 22:04:58.842000+00:00       1800    gpt2-xl   \n",
              "27427  2021-10-16 03:05:36.379000+00:00       4896  finetuned   \n",
              "4492   2021-09-06 22:48:05.955000+00:00       2171  finetuned   \n",
              "5073   2021-09-08 00:15:59.441000+00:00       2554       gpt2   \n",
              "2158   2021-09-04 15:23:38.215000+00:00       1838  finetuned   \n",
              "\n",
              "       dec_strat_value                dataset  prompt  \\\n",
              "20131              0.4                Recipes   21300   \n",
              "23073              0.4  Presidential Speeches   13342   \n",
              "5834               0.4                Recipes   17021   \n",
              "27434              0.4                Recipes   19077   \n",
              "5713               0.4                Recipes   14783   \n",
              "...                ...                    ...     ...   \n",
              "6496               0.4          Short Stories    2926   \n",
              "27427              0.4                Recipes   20075   \n",
              "4492               0.4                Recipes   20447   \n",
              "5073               0.4          Short Stories    3003   \n",
              "2158               0.4                Recipes   19305   \n",
              "\n",
              "                                             prompt_body  generation  \\\n",
              "20131  HOW TO MAKE: Fiesta Baked Chicken\\nIngredients...       27590   \n",
              "23073  \"Press Conference in the East Room\" by Preside...       18295   \n",
              "5834   HOW TO MAKE: Chicken Francese with Lemon and P...       22144   \n",
              "27434  HOW TO MAKE: Cheddar-Polenta Biscuits with Ham...       24651   \n",
              "5713   HOW TO MAKE: White Chocolate Mousse with Pomeg...       27275   \n",
              "...                                                  ...         ...   \n",
              "6496   That lost sort of longing lingers as snow fall...        8962   \n",
              "27427  HOW TO MAKE: Chicken Broccoli Casserole\\nIngre...       25795   \n",
              "4492   HOW TO MAKE: Pasta with Braised Fennel, Chard,...       26171   \n",
              "5073   My baby girl looked at me and laughed as she b...       21459   \n",
              "2158   HOW TO MAKE: Veggie Chowder\\nIngredients:\\n2 c...       24917   \n",
              "\n",
              "                                                gen_body  \\\n",
              "20131                                                      \n",
              "23073                                                      \n",
              "5834   Place 2 tablespoons of Pecorino on each piece ...   \n",
              "27434  Transfer the biscuits to the prepared baking s...   \n",
              "5713                                                       \n",
              "...                                                  ...   \n",
              "6496   The right sleeve covers my name._SEP_The left ...   \n",
              "27427  Just watch the cooking time so it doesn't get ...   \n",
              "4492   Use 2 cups broccoli florets, 2 cups kale, 1/3 ...   \n",
              "5073   I told her I would like it if you could take m...   \n",
              "2158   Just make sure that the bacon is vegan!_SEP_Yo...   \n",
              "\n",
              "       predicted_boundary_index  true_boundary_index  points  \\\n",
              "20131                         8                    9       0   \n",
              "23073                         9                    9       5   \n",
              "5834                          6                    0       0   \n",
              "27434                         3                    4       0   \n",
              "5713                          8                    9       0   \n",
              "...                         ...                  ...     ...   \n",
              "6496                          0                    1       0   \n",
              "27427                         6                    6       5   \n",
              "4492                          7                    7       5   \n",
              "5073                          1                    1       5   \n",
              "2158                          5                    5       5   \n",
              "\n",
              "                             reason                   major  \\\n",
              "20131  ['irrelevant', 'repetition']                 ['CIS']   \n",
              "23073                            []                ['MCIT']   \n",
              "5834               ['common_sense']                ['ROBO']   \n",
              "27434              ['common_sense']                ['MCIT']   \n",
              "5713                 ['irrelevant']                ['DATS']   \n",
              "...                             ...                     ...   \n",
              "6496                    ['grammar']         ['CIS', 'MATH']   \n",
              "27427                ['irrelevant']                ['MCIT']   \n",
              "4492                             []                 ['CIS']   \n",
              "5073                 ['irrelevant']                ['PHYS']   \n",
              "2158                 ['irrelevant']  ['CIS', 'ESE', 'MATH']   \n",
              "\n",
              "       recipe_familiarity  news_familiarity  stories_familiarity  \\\n",
              "20131                   4                 2                    2   \n",
              "23073                   3                 2                    2   \n",
              "5834                    4                 4                    3   \n",
              "27434                   2                 2                    1   \n",
              "5713                    4                 2                    4   \n",
              "...                   ...               ...                  ...   \n",
              "6496                    2                 5                    2   \n",
              "27427                   4                 3                    1   \n",
              "4492                    3                 3                    3   \n",
              "5073                    3                 1                    2   \n",
              "2158                    4                 5                    5   \n",
              "\n",
              "       gen_familiarity read_guide  avg_pbi  \n",
              "20131               -1        Yes      8.0  \n",
              "23073                2        Yes      7.0  \n",
              "5834                 1                 5.0  \n",
              "27434                1        Yes      6.0  \n",
              "5713                 1                 5.0  \n",
              "...                ...        ...      ...  \n",
              "6496                 4                 0.0  \n",
              "27427               -1        Yes      6.0  \n",
              "4492                 2                 7.0  \n",
              "5073                 1                 1.0  \n",
              "2158                 3                 4.0  \n",
              "\n",
              "[5092 rows x 20 columns]"
            ],
            "text/html": [
              "\n",
              "  <div id=\"df-df507ffa-1e1b-441d-af02-40fd127aeca4\">\n",
              "    <div class=\"colab-df-container\">\n",
              "      <div>\n",
              "<style scoped>\n",
              "    .dataframe tbody tr th:only-of-type {\n",
              "        vertical-align: middle;\n",
              "    }\n",
              "\n",
              "    .dataframe tbody tr th {\n",
              "        vertical-align: top;\n",
              "    }\n",
              "\n",
              "    .dataframe thead th {\n",
              "        text-align: right;\n",
              "    }\n",
              "</style>\n",
              "<table border=\"1\" class=\"dataframe\">\n",
              "  <thead>\n",
              "    <tr style=\"text-align: right;\">\n",
              "      <th></th>\n",
              "      <th>date</th>\n",
              "      <th>annotator</th>\n",
              "      <th>model</th>\n",
              "      <th>dec_strat_value</th>\n",
              "      <th>dataset</th>\n",
              "      <th>prompt</th>\n",
              "      <th>prompt_body</th>\n",
              "      <th>generation</th>\n",
              "      <th>gen_body</th>\n",
              "      <th>predicted_boundary_index</th>\n",
              "      <th>true_boundary_index</th>\n",
              "      <th>points</th>\n",
              "      <th>reason</th>\n",
              "      <th>major</th>\n",
              "      <th>recipe_familiarity</th>\n",
              "      <th>news_familiarity</th>\n",
              "      <th>stories_familiarity</th>\n",
              "      <th>gen_familiarity</th>\n",
              "      <th>read_guide</th>\n",
              "      <th>avg_pbi</th>\n",
              "    </tr>\n",
              "  </thead>\n",
              "  <tbody>\n",
              "    <tr>\n",
              "      <th>20131</th>\n",
              "      <td>2021-10-14 01:11:54.110000+00:00</td>\n",
              "      <td>5158</td>\n",
              "      <td>gpt2-xl</td>\n",
              "      <td>0.4</td>\n",
              "      <td>Recipes</td>\n",
              "      <td>21300</td>\n",
              "      <td>HOW TO MAKE: Fiesta Baked Chicken\\nIngredients...</td>\n",
              "      <td>27590</td>\n",
              "      <td></td>\n",
              "      <td>8</td>\n",
              "      <td>9</td>\n",
              "      <td>0</td>\n",
              "      <td>['irrelevant', 'repetition']</td>\n",
              "      <td>['CIS']</td>\n",
              "      <td>4</td>\n",
              "      <td>2</td>\n",
              "      <td>2</td>\n",
              "      <td>-1</td>\n",
              "      <td>Yes</td>\n",
              "      <td>8.0</td>\n",
              "    </tr>\n",
              "    <tr>\n",
              "      <th>23073</th>\n",
              "      <td>2021-10-15 01:26:45.704000+00:00</td>\n",
              "      <td>5357</td>\n",
              "      <td>ctrl</td>\n",
              "      <td>0.4</td>\n",
              "      <td>Presidential Speeches</td>\n",
              "      <td>13342</td>\n",
              "      <td>\"Press Conference in the East Room\" by Preside...</td>\n",
              "      <td>18295</td>\n",
              "      <td></td>\n",
              "      <td>9</td>\n",
              "      <td>9</td>\n",
              "      <td>5</td>\n",
              "      <td>[]</td>\n",
              "      <td>['MCIT']</td>\n",
              "      <td>3</td>\n",
              "      <td>2</td>\n",
              "      <td>2</td>\n",
              "      <td>2</td>\n",
              "      <td>Yes</td>\n",
              "      <td>7.0</td>\n",
              "    </tr>\n",
              "    <tr>\n",
              "      <th>5834</th>\n",
              "      <td>2021-09-08 16:03:59.930000+00:00</td>\n",
              "      <td>2649</td>\n",
              "      <td>finetuned</td>\n",
              "      <td>0.4</td>\n",
              "      <td>Recipes</td>\n",
              "      <td>17021</td>\n",
              "      <td>HOW TO MAKE: Chicken Francese with Lemon and P...</td>\n",
              "      <td>22144</td>\n",
              "      <td>Place 2 tablespoons of Pecorino on each piece ...</td>\n",
              "      <td>6</td>\n",
              "      <td>0</td>\n",
              "      <td>0</td>\n",
              "      <td>['common_sense']</td>\n",
              "      <td>['ROBO']</td>\n",
              "      <td>4</td>\n",
              "      <td>4</td>\n",
              "      <td>3</td>\n",
              "      <td>1</td>\n",
              "      <td></td>\n",
              "      <td>5.0</td>\n",
              "    </tr>\n",
              "    <tr>\n",
              "      <th>27434</th>\n",
              "      <td>2021-10-16 03:06:49.360000+00:00</td>\n",
              "      <td>4968</td>\n",
              "      <td>finetuned</td>\n",
              "      <td>0.4</td>\n",
              "      <td>Recipes</td>\n",
              "      <td>19077</td>\n",
              "      <td>HOW TO MAKE: Cheddar-Polenta Biscuits with Ham...</td>\n",
              "      <td>24651</td>\n",
              "      <td>Transfer the biscuits to the prepared baking s...</td>\n",
              "      <td>3</td>\n",
              "      <td>4</td>\n",
              "      <td>0</td>\n",
              "      <td>['common_sense']</td>\n",
              "      <td>['MCIT']</td>\n",
              "      <td>2</td>\n",
              "      <td>2</td>\n",
              "      <td>1</td>\n",
              "      <td>1</td>\n",
              "      <td>Yes</td>\n",
              "      <td>6.0</td>\n",
              "    </tr>\n",
              "    <tr>\n",
              "      <th>5713</th>\n",
              "      <td>2021-09-08 12:53:06.900000+00:00</td>\n",
              "      <td>2608</td>\n",
              "      <td>finetuned</td>\n",
              "      <td>0.4</td>\n",
              "      <td>Recipes</td>\n",
              "      <td>14783</td>\n",
              "      <td>HOW TO MAKE: White Chocolate Mousse with Pomeg...</td>\n",
              "      <td>27275</td>\n",
              "      <td></td>\n",
              "      <td>8</td>\n",
              "      <td>9</td>\n",
              "      <td>0</td>\n",
              "      <td>['irrelevant']</td>\n",
              "      <td>['DATS']</td>\n",
              "      <td>4</td>\n",
              "      <td>2</td>\n",
              "      <td>4</td>\n",
              "      <td>1</td>\n",
              "      <td></td>\n",
              "      <td>5.0</td>\n",
              "    </tr>\n",
              "    <tr>\n",
              "      <th>...</th>\n",
              "      <td>...</td>\n",
              "      <td>...</td>\n",
              "      <td>...</td>\n",
              "      <td>...</td>\n",
              "      <td>...</td>\n",
              "      <td>...</td>\n",
              "      <td>...</td>\n",
              "      <td>...</td>\n",
              "      <td>...</td>\n",
              "      <td>...</td>\n",
              "      <td>...</td>\n",
              "      <td>...</td>\n",
              "      <td>...</td>\n",
              "      <td>...</td>\n",
              "      <td>...</td>\n",
              "      <td>...</td>\n",
              "      <td>...</td>\n",
              "      <td>...</td>\n",
              "      <td>...</td>\n",
              "      <td>...</td>\n",
              "    </tr>\n",
              "    <tr>\n",
              "      <th>6496</th>\n",
              "      <td>2021-09-08 22:04:58.842000+00:00</td>\n",
              "      <td>1800</td>\n",
              "      <td>gpt2-xl</td>\n",
              "      <td>0.4</td>\n",
              "      <td>Short Stories</td>\n",
              "      <td>2926</td>\n",
              "      <td>That lost sort of longing lingers as snow fall...</td>\n",
              "      <td>8962</td>\n",
              "      <td>The right sleeve covers my name._SEP_The left ...</td>\n",
              "      <td>0</td>\n",
              "      <td>1</td>\n",
              "      <td>0</td>\n",
              "      <td>['grammar']</td>\n",
              "      <td>['CIS', 'MATH']</td>\n",
              "      <td>2</td>\n",
              "      <td>5</td>\n",
              "      <td>2</td>\n",
              "      <td>4</td>\n",
              "      <td></td>\n",
              "      <td>0.0</td>\n",
              "    </tr>\n",
              "    <tr>\n",
              "      <th>27427</th>\n",
              "      <td>2021-10-16 03:05:36.379000+00:00</td>\n",
              "      <td>4896</td>\n",
              "      <td>finetuned</td>\n",
              "      <td>0.4</td>\n",
              "      <td>Recipes</td>\n",
              "      <td>20075</td>\n",
              "      <td>HOW TO MAKE: Chicken Broccoli Casserole\\nIngre...</td>\n",
              "      <td>25795</td>\n",
              "      <td>Just watch the cooking time so it doesn't get ...</td>\n",
              "      <td>6</td>\n",
              "      <td>6</td>\n",
              "      <td>5</td>\n",
              "      <td>['irrelevant']</td>\n",
              "      <td>['MCIT']</td>\n",
              "      <td>4</td>\n",
              "      <td>3</td>\n",
              "      <td>1</td>\n",
              "      <td>-1</td>\n",
              "      <td>Yes</td>\n",
              "      <td>6.0</td>\n",
              "    </tr>\n",
              "    <tr>\n",
              "      <th>4492</th>\n",
              "      <td>2021-09-06 22:48:05.955000+00:00</td>\n",
              "      <td>2171</td>\n",
              "      <td>finetuned</td>\n",
              "      <td>0.4</td>\n",
              "      <td>Recipes</td>\n",
              "      <td>20447</td>\n",
              "      <td>HOW TO MAKE: Pasta with Braised Fennel, Chard,...</td>\n",
              "      <td>26171</td>\n",
              "      <td>Use 2 cups broccoli florets, 2 cups kale, 1/3 ...</td>\n",
              "      <td>7</td>\n",
              "      <td>7</td>\n",
              "      <td>5</td>\n",
              "      <td>[]</td>\n",
              "      <td>['CIS']</td>\n",
              "      <td>3</td>\n",
              "      <td>3</td>\n",
              "      <td>3</td>\n",
              "      <td>2</td>\n",
              "      <td></td>\n",
              "      <td>7.0</td>\n",
              "    </tr>\n",
              "    <tr>\n",
              "      <th>5073</th>\n",
              "      <td>2021-09-08 00:15:59.441000+00:00</td>\n",
              "      <td>2554</td>\n",
              "      <td>gpt2</td>\n",
              "      <td>0.4</td>\n",
              "      <td>Short Stories</td>\n",
              "      <td>3003</td>\n",
              "      <td>My baby girl looked at me and laughed as she b...</td>\n",
              "      <td>21459</td>\n",
              "      <td>I told her I would like it if you could take m...</td>\n",
              "      <td>1</td>\n",
              "      <td>1</td>\n",
              "      <td>5</td>\n",
              "      <td>['irrelevant']</td>\n",
              "      <td>['PHYS']</td>\n",
              "      <td>3</td>\n",
              "      <td>1</td>\n",
              "      <td>2</td>\n",
              "      <td>1</td>\n",
              "      <td></td>\n",
              "      <td>1.0</td>\n",
              "    </tr>\n",
              "    <tr>\n",
              "      <th>2158</th>\n",
              "      <td>2021-09-04 15:23:38.215000+00:00</td>\n",
              "      <td>1838</td>\n",
              "      <td>finetuned</td>\n",
              "      <td>0.4</td>\n",
              "      <td>Recipes</td>\n",
              "      <td>19305</td>\n",
              "      <td>HOW TO MAKE: Veggie Chowder\\nIngredients:\\n2 c...</td>\n",
              "      <td>24917</td>\n",
              "      <td>Just make sure that the bacon is vegan!_SEP_Yo...</td>\n",
              "      <td>5</td>\n",
              "      <td>5</td>\n",
              "      <td>5</td>\n",
              "      <td>['irrelevant']</td>\n",
              "      <td>['CIS', 'ESE', 'MATH']</td>\n",
              "      <td>4</td>\n",
              "      <td>5</td>\n",
              "      <td>5</td>\n",
              "      <td>3</td>\n",
              "      <td></td>\n",
              "      <td>4.0</td>\n",
              "    </tr>\n",
              "  </tbody>\n",
              "</table>\n",
              "<p>5092 rows × 20 columns</p>\n",
              "</div>\n",
              "      <button class=\"colab-df-convert\" onclick=\"convertToInteractive('df-df507ffa-1e1b-441d-af02-40fd127aeca4')\"\n",
              "              title=\"Convert this dataframe to an interactive table.\"\n",
              "              style=\"display:none;\">\n",
              "        \n",
              "  <svg xmlns=\"http://www.w3.org/2000/svg\" height=\"24px\"viewBox=\"0 0 24 24\"\n",
              "       width=\"24px\">\n",
              "    <path d=\"M0 0h24v24H0V0z\" fill=\"none\"/>\n",
              "    <path d=\"M18.56 5.44l.94 2.06.94-2.06 2.06-.94-2.06-.94-.94-2.06-.94 2.06-2.06.94zm-11 1L8.5 8.5l.94-2.06 2.06-.94-2.06-.94L8.5 2.5l-.94 2.06-2.06.94zm10 10l.94 2.06.94-2.06 2.06-.94-2.06-.94-.94-2.06-.94 2.06-2.06.94z\"/><path d=\"M17.41 7.96l-1.37-1.37c-.4-.4-.92-.59-1.43-.59-.52 0-1.04.2-1.43.59L10.3 9.45l-7.72 7.72c-.78.78-.78 2.05 0 2.83L4 21.41c.39.39.9.59 1.41.59.51 0 1.02-.2 1.41-.59l7.78-7.78 2.81-2.81c.8-.78.8-2.07 0-2.86zM5.41 20L4 18.59l7.72-7.72 1.47 1.35L5.41 20z\"/>\n",
              "  </svg>\n",
              "      </button>\n",
              "      \n",
              "  <style>\n",
              "    .colab-df-container {\n",
              "      display:flex;\n",
              "      flex-wrap:wrap;\n",
              "      gap: 12px;\n",
              "    }\n",
              "\n",
              "    .colab-df-convert {\n",
              "      background-color: #E8F0FE;\n",
              "      border: none;\n",
              "      border-radius: 50%;\n",
              "      cursor: pointer;\n",
              "      display: none;\n",
              "      fill: #1967D2;\n",
              "      height: 32px;\n",
              "      padding: 0 0 0 0;\n",
              "      width: 32px;\n",
              "    }\n",
              "\n",
              "    .colab-df-convert:hover {\n",
              "      background-color: #E2EBFA;\n",
              "      box-shadow: 0px 1px 2px rgba(60, 64, 67, 0.3), 0px 1px 3px 1px rgba(60, 64, 67, 0.15);\n",
              "      fill: #174EA6;\n",
              "    }\n",
              "\n",
              "    [theme=dark] .colab-df-convert {\n",
              "      background-color: #3B4455;\n",
              "      fill: #D2E3FC;\n",
              "    }\n",
              "\n",
              "    [theme=dark] .colab-df-convert:hover {\n",
              "      background-color: #434B5C;\n",
              "      box-shadow: 0px 1px 3px 1px rgba(0, 0, 0, 0.15);\n",
              "      filter: drop-shadow(0px 1px 2px rgba(0, 0, 0, 0.3));\n",
              "      fill: #FFFFFF;\n",
              "    }\n",
              "  </style>\n",
              "\n",
              "      <script>\n",
              "        const buttonEl =\n",
              "          document.querySelector('#df-df507ffa-1e1b-441d-af02-40fd127aeca4 button.colab-df-convert');\n",
              "        buttonEl.style.display =\n",
              "          google.colab.kernel.accessAllowed ? 'block' : 'none';\n",
              "\n",
              "        async function convertToInteractive(key) {\n",
              "          const element = document.querySelector('#df-df507ffa-1e1b-441d-af02-40fd127aeca4');\n",
              "          const dataTable =\n",
              "            await google.colab.kernel.invokeFunction('convertToInteractive',\n",
              "                                                     [key], {});\n",
              "          if (!dataTable) return;\n",
              "\n",
              "          const docLinkHtml = 'Like what you see? Visit the ' +\n",
              "            '<a target=\"_blank\" href=https://colab.research.google.com/notebooks/data_table.ipynb>data table notebook</a>'\n",
              "            + ' to learn more about interactive tables.';\n",
              "          element.innerHTML = '';\n",
              "          dataTable['output_type'] = 'display_data';\n",
              "          await google.colab.output.renderOutput(dataTable, element);\n",
              "          const docLink = document.createElement('div');\n",
              "          docLink.innerHTML = docLinkHtml;\n",
              "          element.appendChild(docLink);\n",
              "        }\n",
              "      </script>\n",
              "    </div>\n",
              "  </div>\n",
              "  "
            ]
          },
          "metadata": {},
          "execution_count": 49
        }
      ]
    },
    {
      "cell_type": "code",
      "source": [
        "np.save('/content/drive/Shareddrives/CSCI566 Final Project/coherence/X_train_sentence_scores.npy', X_train_scores)\n",
        "np.save('/content/drive/Shareddrives/CSCI566 Final Project/coherence/X_test_sentence_scores.npy', X_test_scores)\n",
        "np.save('/content/drive/Shareddrives/CSCI566 Final Project/coherence/X_train_sentence_embeddings.npy', X_train_embeddings)\n",
        "np.save('/content/drive/Shareddrives/CSCI566 Final Project/coherence/X_train_sentence_embeddings.npy', data_val_embedded)"
      ],
      "metadata": {
        "id": "4BQgvjsfYzzw"
      },
      "execution_count": null,
      "outputs": []
    },
    {
      "cell_type": "code",
      "source": [
        "df_train['coherency'] = X_train_scores\n",
        "df_test['coherency'] = X_test_scores\n",
        "\n",
        "X_train_embeddings_flat = []\n",
        "for x in X_train_embeddings:\n",
        "  X_train_embeddings_flat.append(x.ravel().tolist())\n",
        "\n",
        "X_test_embeddings_flat = []\n",
        "for x in X_test_embeddings:\n",
        "  X_test_embeddings_flat.append(x.ravel().tolist())\n",
        "\n",
        "df_train['embeddings'] = X_train_embeddings_flat\n",
        "df_test['embeddings'] = X_test_embeddings_flat"
      ],
      "metadata": {
        "id": "7qaZTReuy6Ci"
      },
      "execution_count": null,
      "outputs": []
    },
    {
      "cell_type": "markdown",
      "source": [
        "# SRoBERTa Classifier Experimentation"
      ],
      "metadata": {
        "id": "UvyFP7WPeJSV"
      }
    },
    {
      "cell_type": "markdown",
      "source": [
        "We ran experiments on a variety of classifiers in order to determine which model was best able to use the SRoBERTa scores to predict the true boundary index. \n",
        "\n",
        "*In order to replicate our results for predicted boundary, replace df_train['true_boundary_index'] and df_test['true_boundary_index'] with df_train['avg_pbi'] and df_test['avg_pbi'] respectively*\n",
        "\n",
        "For each classifier, GridSearchCV was run in order to determine the optimal hyperparameters. The parameters shown in the instatiation of each classifier below are the highest performing for each respective model.\n",
        "\n",
        "The models below show SRoBERTa experimentation. NOTE: this section will take a considerably long time to run  "
      ],
      "metadata": {
        "id": "lIuETVwjeLl7"
      }
    },
    {
      "cell_type": "code",
      "source": [
        "from sklearn import preprocessing\n",
        "from sklearn import metrics\n",
        "\n",
        "X_train = np.stack(df_train['embeddings'])\n",
        "X_test = np.stack(df_test['embeddings'])\n",
        "y_train = np.stack(df_train['true_boundary_index'])\n",
        "y_test = np.stack(df_test['true_boundary_index'])\n",
        "\n",
        "scaler = preprocessing.StandardScaler().fit(X_train)\n",
        "\n",
        "X_train_scaled = scaler.transform(X_train)\n",
        "X_test_scaled = scaler.transform(X_test)\n",
        "\n",
        "train_acc = []\n",
        "test_acc = []"
      ],
      "metadata": {
        "id": "ndvn7LvOef_c"
      },
      "execution_count": null,
      "outputs": []
    },
    {
      "cell_type": "markdown",
      "source": [
        "Logistic Regression"
      ],
      "metadata": {
        "id": "_a8Npf7Sef_c"
      }
    },
    {
      "cell_type": "code",
      "source": [
        "from sklearn import linear_model\n",
        "lr = linear_model.LogisticRegression(\n",
        "    penalty='l2',\n",
        "    random_state=42069,\n",
        "    multi_class='multinomial',\n",
        "    solver = 'lbfgs',\n",
        "    max_iter = 100,\n",
        "    C = 0.0005)\n",
        "\n",
        "lr.fit(X_train_scaled, y_train)\n",
        "\n",
        "print(\"Train accuracy \" + str(metrics.accuracy_score(lr.predict(X_train_scaled),y_train)))\n",
        "print(\"Test accuracy \" + str(metrics.accuracy_score(lr.predict(X_test_scaled),y_test)))\n",
        "print(\"Train MAE \" + str(metrics.mean_absolute_error(lr.predict(X_train_scaled),y_train)))\n",
        "print(\"Test MAE \" + str(metrics.mean_absolute_error(lr.predict(X_test_scaled),y_test)))\n",
        "\n",
        "train_acc.append(metrics.accuracy_score(lr.predict(X_train_scaled), y_train))\n",
        "test_acc.append(metrics.accuracy_score(lr.predict(X_test_scaled), y_test))"
      ],
      "metadata": {
        "colab": {
          "base_uri": "https://localhost:8080/"
        },
        "outputId": "1a6ffe6e-22d2-4172-9dad-65258eed3b64",
        "id": "-2IM9w-8ef_c"
      },
      "execution_count": null,
      "outputs": [
        {
          "output_type": "stream",
          "name": "stderr",
          "text": [
            "/usr/local/lib/python3.7/dist-packages/sklearn/linear_model/_logistic.py:818: ConvergenceWarning: lbfgs failed to converge (status=1):\n",
            "STOP: TOTAL NO. of ITERATIONS REACHED LIMIT.\n",
            "\n",
            "Increase the number of iterations (max_iter) or scale the data as shown in:\n",
            "    https://scikit-learn.org/stable/modules/preprocessing.html\n",
            "Please also refer to the documentation for alternative solver options:\n",
            "    https://scikit-learn.org/stable/modules/linear_model.html#logistic-regression\n",
            "  extra_warning_msg=_LOGISTIC_SOLVER_CONVERGENCE_MSG,\n"
          ]
        },
        {
          "output_type": "stream",
          "name": "stdout",
          "text": [
            "Train accuracy 0.8521209740769835\n",
            "Test accuracy 0.41084513922813876\n",
            "Train MAE 0.5701099764336214\n",
            "Test MAE 2.1231069858329263\n"
          ]
        }
      ]
    },
    {
      "cell_type": "markdown",
      "source": [
        "Random Forest"
      ],
      "metadata": {
        "id": "XLjDojtUef_l"
      }
    },
    {
      "cell_type": "code",
      "source": [
        "from sklearn.ensemble import RandomForestClassifier\n",
        "\n",
        "rf = RandomForestClassifier(\n",
        "    n_estimators = 500,\n",
        "    criterion = 'entropy',\n",
        "    max_depth = 2, \n",
        "    random_state=42069, \n",
        "    max_features = 'auto')\n",
        "rf.fit(X_train_scaled, y_train)\n",
        "\n",
        "print(\"Train accuracy \" + str(metrics.accuracy_score(rf.predict(X_train_scaled),y_train)))\n",
        "print(\"Test accuracy \" + str(metrics.accuracy_score(rf.predict(X_test_scaled),y_test)))\n",
        "print(\"Train MAE \" + str(metrics.mean_absolute_error(rf.predict(X_train_scaled),y_train)))\n",
        "print(\"Test MAE \" + str(metrics.mean_absolute_error(rf.predict(X_test_scaled),y_test)))\n",
        "\n",
        "train_acc.append(metrics.accuracy_score(rf.predict(X_train_scaled), y_train))\n",
        "test_acc.append(metrics.accuracy_score(rf.predict(X_test_scaled), y_test))"
      ],
      "metadata": {
        "colab": {
          "base_uri": "https://localhost:8080/"
        },
        "outputId": "561d5704-8867-4427-a2ad-8fc343346b1a",
        "id": "PTrCbyjKef_m"
      },
      "execution_count": null,
      "outputs": [
        {
          "output_type": "stream",
          "name": "stdout",
          "text": [
            "Train accuracy 0.2152395915161037\n",
            "Test accuracy 0.2154372252076209\n",
            "Train MAE 3.9988216810683426\n",
            "Test MAE 3.94333170493405\n"
          ]
        }
      ]
    },
    {
      "cell_type": "markdown",
      "source": [
        "K-Nearest Neighbors"
      ],
      "metadata": {
        "id": "FFlBXaO1ef_m"
      }
    },
    {
      "cell_type": "code",
      "source": [
        "from sklearn.neighbors import KNeighborsClassifier\n",
        "\n",
        "knn = KNeighborsClassifier(\n",
        "    n_neighbors = 37,\n",
        "    algorithm = 'auto',\n",
        "    weights = 'uniform')\n",
        "\n",
        "knn.fit(X_train_scaled,y_train)\n",
        "\n",
        "print(\"Train accuracy \" + str(metrics.accuracy_score(knn.predict(X_train_scaled),y_train)))\n",
        "print(\"Test accuracy \" + str(metrics.accuracy_score(knn.predict(X_test_scaled),y_test)))\n",
        "print(\"Train MAE \" + str(metrics.mean_absolute_error(knn.predict(X_train_scaled),y_train)))\n",
        "print(\"Test MAE \" + str(metrics.mean_absolute_error(knn.predict(X_test_scaled),y_test)))\n",
        "\n",
        "train_acc.append(metrics.accuracy_score(knn.predict(X_train_scaled), y_train))\n",
        "test_acc.append(metrics.accuracy_score(knn.predict(X_test_scaled), y_test))"
      ],
      "metadata": {
        "colab": {
          "base_uri": "https://localhost:8080/"
        },
        "outputId": "fd1d6ddc-6194-4a92-a1a1-1e72eb8a0083",
        "id": "Irp8EMj1ef_m"
      },
      "execution_count": null,
      "outputs": [
        {
          "output_type": "stream",
          "name": "stdout",
          "text": [
            "Train accuracy 0.3375883739198743\n",
            "Test accuracy 0.2706399609184172\n",
            "Train MAE 2.6842105263157894\n",
            "Test MAE 2.78114313629702\n"
          ]
        }
      ]
    },
    {
      "cell_type": "markdown",
      "source": [
        "Neural Network"
      ],
      "metadata": {
        "id": "63qZ96_Lef_m"
      }
    },
    {
      "cell_type": "code",
      "source": [
        "from sklearn import neural_network\n",
        "\n",
        "mlp = neural_network.MLPClassifier(\n",
        "    learning_rate='adaptive',\n",
        "    activation='identity',\n",
        "    hidden_layer_sizes = (512, 512))\n",
        "\n",
        "mlp.fit(X_train,y_train)\n",
        "\n",
        "print(\"Train accuracy \" + str(metrics.accuracy_score(mlp.predict(X_train_scaled),y_train)))\n",
        "print(\"Test accuracy \" + str(metrics.accuracy_score(mlp.predict(X_test_scaled),y_test)))\n",
        "print(\"Train MAE \" + str(metrics.mean_absolute_error(mlp.predict(X_train_scaled),y_train)))\n",
        "print(\"Test MAE \" + str(metrics.mean_absolute_error(mlp.predict(X_test_scaled),y_test)))\n",
        "\n",
        "train_acc.append(metrics.accuracy_score(mlp.predict(X_train_scaled), y_train))\n",
        "test_acc.append(metrics.accuracy_score(mlp.predict(X_test_scaled), y_test))"
      ],
      "metadata": {
        "colab": {
          "base_uri": "https://localhost:8080/"
        },
        "outputId": "234bd962-ae58-4fc1-aec7-bc9245d5e311",
        "id": "IGdtKIJMef_m"
      },
      "execution_count": null,
      "outputs": [
        {
          "output_type": "stream",
          "name": "stdout",
          "text": [
            "Train accuracy 0.9465828750981933\n",
            "Test accuracy 0.3248656570591109\n",
            "Train MAE 0.2786724273369992\n",
            "Test MAE 2.376648754274548\n"
          ]
        }
      ]
    },
    {
      "cell_type": "markdown",
      "source": [
        "Multiclass SVM"
      ],
      "metadata": {
        "id": "GtHYFwnAef_m"
      }
    },
    {
      "cell_type": "code",
      "source": [
        "from sklearn.svm import SVC\n",
        "\n",
        "svm = SVC(gamma='scale',\n",
        "          kernel = 'poly',\n",
        "          max_iter = 100,\n",
        "          C = 0.005)\n",
        "\n",
        "svm.fit(X_train_scaled, y_train)\n",
        "\n",
        "from sklearn import metrics\n",
        "print(\"Train accuracy \" + str(metrics.accuracy_score(svm.predict(X_train_scaled),y_train)))\n",
        "print(\"Test accuracy \" + str(metrics.accuracy_score(svm.predict(X_test_scaled),y_test)))\n",
        "print(\"Train MAE \" + str(metrics.mean_absolute_error(svm.predict(X_train_scaled),y_train)))\n",
        "print(\"Test MAE \" + str(metrics.mean_absolute_error(svm.predict(X_test_scaled),y_test)))\n",
        "\n",
        "train_acc.append(metrics.accuracy_score(svm.predict(X_train_scaled), y_train))\n",
        "test_acc.append(metrics.accuracy_score(svm.predict(X_test_scaled), y_test))"
      ],
      "metadata": {
        "colab": {
          "base_uri": "https://localhost:8080/"
        },
        "outputId": "b82f8c4c-1b54-49a6-c3e3-37395b38c566",
        "id": "9xkH_7keef_m"
      },
      "execution_count": null,
      "outputs": [
        {
          "output_type": "stream",
          "name": "stderr",
          "text": [
            "/usr/local/lib/python3.7/dist-packages/sklearn/svm/_base.py:289: ConvergenceWarning: Solver terminated early (max_iter=50).  Consider pre-processing your data with StandardScaler or MinMaxScaler.\n",
            "  ConvergenceWarning,\n"
          ]
        },
        {
          "output_type": "stream",
          "name": "stdout",
          "text": [
            "Train accuracy 0.2586410054988217\n",
            "Test accuracy 0.22911577918905715\n",
            "Train MAE 3.749214454045562\n",
            "Test MAE 3.794333170493405\n"
          ]
        }
      ]
    },
    {
      "cell_type": "code",
      "source": [
        "import matplotlib.pyplot as plt\n",
        "\n",
        "labels = ['Logistic Regression', 'Random Forest', 'KNN', 'SVM', 'Neural Network']\n",
        "fig = plt.figure(figsize=(8, 5))\n",
        "plt.title(\"Training Acuracies for SRoBERTa Experimentation\")\n",
        "plt.bar(labels, train_acc[:5], width = 0.5)\n",
        "plt.show()\n",
        "\n",
        "fig = plt.figure(figsize=(8, 5))\n",
        "plt.title(\"Testing Acuracies for SRoBERTa Experimentation\")\n",
        "plt.bar(labels, test_acc[:5], width = 0.5, color = 'g')\n",
        "plt.show()\n"
      ],
      "metadata": {
        "colab": {
          "base_uri": "https://localhost:8080/",
          "height": 655
        },
        "outputId": "ea8b7b6b-38d3-405d-a456-69442e1f1a98",
        "id": "9zNUxt9Vef_n"
      },
      "execution_count": null,
      "outputs": [
        {
          "output_type": "display_data",
          "data": {
            "image/png": "[encoded data removed]",
            "text/plain": [
              "<Figure size 576x360 with 1 Axes>"
            ]
          },
          "metadata": {
            "needs_background": "light"
          }
        },
        {
          "output_type": "display_data",
          "data": {
            "image/png": "[encoded data removed]",
            "text/plain": [
              "<Figure size 576x360 with 1 Axes>"
            ]
          },
          "metadata": {
            "needs_background": "light"
          }
        }
      ]
    },
    {
      "cell_type": "markdown",
      "source": [
        "# Semantic Textual Similarity (Coherency) Classifier Experimentation"
      ],
      "metadata": {
        "id": "mOKrkTagykeO"
      }
    },
    {
      "cell_type": "markdown",
      "source": [
        "We ran experiments on a variety of classifiers in order to determine which model was best able to use sentence-level coherence scores to predict the true boundary index. \n",
        "\n",
        "*In order to replicate our results for predicted boundary, replace df_train['true_boundary_index'] and df_test['true_boundary_index'] with df_train['avg_pbi'] and df_test['avg_pbi'] respectively*\n",
        "\n",
        "For each classifier, GridSearchCV was run in order to determine the optimal hyperparameters. The parameters shown in the instatiation of each classifier below are the highest performing for each respective model.\n",
        "\n",
        "The models below show STS experimentation "
      ],
      "metadata": {
        "id": "GgMl96UzzIAR"
      }
    },
    {
      "cell_type": "code",
      "source": [
        "from sklearn import preprocessing\n",
        "from sklearn import metrics\n",
        "\n",
        "X_train = np.stack(df_train['coherency'])\n",
        "X_test = np.stack(df_test['coherency'])\n",
        "y_train = np.stack(df_train['true_boundary_index'])\n",
        "y_test = np.stack(df_test['true_boundary_index'])\n",
        "\n",
        "scaler = preprocessing.StandardScaler().fit(X_train)\n",
        "\n",
        "X_train_scaled = scaler.transform(X_train)\n",
        "X_test_scaled = scaler.transform(X_test)\n",
        "\n",
        "train_acc = []\n",
        "test_acc = []"
      ],
      "metadata": {
        "id": "C14C1XPBylDl"
      },
      "execution_count": null,
      "outputs": []
    },
    {
      "cell_type": "markdown",
      "source": [
        "Logistic Regression"
      ],
      "metadata": {
        "id": "y2fASGz9zQDu"
      }
    },
    {
      "cell_type": "code",
      "source": [
        "from sklearn import linear_model\n",
        "lr = linear_model.LogisticRegression(\n",
        "    penalty='l2',\n",
        "    random_state=42069,\n",
        "    multi_class='multinomial',\n",
        "    solver = 'lbfgs',\n",
        "    max_iter = 100,\n",
        "    C = 0.5)\n",
        "\n",
        "lr.fit(X_train_scaled, y_train)\n",
        "\n",
        "print(\"Train accuracy \" + str(metrics.accuracy_score(lr.predict(X_train_scaled),y_train)))\n",
        "print(\"Test accuracy \" + str(metrics.accuracy_score(lr.predict(X_test_scaled),y_test)))\n",
        "print(\"Train MAE \" + str(metrics.mean_absolute_error(lr.predict(X_train_scaled),y_train)))\n",
        "print(\"Test MAE \" + str(metrics.mean_absolute_error(lr.predict(X_test_scaled),y_test)))\n",
        "\n",
        "train_acc.append(metrics.accuracy_score(lr.predict(X_train_scaled), y_train))\n",
        "test_acc.append(metrics.accuracy_score(lr.predict(X_test_scaled), y_test))"
      ],
      "metadata": {
        "colab": {
          "base_uri": "https://localhost:8080/"
        },
        "id": "3N7BvbYyzKfU",
        "outputId": "94cd7435-6fb8-408b-b4bd-1534fe2808de"
      },
      "execution_count": null,
      "outputs": [
        {
          "output_type": "stream",
          "name": "stdout",
          "text": [
            "Train accuracy 0.22388059701492538\n",
            "Test accuracy 0.21836834391792867\n",
            "Train MAE 3.7390023566378634\n",
            "Test MAE 3.764533463605276\n"
          ]
        }
      ]
    },
    {
      "cell_type": "markdown",
      "source": [
        "Random Forest"
      ],
      "metadata": {
        "id": "0tRrnagN5BCU"
      }
    },
    {
      "cell_type": "code",
      "source": [
        "from sklearn.ensemble import RandomForestClassifier\n",
        "\n",
        "rf = RandomForestClassifier(\n",
        "    n_estimators = 500,\n",
        "    criterion = 'entropy',\n",
        "    max_depth = 2, \n",
        "    random_state=42069, \n",
        "    max_features = 'auto')\n",
        "rf.fit(X_train_scaled, y_train)\n",
        "\n",
        "print(\"Train accuracy \" + str(metrics.accuracy_score(rf.predict(X_train_scaled),y_train)))\n",
        "print(\"Test accuracy \" + str(metrics.accuracy_score(rf.predict(X_test_scaled),y_test)))\n",
        "print(\"Train MAE \" + str(metrics.mean_absolute_error(rf.predict(X_train_scaled),y_train)))\n",
        "print(\"Test MAE \" + str(metrics.mean_absolute_error(rf.predict(X_test_scaled),y_test)))\n",
        "\n",
        "train_acc.append(metrics.accuracy_score(rf.predict(X_train_scaled), y_train))\n",
        "test_acc.append(metrics.accuracy_score(rf.predict(X_test_scaled), y_test))"
      ],
      "metadata": {
        "colab": {
          "base_uri": "https://localhost:8080/"
        },
        "id": "NYmhq7JAzNaw",
        "outputId": "f82d94a3-900b-41ee-e66e-4d5af96eca58"
      },
      "execution_count": null,
      "outputs": [
        {
          "output_type": "stream",
          "name": "stdout",
          "text": [
            "Train accuracy 0.2152395915161037\n",
            "Test accuracy 0.2154372252076209\n",
            "Train MAE 3.9988216810683426\n",
            "Test MAE 3.94333170493405\n"
          ]
        }
      ]
    },
    {
      "cell_type": "markdown",
      "source": [
        "K-Nearest Neighbors"
      ],
      "metadata": {
        "id": "yu_LtyjI5HIc"
      }
    },
    {
      "cell_type": "code",
      "source": [
        "from sklearn.neighbors import KNeighborsClassifier\n",
        "\n",
        "knn = KNeighborsClassifier(\n",
        "    n_neighbors = 37,\n",
        "    algorithm = 'auto',\n",
        "    weights = 'uniform')\n",
        "\n",
        "knn.fit(X_train_scaled,y_train)\n",
        "\n",
        "print(\"Train accuracy \" + str(metrics.accuracy_score(knn.predict(X_train_scaled),y_train)))\n",
        "print(\"Test accuracy \" + str(metrics.accuracy_score(knn.predict(X_test_scaled),y_test)))\n",
        "print(\"Train MAE \" + str(metrics.mean_absolute_error(knn.predict(X_train_scaled),y_train)))\n",
        "print(\"Test MAE \" + str(metrics.mean_absolute_error(knn.predict(X_test_scaled),y_test)))\n",
        "\n",
        "train_acc.append(metrics.accuracy_score(knn.predict(X_train_scaled), y_train))\n",
        "test_acc.append(metrics.accuracy_score(knn.predict(X_test_scaled), y_test))"
      ],
      "metadata": {
        "colab": {
          "base_uri": "https://localhost:8080/"
        },
        "id": "2-CjUZ391Ag3",
        "outputId": "f50adea2-0297-4b80-eaa6-8d02888227b8"
      },
      "execution_count": null,
      "outputs": [
        {
          "output_type": "stream",
          "name": "stdout",
          "text": [
            "Train accuracy 0.2541241162608013\n",
            "Test accuracy 0.20517830972154372\n",
            "Train MAE 3.3289473684210527\n",
            "Test MAE 3.4982901807523206\n"
          ]
        }
      ]
    },
    {
      "cell_type": "markdown",
      "source": [
        "Neural Network"
      ],
      "metadata": {
        "id": "1X_P-XWR5Dfv"
      }
    },
    {
      "cell_type": "code",
      "source": [
        "from sklearn import neural_network\n",
        "\n",
        "mlp = neural_network.MLPClassifier(\n",
        "    learning_rate='adaptive',\n",
        "    activation='identity',\n",
        "    hidden_layer_sizes = (512, 512))\n",
        "\n",
        "mlp.fit(X_train,y_train)\n",
        "\n",
        "print(\"Train accuracy \" + str(metrics.accuracy_score(mlp.predict(X_train_scaled),y_train)))\n",
        "print(\"Test accuracy \" + str(metrics.accuracy_score(mlp.predict(X_test_scaled),y_test)))\n",
        "print(\"Train MAE \" + str(metrics.mean_absolute_error(mlp.predict(X_train_scaled),y_train)))\n",
        "print(\"Test MAE \" + str(metrics.mean_absolute_error(mlp.predict(X_test_scaled),y_test)))\n",
        "\n",
        "train_acc.append(metrics.accuracy_score(mlp.predict(X_train_scaled), y_train))\n",
        "test_acc.append(metrics.accuracy_score(mlp.predict(X_test_scaled), y_test))"
      ],
      "metadata": {
        "colab": {
          "base_uri": "https://localhost:8080/"
        },
        "id": "m9tgErmN1A0N",
        "outputId": "0690ec3c-431e-4690-d345-81cf6e8b9aa0"
      },
      "execution_count": null,
      "outputs": [
        {
          "output_type": "stream",
          "name": "stdout",
          "text": [
            "Train accuracy 0.16064414768263943\n",
            "Test accuracy 0.14118221787982413\n",
            "Train MAE 3.624901806755695\n",
            "Test MAE 3.7401074743527114\n"
          ]
        }
      ]
    },
    {
      "cell_type": "markdown",
      "source": [
        "Multiclass SVM"
      ],
      "metadata": {
        "id": "8L7xwUZi5QOs"
      }
    },
    {
      "cell_type": "code",
      "source": [
        "from sklearn.svm import SVC\n",
        "\n",
        "svm = SVC(gamma='scale',\n",
        "          kernel = 'poly',\n",
        "          max_iter = 100,\n",
        "          C = 0.0004)\n",
        "\n",
        "svm.fit(X_train_scaled, y_train)\n",
        "\n",
        "from sklearn import metrics\n",
        "print(\"Train accuracy \" + str(metrics.accuracy_score(svm.predict(X_train_scaled),y_train)))\n",
        "print(\"Test accuracy \" + str(metrics.accuracy_score(svm.predict(X_test_scaled),y_test)))\n",
        "print(\"Train MAE \" + str(metrics.mean_absolute_error(svm.predict(X_train_scaled),y_train)))\n",
        "print(\"Test MAE \" + str(metrics.mean_absolute_error(svm.predict(X_test_scaled),y_test)))\n",
        "\n",
        "train_acc.append(metrics.accuracy_score(svm.predict(X_train_scaled), y_train))\n",
        "test_acc.append(metrics.accuracy_score(svm.predict(X_test_scaled), y_test))"
      ],
      "metadata": {
        "colab": {
          "base_uri": "https://localhost:8080/"
        },
        "id": "85yK66cC1BVd",
        "outputId": "9a31e1a6-00b0-45c2-8a4d-9f6347342fb2"
      },
      "execution_count": null,
      "outputs": [
        {
          "output_type": "stream",
          "name": "stderr",
          "text": [
            "/usr/local/lib/python3.7/dist-packages/sklearn/svm/_base.py:289: ConvergenceWarning: Solver terminated early (max_iter=100).  Consider pre-processing your data with StandardScaler or MinMaxScaler.\n",
            "  ConvergenceWarning,\n"
          ]
        },
        {
          "output_type": "stream",
          "name": "stdout",
          "text": [
            "Train accuracy 0.21445404556166536\n",
            "Test accuracy 0.21201758671226184\n",
            "Train MAE 3.9738805970149254\n",
            "Test MAE 3.9340498290180754\n"
          ]
        }
      ]
    },
    {
      "cell_type": "code",
      "source": [
        "import matplotlib.pyplot as plt\n",
        "\n",
        "labels = ['Logistic Regression', 'Random Forest', 'KNN', 'SVM', 'Neural Network']\n",
        "fig = plt.figure(figsize=(8, 5))\n",
        "plt.title(\"Training Acuracies for STS Experimentation\")\n",
        "plt.bar(labels, train_acc, width = 0.5)\n",
        "plt.show()\n",
        "\n",
        "fig = plt.figure(figsize=(8, 5))\n",
        "plt.title(\"Testing Acuracies for STS Experimentation\")\n",
        "plt.bar(labels, test_acc, width = 0.5, color = 'g')\n",
        "plt.show()\n"
      ],
      "metadata": {
        "colab": {
          "base_uri": "https://localhost:8080/",
          "height": 655
        },
        "id": "GyobZW33WpiR",
        "outputId": "d6c72284-429b-4e7f-ebb9-c8b1eaf8f268"
      },
      "execution_count": null,
      "outputs": [
        {
          "output_type": "display_data",
          "data": {
            "image/png": "[encoded data removed]",
            "text/plain": [
              "<Figure size 576x360 with 1 Axes>"
            ]
          },
          "metadata": {
            "needs_background": "light"
          }
        },
        {
          "output_type": "display_data",
          "data": {
            "image/png": "[encoded data removed]",
            "text/plain": [
              "<Figure size 576x360 with 1 Axes>"
            ]
          },
          "metadata": {
            "needs_background": "light"
          }
        }
      ]
    },
    {
      "cell_type": "markdown",
      "source": [
        "# Model Analysis: Subset Testing"
      ],
      "metadata": {
        "id": "cS_NXMHr60Gq"
      }
    },
    {
      "cell_type": "markdown",
      "source": [
        "The final model selected was Logistic Regression, calculated by averaging the highest test accuracy outputted by a model trained on all three embedding types (RoBERTa, SRoBERTa, Coherency)\n",
        "\n",
        "In order to analyze which subsets of data our model performed the best/worst on, we filtered by how the machine-generated text was created (gpt2, gpt2-xl, finetuned) and what the source of the human-written text was included (New York Times, Reddit Short Stories, Recipes)\n",
        "\n",
        "The code below shows text generated by gpt2-xl using recipes as a prompt"
      ],
      "metadata": {
        "id": "ljgzSyi566C7"
      }
    },
    {
      "cell_type": "code",
      "source": [
        "df_train_model = df_train[df_train['model'] == 'gpt2-xl']\n",
        "df_test_model = df_test[df_test['model'] == 'gpt2-xl']\n",
        "print(len(df_train_model))\n",
        "\n",
        "df_train_p = df_train_model[df_train_model['dec_strat_value'] == 0.4]\n",
        "df_test_p = df_test_model[df_test_model['dec_strat_value'] == 0.4]\n",
        "print(len(df_train_p))\n",
        "\n",
        "df_train_domain = df_train_p[df_train_p['dataset'] == 'Recipes']\n",
        "df_test_domain = df_test_p[df_test_p['dataset'] == 'Recipes']\n",
        "print(len(df_train_domain))"
      ],
      "metadata": {
        "colab": {
          "base_uri": "https://localhost:8080/"
        },
        "id": "FoCCaFv48Ytu",
        "outputId": "c8760ee8-6eab-46e0-fcd1-f5b369958cef"
      },
      "execution_count": null,
      "outputs": [
        {
          "output_type": "stream",
          "name": "stdout",
          "text": [
            "2459\n",
            "1574\n",
            "1111\n"
          ]
        }
      ]
    },
    {
      "cell_type": "markdown",
      "source": [
        "We also experimented with in-domain vs. out-of-domain training and how that impacted prediction accuracy"
      ],
      "metadata": {
        "id": "K_DcLFku8lyJ"
      }
    },
    {
      "cell_type": "code",
      "source": [
        "embeddings = True\n",
        "in_domain = True\n",
        "\n",
        "if(embeddings):\n",
        "  if(in_domain):\n",
        "    X_train = np.stack(df_train_domain['embeddings'])\n",
        "    X_test = np.stack(df_test_domain['embeddings'])\n",
        "  else:\n",
        "    X_train = np.stack(df_train['embeddings'])\n",
        "    X_test = np.stack(df_test_domain['embeddings'])\n",
        "else:\n",
        "  if(in_domain):\n",
        "    X_train = np.stack(df_train_domain['coherency'])\n",
        "    X_test = np.stack(df_test_domain['coherency'])\n",
        "  else:\n",
        "    X_train = np.stack(df_train['coherency'])\n",
        "    X_test = np.stack(df_test_domain['coherency'])\n",
        "\n",
        "if(in_domain):\n",
        "  y_train = np.stack(df_train_domain['true_boundary_index'])\n",
        "  y_test = np.stack(df_test_domain['true_boundary_index'])\n",
        "else:\n",
        "  y_train = np.stack(df_train['true_boundary_index'])\n",
        "  y_test = np.stack(df_test_domain['true_boundary_index'])"
      ],
      "metadata": {
        "id": "iKY974CQ647d"
      },
      "execution_count": null,
      "outputs": []
    },
    {
      "cell_type": "markdown",
      "source": [
        "# Swaraj Vatsa RoBERTa Classifier Experimentation"
      ],
      "metadata": {
        "id": "_iZhfqJcrqfM"
      }
    },
    {
      "cell_type": "code",
      "source": [
        "# from google.colab import drive\n",
        "# drive.mount('/content/drive')\n",
        "import pandas as pd\n",
        "df = pd.read_csv('/content/drive/MyDrive/566/data.csv')\n",
        "df = df.fillna('')\n",
        "df_orig = df.copy()\n",
        "df = df.drop_duplicates(subset='generation')\n",
        "df['full_text'] = df['prompt_body'] + \"_SEP_\" + df['gen_body']\n",
        "df = df[df.apply(lambda x: len(x['full_text'].split(\"_SEP_\")) >= 10,axis=1)]"
      ],
      "metadata": {
        "id": "Ru_xYbrs9SeA"
      },
      "execution_count": null,
      "outputs": []
    },
    {
      "cell_type": "markdown",
      "source": [
        "Train/test split, initial data prep."
      ],
      "metadata": {
        "id": "jnmkF3AEthPG"
      }
    },
    {
      "cell_type": "code",
      "source": [
        "import numpy as np\n",
        "from sklearn.model_selection import train_test_split\n",
        "\n",
        "df_train, df_val_test = train_test_split(df,test_size=0.2, random_state=42069)\n",
        "df_val, df_test = train_test_split(df_val_test, test_size=0.5,random_state=42069)\n",
        "\n",
        "# data_train_embedded = np.load('/content/drive/Shareddrives/CSCI566 Final Project/data_train_embedded.npy') \n",
        "# data_val_embedded = np.load('/content/drive/Shareddrives/CSCI566 Final Project/data_val_embedded.npy') \n",
        "# data_test_embedded = np.load('/content/drive/Shareddrives/CSCI566 Final Project/data_test_embedded.npy') \n",
        "\n",
        "df_train['embedded'] = data_train_embedded.tolist()\n",
        "df_val['embedded'] = data_val_embedded.tolist()\n",
        "df_test['embedded'] = data_test_embedded.tolist()\n",
        "\n",
        "del data_train_embedded\n",
        "del data_test_embedded\n",
        "del data_val_embedded\n",
        "\n",
        "df_train = df_train.drop_duplicates(subset='prompt')\n",
        "df_test = df_test.drop_duplicates(subset='prompt')\n",
        "df_val = df_val.drop_duplicates(subset='prompt')"
      ],
      "metadata": {
        "id": "jHIPmk76Gpq7"
      },
      "execution_count": null,
      "outputs": []
    },
    {
      "cell_type": "markdown",
      "source": [
        "`subset` takes a subset of a dataframe with the given parameters, `get_train_test` gets the subsets of the traininng and test data with those parameters."
      ],
      "metadata": {
        "id": "PU0Xc-QiJ2ll"
      }
    },
    {
      "cell_type": "code",
      "source": [
        "#domain: \"New York Times\", \"Short Stories\", \"Recipes\"\n",
        "#model: \"gpt2\", \"gpt2-xl\", \"finetuned\"\n",
        "#top_p: 0.0, 0.4, 1.0\n",
        "\n",
        "def subset(df, domain, model, top_p):\n",
        "  df_filtered = df[df['dec_strat_value'] == top_p]\n",
        "  df_filtered = df_filtered[df_filtered[\"model\"] == model]\n",
        "  df_filtered = df_filtered[df_filtered[\"dataset\"] == domain]\n",
        "  return df_filtered\n",
        "\n",
        "def get_train_test(domain,model,top_p,tset):\n",
        "  df_test_filtered = subset(df_test,domain,model,top_p)\n",
        "  if tset == \"ID\":\n",
        "    df_train_filtered = subset(df_train,domain,model,top_p)\n",
        "  elif tset == \"OOD\":\n",
        "    df_train_filtered = df_train.copy()\n",
        "  else:\n",
        "    raise Exception(\"Need tset = ID or OOD\")\n",
        "\n",
        "  X_train = np.stack(np.array(df_train_filtered['embedded']))\n",
        "  y_train = np.array(df_train_filtered['true_boundary_index'])\n",
        "  X_test = np.stack(np.array(df_test_filtered['embedded']))\n",
        "  y_test = np.array(df_test_filtered['true_boundary_index'])\n",
        "\n",
        "  return X_train, y_train, X_test,y_test\n"
      ],
      "metadata": {
        "id": "oF4Os8lEH4KJ"
      },
      "execution_count": null,
      "outputs": []
    },
    {
      "cell_type": "markdown",
      "source": [
        "Train and fit a logistic regression!"
      ],
      "metadata": {
        "id": "iaghF7iPLowM"
      }
    },
    {
      "cell_type": "code",
      "source": [
        "domain = \"New York Times\"\n",
        "model = \"gpt2-xl\"\n",
        "top_p = 1.0\n",
        "tset = \"OOD\"\n",
        "\n",
        "X_train, y_train, X_test,y_test = get_train_test(domain,model,top_p,tset)\n",
        "\n",
        "from sklearn.preprocessing import StandardScaler\n",
        "from sklearn import linear_model\n",
        "from sklearn import metrics\n",
        "\n",
        "scaler = StandardScaler()  \n",
        "scaler.fit(X_train)\n",
        "X_train_scaled = scaler.transform(X_train)  \n",
        "X_test_scaled = scaler.transform(X_test)\n",
        "\n",
        "lr = linear_model.LogisticRegression(\n",
        "  penalty='l2',\n",
        "  random_state=42069,\n",
        "  multi_class='multinomial',\n",
        "  max_iter = 200\n",
        ")\n",
        "\n",
        "lr.fit(X_train_scaled,y_train)\n",
        "acc = metrics.accuracy_score(lr.predict(X_test_scaled),y_test)\n",
        "print(\"Test accuracy: \" + str(acc))"
      ],
      "metadata": {
        "colab": {
          "base_uri": "https://localhost:8080/"
        },
        "id": "47xFetrlIRnS",
        "outputId": "0f0922ca-7377-4c42-902b-8a9be9b58a9e"
      },
      "execution_count": null,
      "outputs": [
        {
          "output_type": "stream",
          "name": "stdout",
          "text": [
            "Test accuracy: 0.5517241379310345\n"
          ]
        },
        {
          "output_type": "stream",
          "name": "stderr",
          "text": [
            "/usr/local/lib/python3.9/dist-packages/sklearn/linear_model/_logistic.py:458: ConvergenceWarning: lbfgs failed to converge (status=1):\n",
            "STOP: TOTAL NO. of ITERATIONS REACHED LIMIT.\n",
            "\n",
            "Increase the number of iterations (max_iter) or scale the data as shown in:\n",
            "    https://scikit-learn.org/stable/modules/preprocessing.html\n",
            "Please also refer to the documentation for alternative solver options:\n",
            "    https://scikit-learn.org/stable/modules/linear_model.html#logistic-regression\n",
            "  n_iter_i = _check_optimize_result(\n"
          ]
        }
      ]
    },
    {
      "cell_type": "markdown",
      "source": [
        "KNN"
      ],
      "metadata": {
        "id": "NYNp4K44srWA"
      }
    },
    {
      "cell_type": "code",
      "source": [
        "from sklearn import neighbors\n",
        "from sklearn import metrics\n",
        "\n",
        "domain = \"New York Times\"\n",
        "model = \"gpt2-xl\"\n",
        "top_p = 0.4\n",
        "tset = \"OOD\"\n",
        "\n",
        "X_train, y_train, X_test,y_test = get_train_test(domain,model,top_p,tset)\n",
        "\n",
        "Ks = [1,3,5,10,20,50]\n",
        "\n",
        "\n",
        "for K in Ks:\n",
        "  lr = neighbors.KNeighborsClassifier(\n",
        "    n_neighbors=K,\n",
        "  )\n",
        "  lr.fit(X_train,y_train)\n",
        "\n",
        "  print(\"K=\" + str(K))\n",
        "  print(\"Train acc: \" + str(metrics.accuracy_score(lr.predict(X_train),y_train)))\n",
        "  print(\"Test acc: \" + str(metrics.accuracy_score(lr.predict(X_test),y_test)))"
      ],
      "metadata": {
        "id": "Zzq4KoVmsyKY",
        "colab": {
          "base_uri": "https://localhost:8080/"
        },
        "outputId": "62f590f5-1c87-4137-d298-edf662fb54da"
      },
      "execution_count": null,
      "outputs": [
        {
          "output_type": "stream",
          "name": "stdout",
          "text": [
            "K=1\n",
            "Train acc: 1.0\n",
            "Test acc: 0.2777777777777778\n",
            "K=3\n",
            "Train acc: 0.5232118758434547\n",
            "Test acc: 0.1388888888888889\n",
            "K=5\n",
            "Train acc: 0.46396761133603237\n",
            "Test acc: 0.08333333333333333\n",
            "K=10\n",
            "Train acc: 0.3707152496626181\n",
            "Test acc: 0.1111111111111111\n",
            "K=20\n",
            "Train acc: 0.33589743589743587\n",
            "Test acc: 0.08333333333333333\n",
            "K=50\n",
            "Train acc: 0.2844804318488529\n",
            "Test acc: 0.08333333333333333\n"
          ]
        }
      ]
    },
    {
      "cell_type": "markdown",
      "source": [
        "Multi-layer perceptron"
      ],
      "metadata": {
        "id": "Lo0d0m0nt_M_"
      }
    },
    {
      "cell_type": "code",
      "source": [
        "from sklearn import neural_network\n",
        "from sklearn.preprocessing import StandardScaler  \n",
        "from sklearn import metrics\n",
        "\n",
        "scaler = StandardScaler()  \n",
        "scaler.fit(X_train)\n",
        "X_train_scaled = scaler.transform(X_train)  \n",
        "X_test_scaled = scaler.transform(X_test)\n",
        "\n",
        "\n",
        "mlp = neural_network.MLPClassifier(\n",
        "    learning_rate='adaptive'\n",
        ")\n",
        "mlp.fit(X_train,y_train)\n",
        "\n",
        "print(\"Train accuracy \" + str(metrics.accuracy_score(mlp.predict(X_train),y_train)))\n",
        "print(\"Test accuracy \" + str(metrics.accuracy_score(mlp.predict(X_test),y_test)))"
      ],
      "metadata": {
        "id": "p_ifYwoyt-s1",
        "colab": {
          "base_uri": "https://localhost:8080/"
        },
        "outputId": "d21dbd0d-77de-4995-dec1-cda47597ef0d"
      },
      "execution_count": null,
      "outputs": [
        {
          "output_type": "stream",
          "name": "stderr",
          "text": [
            "/usr/local/lib/python3.9/dist-packages/sklearn/neural_network/_multilayer_perceptron.py:686: ConvergenceWarning: Stochastic Optimizer: Maximum iterations (200) reached and the optimization hasn't converged yet.\n",
            "  warnings.warn(\n"
          ]
        },
        {
          "output_type": "stream",
          "name": "stdout",
          "text": [
            "Train accuracy 1.0\n",
            "Test accuracy 0.4166666666666667\n"
          ]
        }
      ]
    },
    {
      "cell_type": "markdown",
      "source": [
        "# Swaraj Vatsa SRoBERTa Classifier"
      ],
      "metadata": {
        "id": "a50gfvNYTHOr"
      }
    },
    {
      "cell_type": "code",
      "source": [
        "from google.colab import drive\n",
        "import pandas as pd\n",
        "import numpy as np\n",
        "\n",
        "drive.mount('/content/drive')\n",
        "df = pd.read_csv('/content/drive/MyDrive/566/data.csv')"
      ],
      "metadata": {
        "colab": {
          "base_uri": "https://localhost:8080/"
        },
        "id": "YTTarKUkTNzr",
        "outputId": "10ecd79f-1be4-41eb-8dac-27e517776612"
      },
      "execution_count": null,
      "outputs": [
        {
          "output_type": "stream",
          "name": "stdout",
          "text": [
            "Drive already mounted at /content/drive; to attempt to forcibly remount, call drive.mount(\"/content/drive\", force_remount=True).\n"
          ]
        }
      ]
    },
    {
      "cell_type": "code",
      "source": [
        "df = df.drop_duplicates(subset='generation')\n",
        "df = df.fillna('')\n",
        "df['full_text'] = df['prompt_body'] + \"_SEP_\" + df['gen_body']\n",
        "df = df[df.apply(lambda x: len(x['full_text'].split(\"_SEP_\")) >= 10,axis=1)]"
      ],
      "metadata": {
        "id": "8XYGYsBWTUfy"
      },
      "execution_count": null,
      "outputs": []
    },
    {
      "cell_type": "code",
      "source": [
        "from sklearn.model_selection import train_test_split\n",
        "\n",
        "df_train, df_val_test = train_test_split(df,test_size=0.2, random_state=42069)\n",
        "df_val, df_test = train_test_split(df_val_test, test_size=0.5,random_state=42069)\n",
        "\n",
        "data_train = np.array(df_train['full_text'])\n",
        "data_val = np.array(df_val['full_text'])\n",
        "data_test = np.array(df_test['full_text'])"
      ],
      "metadata": {
        "id": "m6JMP9G2TXYX"
      },
      "execution_count": null,
      "outputs": []
    },
    {
      "cell_type": "code",
      "source": [
        "!pip install sentence-transformers"
      ],
      "metadata": {
        "id": "KNFoXds4Tdsq"
      },
      "execution_count": null,
      "outputs": []
    },
    {
      "cell_type": "code",
      "source": [
        "from sentence_transformers import SentenceTransformer\n",
        "\n",
        "model = SentenceTransformer('paraphrase-distilroberta-base-v2')\n",
        "\n",
        "device = torch.device('cuda:0')\n",
        "model.to(device)"
      ],
      "metadata": {
        "colab": {
          "base_uri": "https://localhost:8080/"
        },
        "id": "1J0oq_FPT2s-",
        "outputId": "04cf787d-6f7f-438b-e148-ed6b1d1c6c1c"
      },
      "execution_count": null,
      "outputs": [
        {
          "output_type": "execute_result",
          "data": {
            "text/plain": [
              "SentenceTransformer(\n",
              "  (0): Transformer({'max_seq_length': 256, 'do_lower_case': False}) with Transformer model: RobertaModel \n",
              "  (1): Pooling({'word_embedding_dimension': 768, 'pooling_mode_cls_token': False, 'pooling_mode_mean_tokens': True, 'pooling_mode_max_tokens': False, 'pooling_mode_mean_sqrt_len_tokens': False})\n",
              ")"
            ]
          },
          "metadata": {},
          "execution_count": 73
        }
      ]
    },
    {
      "cell_type": "code",
      "source": [
        "def embed(long_sentence):\n",
        "\n",
        "  max_seq_length = model.get_max_seq_length()\n",
        "\n",
        "  segments = []\n",
        "  for i in range(0, len(long_sentence), max_seq_length):\n",
        "      segment = long_sentence[i:i+max_seq_length]\n",
        "      segments.append(segment)\n",
        "\n",
        "  if(len(segments) == 0):\n",
        "    segments = [\"the end\"]\n",
        "  segment_embeddings = []\n",
        "\n",
        "  for segment in segments:\n",
        "      if(len(segment)>0):\n",
        "        segment_embedding = model.encode(segment)\n",
        "        segment_embeddings.append(segment_embedding)\n",
        "\n",
        "  long_sentence_embedding = np.mean(segment_embeddings, axis=0)\n",
        "  return long_sentence_embedding  "
      ],
      "metadata": {
        "id": "WuMP_ygIT0NS"
      },
      "execution_count": null,
      "outputs": []
    },
    {
      "cell_type": "code",
      "source": [
        "def embed_datum(datum):\n",
        "  return np.concatenate(np.vectorize(embed,otypes=[np.ndarray])(datum.split(\"_SEP_\")[0:10]))"
      ],
      "metadata": {
        "id": "Vn4lWznyTj53"
      },
      "execution_count": null,
      "outputs": []
    },
    {
      "cell_type": "code",
      "source": [
        "from tqdm import tqdm\n",
        "data_train_embedded = []\n",
        "for text in tqdm(data_train):\n",
        "  vec = np.array(embed_datum(text))\n",
        "  data_train_embedded.append(vec)\n",
        "data_train_embedded = np.stack(np.array(data_train_embedded))\n",
        "\n",
        "data_test_embedded = []\n",
        "for text in tqdm(data_test):\n",
        "  vec = np.array(embed_datum(text))\n",
        "  data_test_embedded.append(vec)\n",
        "data_test_embedded = np.array(data_test_embedded)\n",
        "\n",
        "data_val_embedded = []\n",
        "for text in tqdm(data_val):\n",
        "  vec = np.array(embed_datum(text))\n",
        "  data_val_embedded.append(vec)\n",
        "data_val_embedded = np.array(data_val_embedded)"
      ],
      "metadata": {
        "colab": {
          "base_uri": "https://localhost:8080/"
        },
        "id": "8GIFl2KkUQ6Y",
        "outputId": "0314ca73-ee22-4e28-9b88-ee139e0d2958"
      },
      "execution_count": null,
      "outputs": [
        {
          "output_type": "stream",
          "name": "stderr",
          "text": [
            "100%|██████████| 7571/7571 [11:42<00:00, 10.77it/s]\n",
            "100%|██████████| 947/947 [01:26<00:00, 11.00it/s]\n",
            "100%|██████████| 946/946 [01:27<00:00, 10.87it/s]\n"
          ]
        }
      ]
    },
    {
      "cell_type": "code",
      "source": [
        "# from google.colab import drive\n",
        "# drive.mount('/content/drive')\n",
        "import pandas as pd\n",
        "df = pd.read_csv('/content/drive/MyDrive/566/data.csv')\n",
        "df = df.fillna('')\n",
        "df_orig = df.copy()\n",
        "df = df.drop_duplicates(subset='generation')\n",
        "df['full_text'] = df['prompt_body'] + \"_SEP_\" + df['gen_body']\n",
        "df = df[df.apply(lambda x: len(x['full_text'].split(\"_SEP_\")) >= 10,axis=1)]"
      ],
      "metadata": {
        "id": "x5eQ7AGNUxpU"
      },
      "execution_count": null,
      "outputs": []
    },
    {
      "cell_type": "code",
      "source": [
        "import numpy as np\n",
        "from sklearn.model_selection import train_test_split\n",
        "\n",
        "df_train, df_val_test = train_test_split(df,test_size=0.2, random_state=42069)\n",
        "df_val, df_test = train_test_split(df_val_test, test_size=0.5,random_state=42069)\n",
        "\n",
        "# data_train_embedded = np.load('/content/drive/Shareddrives/CSCI566 Final Project/data_train_embedded.npy') \n",
        "# data_val_embedded = np.load('/content/drive/Shareddrives/CSCI566 Final Project/data_val_embedded.npy') \n",
        "# data_test_embedded = np.load('/content/drive/Shareddrives/CSCI566 Final Project/data_test_embedded.npy') \n",
        "\n",
        "df_train['embedded'] = data_train_embedded.tolist()\n",
        "df_val['embedded'] = data_val_embedded.tolist()\n",
        "df_test['embedded'] = data_test_embedded.tolist()\n",
        "\n",
        "del data_train_embedded\n",
        "del data_test_embedded\n",
        "del data_val_embedded\n",
        "\n",
        "df_train = df_train.drop_duplicates(subset='prompt')\n",
        "df_test = df_test.drop_duplicates(subset='prompt')\n",
        "df_val = df_val.drop_duplicates(subset='prompt')"
      ],
      "metadata": {
        "id": "4SwIzTqMU0Ib"
      },
      "execution_count": null,
      "outputs": []
    },
    {
      "cell_type": "code",
      "source": [
        "#domain: \"New York Times\", \"Short Stories\", \"Recipes\"\n",
        "#model: \"gpt2\", \"gpt2-xl\", \"finetuned\"\n",
        "#top_p: 0.0, 0.4, 1.0\n",
        "\n",
        "def subset(df, domain, model, top_p):\n",
        "  df_filtered = df[df['dec_strat_value'] == top_p]\n",
        "  df_filtered = df_filtered[df_filtered[\"model\"] == model]\n",
        "  df_filtered = df_filtered[df_filtered[\"dataset\"] == domain]\n",
        "  return df_filtered\n",
        "\n",
        "def get_train_test(domain,model,top_p,tset):\n",
        "  df_test_filtered = subset(df_test,domain,model,top_p)\n",
        "  if tset == \"ID\":\n",
        "    df_train_filtered = subset(df_train,domain,model,top_p)\n",
        "  elif tset == \"OOD\":\n",
        "    df_train_filtered = df_train.copy()\n",
        "  else:\n",
        "    raise Exception(\"Need tset = ID or OOD\")\n",
        "\n",
        "  X_train = np.stack(np.array(df_train_filtered['embedded']))\n",
        "  y_train = np.array(df_train_filtered['true_boundary_index'])\n",
        "  X_test = np.stack(np.array(df_test_filtered['embedded']))\n",
        "  y_test = np.array(df_test_filtered['true_boundary_index'])\n",
        "\n",
        "  return X_train, y_train, X_test,y_test\n"
      ],
      "metadata": {
        "id": "-uqhewIAU3IU"
      },
      "execution_count": null,
      "outputs": []
    },
    {
      "cell_type": "code",
      "source": [
        "domain = \"New York Times\"\n",
        "model = \"gpt2-xl\"\n",
        "top_p = 1.0\n",
        "tset = \"OOD\"\n",
        "\n",
        "X_train, y_train, X_test,y_test = get_train_test(domain,model,top_p,tset)\n",
        "\n",
        "from sklearn.preprocessing import StandardScaler\n",
        "from sklearn import linear_model\n",
        "from sklearn import metrics\n",
        "\n",
        "scaler = StandardScaler()  \n",
        "scaler.fit(X_train)\n",
        "X_train_scaled = scaler.transform(X_train)  \n",
        "X_test_scaled = scaler.transform(X_test)\n",
        "\n",
        "lr = linear_model.LogisticRegression(\n",
        "  penalty='l2',\n",
        "  random_state=42069,\n",
        "  multi_class='multinomial',\n",
        "  max_iter = 200\n",
        ")\n",
        "\n",
        "lr.fit(X_train_scaled,y_train)\n",
        "acc = metrics.accuracy_score(lr.predict(X_test_scaled),y_test)\n",
        "print(\"Test accuracy: \" + str(acc))"
      ],
      "metadata": {
        "colab": {
          "base_uri": "https://localhost:8080/"
        },
        "id": "cj2NviW0U63q",
        "outputId": "6f4b12b3-8ed8-4203-ea9a-1eb216df4309"
      },
      "execution_count": null,
      "outputs": [
        {
          "output_type": "stream",
          "name": "stdout",
          "text": [
            "Test accuracy: 0.4482758620689655\n"
          ]
        },
        {
          "output_type": "stream",
          "name": "stderr",
          "text": [
            "/usr/local/lib/python3.9/dist-packages/sklearn/linear_model/_logistic.py:458: ConvergenceWarning: lbfgs failed to converge (status=1):\n",
            "STOP: TOTAL NO. of ITERATIONS REACHED LIMIT.\n",
            "\n",
            "Increase the number of iterations (max_iter) or scale the data as shown in:\n",
            "    https://scikit-learn.org/stable/modules/preprocessing.html\n",
            "Please also refer to the documentation for alternative solver options:\n",
            "    https://scikit-learn.org/stable/modules/linear_model.html#logistic-regression\n",
            "  n_iter_i = _check_optimize_result(\n"
          ]
        }
      ]
    },
    {
      "cell_type": "code",
      "source": [
        "from sklearn import neighbors\n",
        "from sklearn import metrics\n",
        "\n",
        "domain = \"New York Times\"\n",
        "model = \"gpt2-xl\"\n",
        "top_p = 0.4\n",
        "tset = \"OOD\"\n",
        "\n",
        "X_train, y_train, X_test,y_test = get_train_test(domain,model,top_p,tset)\n",
        "\n",
        "Ks = [1,3,5,10,20,50]\n",
        "\n",
        "\n",
        "for K in Ks:\n",
        "  lr = neighbors.KNeighborsClassifier(\n",
        "    n_neighbors=K,\n",
        "  )\n",
        "  lr.fit(X_train,y_train)\n",
        "\n",
        "  print(\"K=\" + str(K))\n",
        "  print(\"Train acc: \" + str(metrics.accuracy_score(lr.predict(X_train),y_train)))\n",
        "  print(\"Test acc: \" + str(metrics.accuracy_score(lr.predict(X_test),y_test)))"
      ],
      "metadata": {
        "colab": {
          "base_uri": "https://localhost:8080/"
        },
        "id": "5mJC8bI9U-oA",
        "outputId": "02aa3de9-d6f0-4108-dbcd-2dd4f98934f2"
      },
      "execution_count": null,
      "outputs": [
        {
          "output_type": "stream",
          "name": "stdout",
          "text": [
            "K=1\n",
            "Train acc: 1.0\n",
            "Test acc: 0.25\n",
            "K=3\n",
            "Train acc: 0.4468286099865047\n",
            "Test acc: 0.2222222222222222\n",
            "K=5\n",
            "Train acc: 0.39662618083670714\n",
            "Test acc: 0.08333333333333333\n",
            "K=10\n",
            "Train acc: 0.32564102564102565\n",
            "Test acc: 0.08333333333333333\n",
            "K=20\n",
            "Train acc: 0.2728744939271255\n",
            "Test acc: 0.05555555555555555\n",
            "K=50\n",
            "Train acc: 0.22887989203778678\n",
            "Test acc: 0.027777777777777776\n"
          ]
        }
      ]
    },
    {
      "cell_type": "code",
      "source": [
        "from sklearn import neural_network\n",
        "from sklearn.preprocessing import StandardScaler  \n",
        "from sklearn import metrics\n",
        "\n",
        "scaler = StandardScaler()  \n",
        "scaler.fit(X_train)\n",
        "X_train_scaled = scaler.transform(X_train)  \n",
        "X_test_scaled = scaler.transform(X_test)\n",
        "\n",
        "\n",
        "mlp = neural_network.MLPClassifier(\n",
        "    learning_rate='adaptive'\n",
        ")\n",
        "mlp.fit(X_train,y_train)\n",
        "\n",
        "print(\"Train accuracy \" + str(metrics.accuracy_score(mlp.predict(X_train),y_train)))\n",
        "print(\"Test accuracy \" + str(metrics.accuracy_score(mlp.predict(X_test),y_test)))"
      ],
      "metadata": {
        "colab": {
          "base_uri": "https://localhost:8080/"
        },
        "id": "I4-xe8_eVDTj",
        "outputId": "a93d4f0b-6147-48b0-c64d-8cab627025c1"
      },
      "execution_count": null,
      "outputs": [
        {
          "output_type": "stream",
          "name": "stdout",
          "text": [
            "Train accuracy 1.0\n",
            "Test accuracy 0.4444444444444444\n"
          ]
        }
      ]
    },
    {
      "cell_type": "markdown",
      "source": [
        "# Swaraj Vatsa Perplexity"
      ],
      "metadata": {
        "id": "gajMmAdRfgT5"
      }
    },
    {
      "cell_type": "code",
      "source": [
        "from google.colab import drive\n",
        "drive.mount('/content/drive')\n",
        "import pandas as pd\n",
        "df = pd.read_csv('/content/drive/MyDrive/566/data.csv')\n",
        "df = df.fillna('')\n",
        "df_orig = df.copy()\n",
        "df = df.drop_duplicates(subset='generation')\n",
        "df['full_text'] = df['prompt_body'] + \"_SEP_\" + df['gen_body']\n",
        "df = df[df.apply(lambda x: len(x['full_text'].split(\"_SEP_\")) >= 10,axis=1)]"
      ],
      "metadata": {
        "colab": {
          "base_uri": "https://localhost:8080/"
        },
        "id": "fRy0GEiOfjl6",
        "outputId": "b1d42905-d7be-4704-e0a9-cb8bd678007a"
      },
      "execution_count": null,
      "outputs": [
        {
          "output_type": "stream",
          "name": "stdout",
          "text": [
            "Drive already mounted at /content/drive; to attempt to forcibly remount, call drive.mount(\"/content/drive\", force_remount=True).\n"
          ]
        }
      ]
    },
    {
      "cell_type": "code",
      "source": [
        "df = df[df['dec_strat_value'] == 1.0]\n",
        "df = df[df[\"model\"] == \"gpt2-xl\"]"
      ],
      "metadata": {
        "id": "m6ut0y9dgI5t"
      },
      "execution_count": null,
      "outputs": []
    },
    {
      "cell_type": "code",
      "source": [
        "from sklearn.model_selection import train_test_split\n",
        "import numpy as np\n",
        "\n",
        "df_train, df_val_test = train_test_split(df,test_size=0.2, random_state=42069)\n",
        "df_val, df_test = train_test_split(df_val_test, test_size=0.5,random_state=42069)\n",
        "\n",
        "data_train = np.array(df_train['full_text'])\n",
        "data_val = np.array(df_val['full_text'])\n",
        "data_test = np.array(df_test['full_text'])"
      ],
      "metadata": {
        "id": "zxpybccChDlR"
      },
      "execution_count": null,
      "outputs": []
    },
    {
      "cell_type": "code",
      "source": [
        "!pip install transformers"
      ],
      "metadata": {
        "id": "ihbaL8l5iJdR"
      },
      "execution_count": null,
      "outputs": []
    },
    {
      "cell_type": "code",
      "source": [
        "import torch\n",
        "from transformers import GPT2Tokenizer, GPT2LMHeadModel\n",
        "from tqdm import tqdm\n",
        "\n",
        "# Load GPT-2 XL tokenizer and model\n",
        "tokenizer = GPT2Tokenizer.from_pretrained('gpt2-xl')\n",
        "model = GPT2LMHeadModel.from_pretrained('gpt2-xl')\n",
        "\n",
        "device = torch.device('cuda:0')\n",
        "model.to(device)"
      ],
      "metadata": {
        "id": "i7kn3m1ihLiJ"
      },
      "execution_count": null,
      "outputs": []
    },
    {
      "cell_type": "code",
      "source": [
        "def embed(text):\n",
        "\n",
        "  encodings = tokenizer(text, return_tensors='pt')\n",
        "  max_length = model.config.n_positions\n",
        "  stride = 512\n",
        "  seq_len = encodings.input_ids.size(1)\n",
        "\n",
        "  nlls = []\n",
        "  prev_end_loc = 0\n",
        "  for begin_loc in range(0, seq_len, stride):\n",
        "      end_loc = min(begin_loc + max_length, seq_len)\n",
        "      trg_len = end_loc - prev_end_loc  # may be different from stride on last loop\n",
        "      input_ids = encodings.input_ids[:, begin_loc:end_loc].to(device)\n",
        "      target_ids = input_ids.clone()\n",
        "      target_ids[:, :-trg_len] = -100\n",
        "\n",
        "      with torch.no_grad():\n",
        "          outputs = model(input_ids, labels=target_ids)\n",
        "\n",
        "          # loss is calculated using CrossEntropyLoss which averages over input tokens.\n",
        "          # Multiply it with trg_len to get the summation instead of average.\n",
        "          # We will take average over all the tokens to get the true average\n",
        "          # in the last step of this example.\n",
        "          neg_log_likelihood = outputs.loss * trg_len\n",
        "\n",
        "      nlls.append(neg_log_likelihood)\n",
        "\n",
        "      prev_end_loc = end_loc\n",
        "      if end_loc == seq_len:\n",
        "          break\n",
        "\n",
        "  ppl = torch.exp(torch.stack(nlls).sum() / end_loc)\n",
        "  return ppl.item()"
      ],
      "metadata": {
        "id": "cnh3yE3Kk-mn"
      },
      "execution_count": null,
      "outputs": []
    },
    {
      "cell_type": "code",
      "source": [
        "def embed_datum(datum):\n",
        "  return np.array([embed(text) for text in datum.split(\"_SEP_\")[0:10]])"
      ],
      "metadata": {
        "id": "aOdzsnu_ins5"
      },
      "execution_count": null,
      "outputs": []
    },
    {
      "cell_type": "code",
      "source": [
        "from tqdm import tqdm\n",
        "data_train_embedded = []\n",
        "for text in tqdm(data_train):\n",
        "  vec = np.array(embed_datum(text))\n",
        "  data_train_embedded.append(vec)\n",
        "data_train_embedded = np.stack(np.array(data_train_embedded))\n",
        "\n",
        "data_test_embedded = []\n",
        "for text in tqdm(data_test):\n",
        "  vec = np.array(embed_datum(text))\n",
        "  data_test_embedded.append(vec)\n",
        "data_test_embedded = np.array(data_test_embedded)\n",
        "\n",
        "data_val_embedded = []\n",
        "for text in tqdm(data_val):\n",
        "  vec = np.array(embed_datum(text))\n",
        "  data_val_embedded.append(vec)\n",
        "data_val_embedded = np.array(data_val_embedded)"
      ],
      "metadata": {
        "colab": {
          "base_uri": "https://localhost:8080/"
        },
        "id": "ZQMPe3yJpFtM",
        "outputId": "08f15bf3-82af-48ba-a733-6e9f2d91b6e3"
      },
      "execution_count": null,
      "outputs": [
        {
          "output_type": "stream",
          "name": "stderr",
          "text": [
            "100%|██████████| 452/452 [04:11<00:00,  1.80it/s]\n",
            "100%|██████████| 57/57 [00:31<00:00,  1.82it/s]\n",
            "100%|██████████| 57/57 [00:31<00:00,  1.82it/s]\n"
          ]
        }
      ]
    },
    {
      "cell_type": "code",
      "source": [
        "df_train['embedded'] = data_train_embedded.tolist()\n",
        "df_val['embedded'] = data_val_embedded.tolist()\n",
        "df_test['embedded'] = data_test_embedded.tolist()\n",
        "\n",
        "# del data_train_embedded\n",
        "# del data_test_embedded\n",
        "# del data_val_embedded\n",
        "\n",
        "df_train = df_train.drop_duplicates(subset='prompt')\n",
        "df_test = df_test.drop_duplicates(subset='prompt')\n",
        "df_val = df_val.drop_duplicates(subset='prompt')"
      ],
      "metadata": {
        "id": "JpIpfypmfqf2"
      },
      "execution_count": null,
      "outputs": []
    },
    {
      "cell_type": "code",
      "source": [
        "#domain: \"New York Times\", \"Short Stories\", \"Recipes\"\n",
        "#model: \"gpt2\", \"gpt2-xl\", \"finetuned\"\n",
        "#top_p: 0.0, 0.4, 1.0\n",
        "\n",
        "def subset(df, domain, model, top_p):\n",
        "  df_filtered = df[df['dec_strat_value'] == top_p]\n",
        "  df_filtered = df_filtered[df_filtered[\"model\"] == model]\n",
        "  df_filtered = df_filtered[df_filtered[\"dataset\"] == domain]\n",
        "  return df_filtered\n",
        "\n",
        "def get_train_test(domain,model,top_p,tset):\n",
        "  df_test_filtered = subset(df_test,domain,model,top_p)\n",
        "  if tset == \"ID\":\n",
        "    df_train_filtered = subset(df_train,domain,model,top_p)\n",
        "  elif tset == \"OOD\":\n",
        "    df_train_filtered = df_train.copy()\n",
        "  else:\n",
        "    raise Exception(\"Need tset = ID or OOD\")\n",
        "\n",
        "  X_train = np.stack(np.array(df_train_filtered['embedded']))\n",
        "  y_train = np.array(df_train_filtered['true_boundary_index'])\n",
        "  X_test = np.stack(np.array(df_test_filtered['embedded']))\n",
        "  y_test = np.array(df_test_filtered['true_boundary_index'])\n",
        "\n",
        "  return X_train, y_train, X_test,y_test\n"
      ],
      "metadata": {
        "id": "PszCPDipfxYC"
      },
      "execution_count": null,
      "outputs": []
    },
    {
      "cell_type": "code",
      "source": [
        "X_train_scaled"
      ],
      "metadata": {
        "colab": {
          "base_uri": "https://localhost:8080/"
        },
        "id": "jlu_t6PIq5t9",
        "outputId": "bdb397d9-ad0f-434f-bfe9-4fe5210fe7b9"
      },
      "execution_count": null,
      "outputs": [
        {
          "output_type": "execute_result",
          "data": {
            "text/plain": [
              "array([[-0.38188975, -0.09220293, -0.25325153, ..., -0.06169613,\n",
              "        -0.13196661, -0.30339656],\n",
              "       [ 1.18377131, -0.13576979,  0.16990656, ..., -0.06094052,\n",
              "        -0.14538348, -0.26621495],\n",
              "       [-0.40983644, -0.13628238, -0.43177459, ..., -0.04984398,\n",
              "        -0.14332241, -0.14370506],\n",
              "       ...,\n",
              "       [-0.41266956, -0.07358489,  0.47999966, ..., -0.06160252,\n",
              "        -0.1418148 , -0.28569973],\n",
              "       [-0.33470692, -0.13320882, -0.14893041, ..., -0.0613479 ,\n",
              "        -0.17693883, -0.31043166],\n",
              "       [-0.06276441, -0.01540785,  1.59468606, ..., -0.05985388,\n",
              "        -0.15864677, -0.16071987]])"
            ]
          },
          "metadata": {},
          "execution_count": 40
        }
      ]
    },
    {
      "cell_type": "code",
      "source": [
        "domain = \"New York Times\"\n",
        "model = \"gpt2-xl\"\n",
        "top_p = 1.0\n",
        "tset = \"OOD\"\n",
        "\n",
        "X_train, y_train, X_test,y_test = get_train_test(domain,model,top_p,tset)\n",
        "\n",
        "from sklearn.preprocessing import StandardScaler\n",
        "from sklearn import linear_model\n",
        "from sklearn import metrics\n",
        "\n",
        "X_train = np.where(np.isnan(X_train), 100, X_train)\n",
        "X_test = np.where(np.isnan(X_test), 100, X_test)\n",
        "\n",
        "scaler = StandardScaler()  \n",
        "scaler.fit(X_train)\n",
        "X_train_scaled = scaler.transform(X_train)  \n",
        "X_test_scaled = scaler.transform(X_test)\n",
        "\n",
        "lr = linear_model.LogisticRegression(\n",
        "  penalty='l2',\n",
        "  random_state=42069,\n",
        "  multi_class='multinomial',\n",
        "  max_iter = 200\n",
        ")\n",
        "\n",
        "lr.fit(X_train_scaled,y_train)\n",
        "acc = metrics.accuracy_score(lr.predict(X_test_scaled),y_test)\n",
        "print(\"Test accuracy: \" + str(acc))"
      ],
      "metadata": {
        "colab": {
          "base_uri": "https://localhost:8080/"
        },
        "id": "dOOjOI6Zf2YX",
        "outputId": "587cc3cd-902b-42a1-ec20-aca5f888a1e4"
      },
      "execution_count": null,
      "outputs": [
        {
          "output_type": "stream",
          "name": "stdout",
          "text": [
            "Test accuracy: 0.2631578947368421\n"
          ]
        }
      ]
    },
    {
      "cell_type": "code",
      "source": [
        "from sklearn import neighbors\n",
        "from sklearn import metrics\n",
        "\n",
        "domain = \"New York Times\"\n",
        "model = \"gpt2-xl\"\n",
        "top_p = 1.0\n",
        "tset = \"OOD\"\n",
        "\n",
        "X_train, y_train, X_test,y_test = get_train_test(domain,model,top_p,tset)\n",
        "\n",
        "X_train = np.where(np.isnan(X_train), 100, X_train)\n",
        "X_test = np.where(np.isnan(X_test), 100, X_test)\n",
        "\n",
        "Ks = [1,3,5,10,20,50]\n",
        "\n",
        "\n",
        "for K in Ks:\n",
        "  lr = neighbors.KNeighborsClassifier(\n",
        "    n_neighbors=K,\n",
        "  )\n",
        "  lr.fit(X_train,y_train)\n",
        "\n",
        "  print(\"K=\" + str(K))\n",
        "  print(\"Train acc: \" + str(metrics.accuracy_score(lr.predict(X_train),y_train)))\n",
        "  print(\"Test acc: \" + str(metrics.accuracy_score(lr.predict(X_test),y_test)))"
      ],
      "metadata": {
        "colab": {
          "base_uri": "https://localhost:8080/"
        },
        "id": "_O9P9IZpqW_Z",
        "outputId": "2a9ae750-de06-4e7d-883c-eb8deb00048d"
      },
      "execution_count": null,
      "outputs": [
        {
          "output_type": "stream",
          "name": "stdout",
          "text": [
            "K=1\n",
            "Train acc: 1.0\n",
            "Test acc: 0.2894736842105263\n",
            "K=3\n",
            "Train acc: 0.581858407079646\n",
            "Test acc: 0.2631578947368421\n",
            "K=5\n",
            "Train acc: 0.4646017699115044\n",
            "Test acc: 0.2631578947368421\n",
            "K=10\n",
            "Train acc: 0.39601769911504425\n",
            "Test acc: 0.2894736842105263\n",
            "K=20\n",
            "Train acc: 0.29646017699115046\n",
            "Test acc: 0.2894736842105263\n",
            "K=50\n",
            "Train acc: 0.28761061946902655\n",
            "Test acc: 0.21052631578947367\n"
          ]
        }
      ]
    },
    {
      "cell_type": "code",
      "source": [
        "from sklearn import neural_network\n",
        "from sklearn.preprocessing import StandardScaler  \n",
        "from sklearn import metrics\n",
        "\n",
        "scaler = StandardScaler()  \n",
        "scaler.fit(X_train)\n",
        "X_train_scaled = scaler.transform(X_train)  \n",
        "X_test_scaled = scaler.transform(X_test)\n",
        "\n",
        "\n",
        "mlp = neural_network.MLPClassifier(\n",
        "    learning_rate='adaptive'\n",
        ")\n",
        "mlp.fit(X_train,y_train)\n",
        "\n",
        "print(\"Train accuracy \" + str(metrics.accuracy_score(mlp.predict(X_train),y_train)))\n",
        "print(\"Test accuracy \" + str(metrics.accuracy_score(mlp.predict(X_test),y_test)))"
      ],
      "metadata": {
        "colab": {
          "base_uri": "https://localhost:8080/"
        },
        "id": "3bWU-qKrrkbY",
        "outputId": "1786826c-26a9-4c39-efc6-ea0841c7ff18"
      },
      "execution_count": null,
      "outputs": [
        {
          "output_type": "stream",
          "name": "stdout",
          "text": [
            "Train accuracy 0.4026548672566372\n",
            "Test accuracy 0.23684210526315788\n"
          ]
        }
      ]
    },
    {
      "cell_type": "code",
      "source": [
        "from sklearn.ensemble import RandomForestClassifier\n",
        "clf = RandomForestClassifier(n_estimators=500, random_state=0)\n",
        "clf.fit(X_train, y_train)\n",
        "print(\"Train accuracy \" + str(metrics.accuracy_score(clf.predict(X_train),y_train)))\n",
        "print(\"Test accuracy \" + str(metrics.accuracy_score(clf.predict(X_test),y_test)))"
      ],
      "metadata": {
        "colab": {
          "base_uri": "https://localhost:8080/"
        },
        "id": "R5mkiLjQrucX",
        "outputId": "2c3176a9-bb56-4164-9719-153a1499bda0"
      },
      "execution_count": null,
      "outputs": [
        {
          "output_type": "stream",
          "name": "stdout",
          "text": [
            "Train accuracy 1.0\n",
            "Test accuracy 0.39473684210526316\n"
          ]
        }
      ]
    }
  ]
}